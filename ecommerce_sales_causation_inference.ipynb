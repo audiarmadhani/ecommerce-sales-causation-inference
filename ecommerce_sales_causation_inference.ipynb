{
 "cells": [
  {
   "cell_type": "code",
   "execution_count": 1,
   "metadata": {
    "jupyter": {
     "source_hidden": true
    },
    "scrolled": true
   },
   "outputs": [],
   "source": [
    "import pandas as pd\n",
    "import numpy as np\n",
    "import pandas.api.types as ptypes\n",
    "import matplotlib.pyplot as plt\n",
    "import seaborn as sns\n",
    "\n",
    "from IPython.display import Image, display\n",
    "from dowhy import CausalModel\n",
    "\n",
    "pd.set_option('max_columns', None)"
   ]
  },
  {
   "cell_type": "markdown",
   "metadata": {},
   "source": [
    "### Ecommerce Sales Causation Inference\n",
    "Problem Statement:\n",
    "\n",
    "The data contains checkout data and relevant user information for an e-commerce platform. Using the data provided we are trying to answer the following questions:\n",
    "  1. What factors contribute to users making a purchase? Provide at least the top 2 contributing factors and calculate their potential impact\n",
    "  2. What factors contribute to users generating higher basket amounts? Provide at least the top 2 contributing factors and calculate their potential impact"
   ]
  },
  {
   "cell_type": "markdown",
   "metadata": {},
   "source": [
    "#### Load the data"
   ]
  },
  {
   "cell_type": "code",
   "execution_count": 2,
   "metadata": {},
   "outputs": [],
   "source": [
    "df = pd.read_csv('data.csv')"
   ]
  },
  {
   "cell_type": "code",
   "execution_count": 3,
   "metadata": {},
   "outputs": [
    {
     "data": {
      "text/html": [
       "<div>\n",
       "<style scoped>\n",
       "    .dataframe tbody tr th:only-of-type {\n",
       "        vertical-align: middle;\n",
       "    }\n",
       "\n",
       "    .dataframe tbody tr th {\n",
       "        vertical-align: top;\n",
       "    }\n",
       "\n",
       "    .dataframe thead th {\n",
       "        text-align: right;\n",
       "    }\n",
       "</style>\n",
       "<table border=\"1\" class=\"dataframe\">\n",
       "  <thead>\n",
       "    <tr style=\"text-align: right;\">\n",
       "      <th></th>\n",
       "      <th>user_id</th>\n",
       "      <th>is_new</th>\n",
       "      <th>time</th>\n",
       "      <th>voucher_type</th>\n",
       "      <th>voucher_valid</th>\n",
       "      <th>basket_amount</th>\n",
       "      <th>voucher_max_amount</th>\n",
       "      <th>voucher_percentage</th>\n",
       "      <th>voucher_min_purchase</th>\n",
       "      <th>voucher_amount</th>\n",
       "      <th>trx_is_voucher</th>\n",
       "      <th>is_paid</th>\n",
       "      <th>is_remitted</th>\n",
       "      <th>user_purchased_prior</th>\n",
       "      <th>num_voucher_errors</th>\n",
       "      <th>purchase</th>\n",
       "      <th>province</th>\n",
       "      <th>marketing_tier</th>\n",
       "      <th>user_type</th>\n",
       "      <th>user_group</th>\n",
       "      <th>account_type</th>\n",
       "      <th>referrer_type</th>\n",
       "      <th>account_created_at</th>\n",
       "      <th>user_register_from</th>\n",
       "      <th>sessions</th>\n",
       "      <th>average_session_length</th>\n",
       "      <th>num_visit_promo_page</th>\n",
       "      <th>num_product_types</th>\n",
       "      <th>num_trx</th>\n",
       "      <th>num_trx_voucher</th>\n",
       "      <th>gmv</th>\n",
       "      <th>aov</th>\n",
       "    </tr>\n",
       "  </thead>\n",
       "  <tbody>\n",
       "    <tr>\n",
       "      <th>0</th>\n",
       "      <td>281605921</td>\n",
       "      <td>1</td>\n",
       "      <td>2015-06-12 03:41:44.263000+00:00</td>\n",
       "      <td>NaN</td>\n",
       "      <td>NaN</td>\n",
       "      <td>0.000029</td>\n",
       "      <td>0.0000</td>\n",
       "      <td>0.0</td>\n",
       "      <td>0.00</td>\n",
       "      <td>0.000000</td>\n",
       "      <td>0</td>\n",
       "      <td>0</td>\n",
       "      <td>0</td>\n",
       "      <td>0</td>\n",
       "      <td>0</td>\n",
       "      <td>0</td>\n",
       "      <td>0</td>\n",
       "      <td>tier_2</td>\n",
       "      <td>0</td>\n",
       "      <td>0</td>\n",
       "      <td>0</td>\n",
       "      <td>0</td>\n",
       "      <td>2014-03-23 04:01:30+00:00</td>\n",
       "      <td>0</td>\n",
       "      <td>0.004158</td>\n",
       "      <td>0.001420</td>\n",
       "      <td>0.000000</td>\n",
       "      <td>0.000000</td>\n",
       "      <td>0.000000</td>\n",
       "      <td>0.000000</td>\n",
       "      <td>0.033242</td>\n",
       "      <td>0.155619</td>\n",
       "    </tr>\n",
       "    <tr>\n",
       "      <th>1</th>\n",
       "      <td>281605921</td>\n",
       "      <td>1</td>\n",
       "      <td>2015-06-15 04:11:26.177000+00:00</td>\n",
       "      <td>NaN</td>\n",
       "      <td>NaN</td>\n",
       "      <td>0.000024</td>\n",
       "      <td>0.0000</td>\n",
       "      <td>0.0</td>\n",
       "      <td>0.00</td>\n",
       "      <td>0.000000</td>\n",
       "      <td>0</td>\n",
       "      <td>1</td>\n",
       "      <td>1</td>\n",
       "      <td>0</td>\n",
       "      <td>0</td>\n",
       "      <td>1</td>\n",
       "      <td>0</td>\n",
       "      <td>tier_2</td>\n",
       "      <td>0</td>\n",
       "      <td>0</td>\n",
       "      <td>0</td>\n",
       "      <td>0</td>\n",
       "      <td>2014-03-23 04:01:30+00:00</td>\n",
       "      <td>0</td>\n",
       "      <td>0.004158</td>\n",
       "      <td>0.001420</td>\n",
       "      <td>0.000000</td>\n",
       "      <td>0.000000</td>\n",
       "      <td>0.000000</td>\n",
       "      <td>0.000000</td>\n",
       "      <td>0.033242</td>\n",
       "      <td>0.155619</td>\n",
       "    </tr>\n",
       "    <tr>\n",
       "      <th>2</th>\n",
       "      <td>125302602</td>\n",
       "      <td>0</td>\n",
       "      <td>2015-04-24 14:07:48.720000+00:00</td>\n",
       "      <td>NaN</td>\n",
       "      <td>NaN</td>\n",
       "      <td>0.000164</td>\n",
       "      <td>0.0000</td>\n",
       "      <td>0.0</td>\n",
       "      <td>0.00</td>\n",
       "      <td>0.000000</td>\n",
       "      <td>0</td>\n",
       "      <td>1</td>\n",
       "      <td>1</td>\n",
       "      <td>1</td>\n",
       "      <td>6</td>\n",
       "      <td>1</td>\n",
       "      <td>1</td>\n",
       "      <td>tier_2</td>\n",
       "      <td>1</td>\n",
       "      <td>1</td>\n",
       "      <td>0</td>\n",
       "      <td>1</td>\n",
       "      <td>2013-07-18 07:24:40+00:00</td>\n",
       "      <td>1</td>\n",
       "      <td>0.016450</td>\n",
       "      <td>0.004848</td>\n",
       "      <td>0.006757</td>\n",
       "      <td>0.225806</td>\n",
       "      <td>0.000090</td>\n",
       "      <td>0.016166</td>\n",
       "      <td>0.033882</td>\n",
       "      <td>0.157703</td>\n",
       "    </tr>\n",
       "    <tr>\n",
       "      <th>3</th>\n",
       "      <td>125302602</td>\n",
       "      <td>0</td>\n",
       "      <td>2015-05-04 01:05:09.518000+00:00</td>\n",
       "      <td>1.0</td>\n",
       "      <td>1.0</td>\n",
       "      <td>0.000175</td>\n",
       "      <td>0.0002</td>\n",
       "      <td>1.0</td>\n",
       "      <td>0.01</td>\n",
       "      <td>0.019864</td>\n",
       "      <td>1</td>\n",
       "      <td>1</td>\n",
       "      <td>1</td>\n",
       "      <td>1</td>\n",
       "      <td>6</td>\n",
       "      <td>1</td>\n",
       "      <td>1</td>\n",
       "      <td>tier_2</td>\n",
       "      <td>1</td>\n",
       "      <td>1</td>\n",
       "      <td>0</td>\n",
       "      <td>1</td>\n",
       "      <td>2013-07-18 07:24:40+00:00</td>\n",
       "      <td>1</td>\n",
       "      <td>0.016450</td>\n",
       "      <td>0.004848</td>\n",
       "      <td>0.006757</td>\n",
       "      <td>0.225806</td>\n",
       "      <td>0.000090</td>\n",
       "      <td>0.016166</td>\n",
       "      <td>0.033882</td>\n",
       "      <td>0.157703</td>\n",
       "    </tr>\n",
       "    <tr>\n",
       "      <th>4</th>\n",
       "      <td>125302602</td>\n",
       "      <td>0</td>\n",
       "      <td>2015-05-15 11:18:25.739000+00:00</td>\n",
       "      <td>1.0</td>\n",
       "      <td>1.0</td>\n",
       "      <td>0.000170</td>\n",
       "      <td>0.0002</td>\n",
       "      <td>1.0</td>\n",
       "      <td>0.01</td>\n",
       "      <td>0.019324</td>\n",
       "      <td>1</td>\n",
       "      <td>1</td>\n",
       "      <td>1</td>\n",
       "      <td>1</td>\n",
       "      <td>0</td>\n",
       "      <td>1</td>\n",
       "      <td>1</td>\n",
       "      <td>tier_2</td>\n",
       "      <td>1</td>\n",
       "      <td>1</td>\n",
       "      <td>0</td>\n",
       "      <td>1</td>\n",
       "      <td>2013-07-18 07:24:40+00:00</td>\n",
       "      <td>1</td>\n",
       "      <td>0.016450</td>\n",
       "      <td>0.004848</td>\n",
       "      <td>0.006757</td>\n",
       "      <td>0.225806</td>\n",
       "      <td>0.000090</td>\n",
       "      <td>0.016166</td>\n",
       "      <td>0.033882</td>\n",
       "      <td>0.157703</td>\n",
       "    </tr>\n",
       "    <tr>\n",
       "      <th>...</th>\n",
       "      <td>...</td>\n",
       "      <td>...</td>\n",
       "      <td>...</td>\n",
       "      <td>...</td>\n",
       "      <td>...</td>\n",
       "      <td>...</td>\n",
       "      <td>...</td>\n",
       "      <td>...</td>\n",
       "      <td>...</td>\n",
       "      <td>...</td>\n",
       "      <td>...</td>\n",
       "      <td>...</td>\n",
       "      <td>...</td>\n",
       "      <td>...</td>\n",
       "      <td>...</td>\n",
       "      <td>...</td>\n",
       "      <td>...</td>\n",
       "      <td>...</td>\n",
       "      <td>...</td>\n",
       "      <td>...</td>\n",
       "      <td>...</td>\n",
       "      <td>...</td>\n",
       "      <td>...</td>\n",
       "      <td>...</td>\n",
       "      <td>...</td>\n",
       "      <td>...</td>\n",
       "      <td>...</td>\n",
       "      <td>...</td>\n",
       "      <td>...</td>\n",
       "      <td>...</td>\n",
       "      <td>...</td>\n",
       "      <td>...</td>\n",
       "    </tr>\n",
       "    <tr>\n",
       "      <th>229842</th>\n",
       "      <td>123299082</td>\n",
       "      <td>0</td>\n",
       "      <td>2015-05-24 08:01:40.917000+00:00</td>\n",
       "      <td>NaN</td>\n",
       "      <td>NaN</td>\n",
       "      <td>0.000008</td>\n",
       "      <td>0.0000</td>\n",
       "      <td>0.0</td>\n",
       "      <td>0.00</td>\n",
       "      <td>0.000000</td>\n",
       "      <td>1</td>\n",
       "      <td>1</td>\n",
       "      <td>1</td>\n",
       "      <td>0</td>\n",
       "      <td>4</td>\n",
       "      <td>1</td>\n",
       "      <td>2</td>\n",
       "      <td>tier_2</td>\n",
       "      <td>0</td>\n",
       "      <td>1</td>\n",
       "      <td>0</td>\n",
       "      <td>2</td>\n",
       "      <td>2013-07-14 01:53:12+00:00</td>\n",
       "      <td>1</td>\n",
       "      <td>0.113160</td>\n",
       "      <td>0.000764</td>\n",
       "      <td>0.020270</td>\n",
       "      <td>0.290323</td>\n",
       "      <td>0.001524</td>\n",
       "      <td>0.009238</td>\n",
       "      <td>0.034430</td>\n",
       "      <td>0.155847</td>\n",
       "    </tr>\n",
       "    <tr>\n",
       "      <th>229843</th>\n",
       "      <td>124128885</td>\n",
       "      <td>0</td>\n",
       "      <td>2015-04-12 05:27:18.913000+00:00</td>\n",
       "      <td>NaN</td>\n",
       "      <td>NaN</td>\n",
       "      <td>0.000175</td>\n",
       "      <td>0.0000</td>\n",
       "      <td>0.0</td>\n",
       "      <td>0.00</td>\n",
       "      <td>0.000000</td>\n",
       "      <td>0</td>\n",
       "      <td>1</td>\n",
       "      <td>1</td>\n",
       "      <td>1</td>\n",
       "      <td>0</td>\n",
       "      <td>1</td>\n",
       "      <td>2</td>\n",
       "      <td>tier_1</td>\n",
       "      <td>0</td>\n",
       "      <td>1</td>\n",
       "      <td>0</td>\n",
       "      <td>1</td>\n",
       "      <td>2013-07-15 04:27:35+00:00</td>\n",
       "      <td>1</td>\n",
       "      <td>0.005423</td>\n",
       "      <td>0.006373</td>\n",
       "      <td>0.006757</td>\n",
       "      <td>0.064516</td>\n",
       "      <td>0.000053</td>\n",
       "      <td>0.009238</td>\n",
       "      <td>0.034120</td>\n",
       "      <td>0.160492</td>\n",
       "    </tr>\n",
       "    <tr>\n",
       "      <th>229844</th>\n",
       "      <td>124432258</td>\n",
       "      <td>0</td>\n",
       "      <td>2015-04-14 07:41:30.031000+00:00</td>\n",
       "      <td>NaN</td>\n",
       "      <td>NaN</td>\n",
       "      <td>0.000060</td>\n",
       "      <td>0.0000</td>\n",
       "      <td>0.0</td>\n",
       "      <td>0.00</td>\n",
       "      <td>0.000000</td>\n",
       "      <td>0</td>\n",
       "      <td>1</td>\n",
       "      <td>1</td>\n",
       "      <td>0</td>\n",
       "      <td>0</td>\n",
       "      <td>1</td>\n",
       "      <td>3</td>\n",
       "      <td>tier_1</td>\n",
       "      <td>0</td>\n",
       "      <td>0</td>\n",
       "      <td>0</td>\n",
       "      <td>0</td>\n",
       "      <td>2013-07-15 20:52:43+00:00</td>\n",
       "      <td>0</td>\n",
       "      <td>0.001085</td>\n",
       "      <td>0.028134</td>\n",
       "      <td>0.000000</td>\n",
       "      <td>0.096774</td>\n",
       "      <td>0.000006</td>\n",
       "      <td>0.000000</td>\n",
       "      <td>0.033245</td>\n",
       "      <td>0.155760</td>\n",
       "    </tr>\n",
       "    <tr>\n",
       "      <th>229845</th>\n",
       "      <td>124611908</td>\n",
       "      <td>0</td>\n",
       "      <td>2015-05-29 07:24:39.461000+00:00</td>\n",
       "      <td>NaN</td>\n",
       "      <td>NaN</td>\n",
       "      <td>0.000009</td>\n",
       "      <td>0.0000</td>\n",
       "      <td>0.0</td>\n",
       "      <td>0.00</td>\n",
       "      <td>0.000000</td>\n",
       "      <td>0</td>\n",
       "      <td>1</td>\n",
       "      <td>1</td>\n",
       "      <td>0</td>\n",
       "      <td>0</td>\n",
       "      <td>1</td>\n",
       "      <td>2</td>\n",
       "      <td>tier_1</td>\n",
       "      <td>0</td>\n",
       "      <td>1</td>\n",
       "      <td>0</td>\n",
       "      <td>1</td>\n",
       "      <td>2013-07-16 09:11:11+00:00</td>\n",
       "      <td>1</td>\n",
       "      <td>0.000000</td>\n",
       "      <td>0.000000</td>\n",
       "      <td>0.000000</td>\n",
       "      <td>0.000000</td>\n",
       "      <td>0.000000</td>\n",
       "      <td>0.000000</td>\n",
       "      <td>0.033242</td>\n",
       "      <td>0.155619</td>\n",
       "    </tr>\n",
       "    <tr>\n",
       "      <th>229846</th>\n",
       "      <td>124936227</td>\n",
       "      <td>0</td>\n",
       "      <td>2015-06-12 16:01:28.917000+00:00</td>\n",
       "      <td>1.0</td>\n",
       "      <td>1.0</td>\n",
       "      <td>0.000026</td>\n",
       "      <td>0.0002</td>\n",
       "      <td>2.0</td>\n",
       "      <td>0.01</td>\n",
       "      <td>0.002205</td>\n",
       "      <td>0</td>\n",
       "      <td>1</td>\n",
       "      <td>1</td>\n",
       "      <td>0</td>\n",
       "      <td>0</td>\n",
       "      <td>1</td>\n",
       "      <td>3</td>\n",
       "      <td>tier_1</td>\n",
       "      <td>0</td>\n",
       "      <td>0</td>\n",
       "      <td>0</td>\n",
       "      <td>0</td>\n",
       "      <td>2013-07-17 04:44:47+00:00</td>\n",
       "      <td>0</td>\n",
       "      <td>0.010484</td>\n",
       "      <td>0.003434</td>\n",
       "      <td>0.000000</td>\n",
       "      <td>0.096774</td>\n",
       "      <td>0.000020</td>\n",
       "      <td>0.000000</td>\n",
       "      <td>0.033264</td>\n",
       "      <td>0.155943</td>\n",
       "    </tr>\n",
       "  </tbody>\n",
       "</table>\n",
       "<p>229847 rows × 32 columns</p>\n",
       "</div>"
      ],
      "text/plain": [
       "          user_id  is_new                              time  voucher_type  \\\n",
       "0       281605921       1  2015-06-12 03:41:44.263000+00:00           NaN   \n",
       "1       281605921       1  2015-06-15 04:11:26.177000+00:00           NaN   \n",
       "2       125302602       0  2015-04-24 14:07:48.720000+00:00           NaN   \n",
       "3       125302602       0  2015-05-04 01:05:09.518000+00:00           1.0   \n",
       "4       125302602       0  2015-05-15 11:18:25.739000+00:00           1.0   \n",
       "...           ...     ...                               ...           ...   \n",
       "229842  123299082       0  2015-05-24 08:01:40.917000+00:00           NaN   \n",
       "229843  124128885       0  2015-04-12 05:27:18.913000+00:00           NaN   \n",
       "229844  124432258       0  2015-04-14 07:41:30.031000+00:00           NaN   \n",
       "229845  124611908       0  2015-05-29 07:24:39.461000+00:00           NaN   \n",
       "229846  124936227       0  2015-06-12 16:01:28.917000+00:00           1.0   \n",
       "\n",
       "        voucher_valid  basket_amount  voucher_max_amount  voucher_percentage  \\\n",
       "0                 NaN       0.000029              0.0000                 0.0   \n",
       "1                 NaN       0.000024              0.0000                 0.0   \n",
       "2                 NaN       0.000164              0.0000                 0.0   \n",
       "3                 1.0       0.000175              0.0002                 1.0   \n",
       "4                 1.0       0.000170              0.0002                 1.0   \n",
       "...               ...            ...                 ...                 ...   \n",
       "229842            NaN       0.000008              0.0000                 0.0   \n",
       "229843            NaN       0.000175              0.0000                 0.0   \n",
       "229844            NaN       0.000060              0.0000                 0.0   \n",
       "229845            NaN       0.000009              0.0000                 0.0   \n",
       "229846            1.0       0.000026              0.0002                 2.0   \n",
       "\n",
       "        voucher_min_purchase  voucher_amount  trx_is_voucher  is_paid  \\\n",
       "0                       0.00        0.000000               0        0   \n",
       "1                       0.00        0.000000               0        1   \n",
       "2                       0.00        0.000000               0        1   \n",
       "3                       0.01        0.019864               1        1   \n",
       "4                       0.01        0.019324               1        1   \n",
       "...                      ...             ...             ...      ...   \n",
       "229842                  0.00        0.000000               1        1   \n",
       "229843                  0.00        0.000000               0        1   \n",
       "229844                  0.00        0.000000               0        1   \n",
       "229845                  0.00        0.000000               0        1   \n",
       "229846                  0.01        0.002205               0        1   \n",
       "\n",
       "        is_remitted  user_purchased_prior  num_voucher_errors  purchase  \\\n",
       "0                 0                     0                   0         0   \n",
       "1                 1                     0                   0         1   \n",
       "2                 1                     1                   6         1   \n",
       "3                 1                     1                   6         1   \n",
       "4                 1                     1                   0         1   \n",
       "...             ...                   ...                 ...       ...   \n",
       "229842            1                     0                   4         1   \n",
       "229843            1                     1                   0         1   \n",
       "229844            1                     0                   0         1   \n",
       "229845            1                     0                   0         1   \n",
       "229846            1                     0                   0         1   \n",
       "\n",
       "        province marketing_tier  user_type  user_group  account_type  \\\n",
       "0              0         tier_2          0           0             0   \n",
       "1              0         tier_2          0           0             0   \n",
       "2              1         tier_2          1           1             0   \n",
       "3              1         tier_2          1           1             0   \n",
       "4              1         tier_2          1           1             0   \n",
       "...          ...            ...        ...         ...           ...   \n",
       "229842         2         tier_2          0           1             0   \n",
       "229843         2         tier_1          0           1             0   \n",
       "229844         3         tier_1          0           0             0   \n",
       "229845         2         tier_1          0           1             0   \n",
       "229846         3         tier_1          0           0             0   \n",
       "\n",
       "        referrer_type         account_created_at  user_register_from  \\\n",
       "0                   0  2014-03-23 04:01:30+00:00                   0   \n",
       "1                   0  2014-03-23 04:01:30+00:00                   0   \n",
       "2                   1  2013-07-18 07:24:40+00:00                   1   \n",
       "3                   1  2013-07-18 07:24:40+00:00                   1   \n",
       "4                   1  2013-07-18 07:24:40+00:00                   1   \n",
       "...               ...                        ...                 ...   \n",
       "229842              2  2013-07-14 01:53:12+00:00                   1   \n",
       "229843              1  2013-07-15 04:27:35+00:00                   1   \n",
       "229844              0  2013-07-15 20:52:43+00:00                   0   \n",
       "229845              1  2013-07-16 09:11:11+00:00                   1   \n",
       "229846              0  2013-07-17 04:44:47+00:00                   0   \n",
       "\n",
       "        sessions  average_session_length  num_visit_promo_page  \\\n",
       "0       0.004158                0.001420              0.000000   \n",
       "1       0.004158                0.001420              0.000000   \n",
       "2       0.016450                0.004848              0.006757   \n",
       "3       0.016450                0.004848              0.006757   \n",
       "4       0.016450                0.004848              0.006757   \n",
       "...          ...                     ...                   ...   \n",
       "229842  0.113160                0.000764              0.020270   \n",
       "229843  0.005423                0.006373              0.006757   \n",
       "229844  0.001085                0.028134              0.000000   \n",
       "229845  0.000000                0.000000              0.000000   \n",
       "229846  0.010484                0.003434              0.000000   \n",
       "\n",
       "        num_product_types   num_trx  num_trx_voucher       gmv       aov  \n",
       "0                0.000000  0.000000         0.000000  0.033242  0.155619  \n",
       "1                0.000000  0.000000         0.000000  0.033242  0.155619  \n",
       "2                0.225806  0.000090         0.016166  0.033882  0.157703  \n",
       "3                0.225806  0.000090         0.016166  0.033882  0.157703  \n",
       "4                0.225806  0.000090         0.016166  0.033882  0.157703  \n",
       "...                   ...       ...              ...       ...       ...  \n",
       "229842           0.290323  0.001524         0.009238  0.034430  0.155847  \n",
       "229843           0.064516  0.000053         0.009238  0.034120  0.160492  \n",
       "229844           0.096774  0.000006         0.000000  0.033245  0.155760  \n",
       "229845           0.000000  0.000000         0.000000  0.033242  0.155619  \n",
       "229846           0.096774  0.000020         0.000000  0.033264  0.155943  \n",
       "\n",
       "[229847 rows x 32 columns]"
      ]
     },
     "execution_count": 3,
     "metadata": {},
     "output_type": "execute_result"
    }
   ],
   "source": [
    "df"
   ]
  },
  {
   "cell_type": "markdown",
   "metadata": {},
   "source": [
    "We are going to assume that 0 is for False/No, and 1 is for True/Yes"
   ]
  },
  {
   "cell_type": "code",
   "execution_count": 4,
   "metadata": {},
   "outputs": [],
   "source": [
    "df_initial = df.copy()"
   ]
  },
  {
   "cell_type": "markdown",
   "metadata": {},
   "source": [
    "# 1. Explore the data"
   ]
  },
  {
   "cell_type": "code",
   "execution_count": 5,
   "metadata": {},
   "outputs": [
    {
     "name": "stdout",
     "output_type": "stream",
     "text": [
      "Dataframe dimensions: (229847, 32)\n"
     ]
    },
    {
     "data": {
      "text/html": [
       "<div>\n",
       "<style scoped>\n",
       "    .dataframe tbody tr th:only-of-type {\n",
       "        vertical-align: middle;\n",
       "    }\n",
       "\n",
       "    .dataframe tbody tr th {\n",
       "        vertical-align: top;\n",
       "    }\n",
       "\n",
       "    .dataframe thead th {\n",
       "        text-align: right;\n",
       "    }\n",
       "</style>\n",
       "<table border=\"1\" class=\"dataframe\">\n",
       "  <thead>\n",
       "    <tr style=\"text-align: right;\">\n",
       "      <th></th>\n",
       "      <th>user_id</th>\n",
       "      <th>is_new</th>\n",
       "      <th>time</th>\n",
       "      <th>voucher_type</th>\n",
       "      <th>voucher_valid</th>\n",
       "      <th>basket_amount</th>\n",
       "      <th>voucher_max_amount</th>\n",
       "      <th>voucher_percentage</th>\n",
       "      <th>voucher_min_purchase</th>\n",
       "      <th>voucher_amount</th>\n",
       "      <th>trx_is_voucher</th>\n",
       "      <th>is_paid</th>\n",
       "      <th>is_remitted</th>\n",
       "      <th>user_purchased_prior</th>\n",
       "      <th>num_voucher_errors</th>\n",
       "      <th>purchase</th>\n",
       "      <th>province</th>\n",
       "      <th>marketing_tier</th>\n",
       "      <th>user_type</th>\n",
       "      <th>user_group</th>\n",
       "      <th>account_type</th>\n",
       "      <th>referrer_type</th>\n",
       "      <th>account_created_at</th>\n",
       "      <th>user_register_from</th>\n",
       "      <th>sessions</th>\n",
       "      <th>average_session_length</th>\n",
       "      <th>num_visit_promo_page</th>\n",
       "      <th>num_product_types</th>\n",
       "      <th>num_trx</th>\n",
       "      <th>num_trx_voucher</th>\n",
       "      <th>gmv</th>\n",
       "      <th>aov</th>\n",
       "    </tr>\n",
       "  </thead>\n",
       "  <tbody>\n",
       "    <tr>\n",
       "      <th>column type</th>\n",
       "      <td>int64</td>\n",
       "      <td>int64</td>\n",
       "      <td>datetime64[ns, UTC]</td>\n",
       "      <td>float64</td>\n",
       "      <td>float64</td>\n",
       "      <td>float64</td>\n",
       "      <td>float64</td>\n",
       "      <td>float64</td>\n",
       "      <td>float64</td>\n",
       "      <td>float64</td>\n",
       "      <td>int64</td>\n",
       "      <td>int64</td>\n",
       "      <td>int64</td>\n",
       "      <td>int64</td>\n",
       "      <td>int64</td>\n",
       "      <td>int64</td>\n",
       "      <td>int64</td>\n",
       "      <td>object</td>\n",
       "      <td>int64</td>\n",
       "      <td>int64</td>\n",
       "      <td>int64</td>\n",
       "      <td>int64</td>\n",
       "      <td>datetime64[ns, UTC]</td>\n",
       "      <td>int64</td>\n",
       "      <td>float64</td>\n",
       "      <td>float64</td>\n",
       "      <td>float64</td>\n",
       "      <td>float64</td>\n",
       "      <td>float64</td>\n",
       "      <td>float64</td>\n",
       "      <td>float64</td>\n",
       "      <td>float64</td>\n",
       "    </tr>\n",
       "    <tr>\n",
       "      <th>null values (nb)</th>\n",
       "      <td>0</td>\n",
       "      <td>0</td>\n",
       "      <td>0</td>\n",
       "      <td>190889</td>\n",
       "      <td>187866</td>\n",
       "      <td>0</td>\n",
       "      <td>0</td>\n",
       "      <td>0</td>\n",
       "      <td>0</td>\n",
       "      <td>0</td>\n",
       "      <td>0</td>\n",
       "      <td>0</td>\n",
       "      <td>0</td>\n",
       "      <td>0</td>\n",
       "      <td>0</td>\n",
       "      <td>0</td>\n",
       "      <td>0</td>\n",
       "      <td>776</td>\n",
       "      <td>0</td>\n",
       "      <td>0</td>\n",
       "      <td>0</td>\n",
       "      <td>0</td>\n",
       "      <td>0</td>\n",
       "      <td>0</td>\n",
       "      <td>0</td>\n",
       "      <td>0</td>\n",
       "      <td>0</td>\n",
       "      <td>0</td>\n",
       "      <td>0</td>\n",
       "      <td>0</td>\n",
       "      <td>0</td>\n",
       "      <td>0</td>\n",
       "    </tr>\n",
       "    <tr>\n",
       "      <th>null values (%)</th>\n",
       "      <td>0</td>\n",
       "      <td>0</td>\n",
       "      <td>0</td>\n",
       "      <td>83.0505</td>\n",
       "      <td>81.7352</td>\n",
       "      <td>0</td>\n",
       "      <td>0</td>\n",
       "      <td>0</td>\n",
       "      <td>0</td>\n",
       "      <td>0</td>\n",
       "      <td>0</td>\n",
       "      <td>0</td>\n",
       "      <td>0</td>\n",
       "      <td>0</td>\n",
       "      <td>0</td>\n",
       "      <td>0</td>\n",
       "      <td>0</td>\n",
       "      <td>0.337616</td>\n",
       "      <td>0</td>\n",
       "      <td>0</td>\n",
       "      <td>0</td>\n",
       "      <td>0</td>\n",
       "      <td>0</td>\n",
       "      <td>0</td>\n",
       "      <td>0</td>\n",
       "      <td>0</td>\n",
       "      <td>0</td>\n",
       "      <td>0</td>\n",
       "      <td>0</td>\n",
       "      <td>0</td>\n",
       "      <td>0</td>\n",
       "      <td>0</td>\n",
       "    </tr>\n",
       "  </tbody>\n",
       "</table>\n",
       "</div>"
      ],
      "text/plain": [
       "                 user_id is_new                 time voucher_type  \\\n",
       "column type        int64  int64  datetime64[ns, UTC]      float64   \n",
       "null values (nb)       0      0                    0       190889   \n",
       "null values (%)        0      0                    0      83.0505   \n",
       "\n",
       "                 voucher_valid basket_amount voucher_max_amount  \\\n",
       "column type            float64       float64            float64   \n",
       "null values (nb)        187866             0                  0   \n",
       "null values (%)        81.7352             0                  0   \n",
       "\n",
       "                 voucher_percentage voucher_min_purchase voucher_amount  \\\n",
       "column type                 float64              float64        float64   \n",
       "null values (nb)                  0                    0              0   \n",
       "null values (%)                   0                    0              0   \n",
       "\n",
       "                 trx_is_voucher is_paid is_remitted user_purchased_prior  \\\n",
       "column type               int64   int64       int64                int64   \n",
       "null values (nb)              0       0           0                    0   \n",
       "null values (%)               0       0           0                    0   \n",
       "\n",
       "                 num_voucher_errors purchase province marketing_tier  \\\n",
       "column type                   int64    int64    int64         object   \n",
       "null values (nb)                  0        0        0            776   \n",
       "null values (%)                   0        0        0       0.337616   \n",
       "\n",
       "                 user_type user_group account_type referrer_type  \\\n",
       "column type          int64      int64        int64         int64   \n",
       "null values (nb)         0          0            0             0   \n",
       "null values (%)          0          0            0             0   \n",
       "\n",
       "                   account_created_at user_register_from sessions  \\\n",
       "column type       datetime64[ns, UTC]              int64  float64   \n",
       "null values (nb)                    0                  0        0   \n",
       "null values (%)                     0                  0        0   \n",
       "\n",
       "                 average_session_length num_visit_promo_page  \\\n",
       "column type                     float64              float64   \n",
       "null values (nb)                      0                    0   \n",
       "null values (%)                       0                    0   \n",
       "\n",
       "                 num_product_types  num_trx num_trx_voucher      gmv      aov  \n",
       "column type                float64  float64         float64  float64  float64  \n",
       "null values (nb)                 0        0               0        0        0  \n",
       "null values (%)                  0        0               0        0        0  "
      ]
     },
     "metadata": {},
     "output_type": "display_data"
    },
    {
     "data": {
      "text/html": [
       "<div>\n",
       "<style scoped>\n",
       "    .dataframe tbody tr th:only-of-type {\n",
       "        vertical-align: middle;\n",
       "    }\n",
       "\n",
       "    .dataframe tbody tr th {\n",
       "        vertical-align: top;\n",
       "    }\n",
       "\n",
       "    .dataframe thead th {\n",
       "        text-align: right;\n",
       "    }\n",
       "</style>\n",
       "<table border=\"1\" class=\"dataframe\">\n",
       "  <thead>\n",
       "    <tr style=\"text-align: right;\">\n",
       "      <th></th>\n",
       "      <th>user_id</th>\n",
       "      <th>is_new</th>\n",
       "      <th>time</th>\n",
       "      <th>voucher_type</th>\n",
       "      <th>voucher_valid</th>\n",
       "      <th>basket_amount</th>\n",
       "      <th>voucher_max_amount</th>\n",
       "      <th>voucher_percentage</th>\n",
       "      <th>voucher_min_purchase</th>\n",
       "      <th>voucher_amount</th>\n",
       "      <th>trx_is_voucher</th>\n",
       "      <th>is_paid</th>\n",
       "      <th>is_remitted</th>\n",
       "      <th>user_purchased_prior</th>\n",
       "      <th>num_voucher_errors</th>\n",
       "      <th>purchase</th>\n",
       "      <th>province</th>\n",
       "      <th>marketing_tier</th>\n",
       "      <th>user_type</th>\n",
       "      <th>user_group</th>\n",
       "      <th>account_type</th>\n",
       "      <th>referrer_type</th>\n",
       "      <th>account_created_at</th>\n",
       "      <th>user_register_from</th>\n",
       "      <th>sessions</th>\n",
       "      <th>average_session_length</th>\n",
       "      <th>num_visit_promo_page</th>\n",
       "      <th>num_product_types</th>\n",
       "      <th>num_trx</th>\n",
       "      <th>num_trx_voucher</th>\n",
       "      <th>gmv</th>\n",
       "      <th>aov</th>\n",
       "    </tr>\n",
       "  </thead>\n",
       "  <tbody>\n",
       "    <tr>\n",
       "      <th>0</th>\n",
       "      <td>281605921</td>\n",
       "      <td>1</td>\n",
       "      <td>2015-06-12 03:41:44.263000+00:00</td>\n",
       "      <td>NaN</td>\n",
       "      <td>NaN</td>\n",
       "      <td>0.000029</td>\n",
       "      <td>0.0000</td>\n",
       "      <td>0.0</td>\n",
       "      <td>0.00</td>\n",
       "      <td>0.000000</td>\n",
       "      <td>0</td>\n",
       "      <td>0</td>\n",
       "      <td>0</td>\n",
       "      <td>0</td>\n",
       "      <td>0</td>\n",
       "      <td>0</td>\n",
       "      <td>0</td>\n",
       "      <td>tier_2</td>\n",
       "      <td>0</td>\n",
       "      <td>0</td>\n",
       "      <td>0</td>\n",
       "      <td>0</td>\n",
       "      <td>2014-03-23 04:01:30+00:00</td>\n",
       "      <td>0</td>\n",
       "      <td>0.004158</td>\n",
       "      <td>0.001420</td>\n",
       "      <td>0.000000</td>\n",
       "      <td>0.000000</td>\n",
       "      <td>0.00000</td>\n",
       "      <td>0.000000</td>\n",
       "      <td>0.033242</td>\n",
       "      <td>0.155619</td>\n",
       "    </tr>\n",
       "    <tr>\n",
       "      <th>1</th>\n",
       "      <td>281605921</td>\n",
       "      <td>1</td>\n",
       "      <td>2015-06-15 04:11:26.177000+00:00</td>\n",
       "      <td>NaN</td>\n",
       "      <td>NaN</td>\n",
       "      <td>0.000024</td>\n",
       "      <td>0.0000</td>\n",
       "      <td>0.0</td>\n",
       "      <td>0.00</td>\n",
       "      <td>0.000000</td>\n",
       "      <td>0</td>\n",
       "      <td>1</td>\n",
       "      <td>1</td>\n",
       "      <td>0</td>\n",
       "      <td>0</td>\n",
       "      <td>1</td>\n",
       "      <td>0</td>\n",
       "      <td>tier_2</td>\n",
       "      <td>0</td>\n",
       "      <td>0</td>\n",
       "      <td>0</td>\n",
       "      <td>0</td>\n",
       "      <td>2014-03-23 04:01:30+00:00</td>\n",
       "      <td>0</td>\n",
       "      <td>0.004158</td>\n",
       "      <td>0.001420</td>\n",
       "      <td>0.000000</td>\n",
       "      <td>0.000000</td>\n",
       "      <td>0.00000</td>\n",
       "      <td>0.000000</td>\n",
       "      <td>0.033242</td>\n",
       "      <td>0.155619</td>\n",
       "    </tr>\n",
       "    <tr>\n",
       "      <th>2</th>\n",
       "      <td>125302602</td>\n",
       "      <td>0</td>\n",
       "      <td>2015-04-24 14:07:48.720000+00:00</td>\n",
       "      <td>NaN</td>\n",
       "      <td>NaN</td>\n",
       "      <td>0.000164</td>\n",
       "      <td>0.0000</td>\n",
       "      <td>0.0</td>\n",
       "      <td>0.00</td>\n",
       "      <td>0.000000</td>\n",
       "      <td>0</td>\n",
       "      <td>1</td>\n",
       "      <td>1</td>\n",
       "      <td>1</td>\n",
       "      <td>6</td>\n",
       "      <td>1</td>\n",
       "      <td>1</td>\n",
       "      <td>tier_2</td>\n",
       "      <td>1</td>\n",
       "      <td>1</td>\n",
       "      <td>0</td>\n",
       "      <td>1</td>\n",
       "      <td>2013-07-18 07:24:40+00:00</td>\n",
       "      <td>1</td>\n",
       "      <td>0.016450</td>\n",
       "      <td>0.004848</td>\n",
       "      <td>0.006757</td>\n",
       "      <td>0.225806</td>\n",
       "      <td>0.00009</td>\n",
       "      <td>0.016166</td>\n",
       "      <td>0.033882</td>\n",
       "      <td>0.157703</td>\n",
       "    </tr>\n",
       "    <tr>\n",
       "      <th>3</th>\n",
       "      <td>125302602</td>\n",
       "      <td>0</td>\n",
       "      <td>2015-05-04 01:05:09.518000+00:00</td>\n",
       "      <td>1.0</td>\n",
       "      <td>1.0</td>\n",
       "      <td>0.000175</td>\n",
       "      <td>0.0002</td>\n",
       "      <td>1.0</td>\n",
       "      <td>0.01</td>\n",
       "      <td>0.019864</td>\n",
       "      <td>1</td>\n",
       "      <td>1</td>\n",
       "      <td>1</td>\n",
       "      <td>1</td>\n",
       "      <td>6</td>\n",
       "      <td>1</td>\n",
       "      <td>1</td>\n",
       "      <td>tier_2</td>\n",
       "      <td>1</td>\n",
       "      <td>1</td>\n",
       "      <td>0</td>\n",
       "      <td>1</td>\n",
       "      <td>2013-07-18 07:24:40+00:00</td>\n",
       "      <td>1</td>\n",
       "      <td>0.016450</td>\n",
       "      <td>0.004848</td>\n",
       "      <td>0.006757</td>\n",
       "      <td>0.225806</td>\n",
       "      <td>0.00009</td>\n",
       "      <td>0.016166</td>\n",
       "      <td>0.033882</td>\n",
       "      <td>0.157703</td>\n",
       "    </tr>\n",
       "    <tr>\n",
       "      <th>4</th>\n",
       "      <td>125302602</td>\n",
       "      <td>0</td>\n",
       "      <td>2015-05-15 11:18:25.739000+00:00</td>\n",
       "      <td>1.0</td>\n",
       "      <td>1.0</td>\n",
       "      <td>0.000170</td>\n",
       "      <td>0.0002</td>\n",
       "      <td>1.0</td>\n",
       "      <td>0.01</td>\n",
       "      <td>0.019324</td>\n",
       "      <td>1</td>\n",
       "      <td>1</td>\n",
       "      <td>1</td>\n",
       "      <td>1</td>\n",
       "      <td>0</td>\n",
       "      <td>1</td>\n",
       "      <td>1</td>\n",
       "      <td>tier_2</td>\n",
       "      <td>1</td>\n",
       "      <td>1</td>\n",
       "      <td>0</td>\n",
       "      <td>1</td>\n",
       "      <td>2013-07-18 07:24:40+00:00</td>\n",
       "      <td>1</td>\n",
       "      <td>0.016450</td>\n",
       "      <td>0.004848</td>\n",
       "      <td>0.006757</td>\n",
       "      <td>0.225806</td>\n",
       "      <td>0.00009</td>\n",
       "      <td>0.016166</td>\n",
       "      <td>0.033882</td>\n",
       "      <td>0.157703</td>\n",
       "    </tr>\n",
       "  </tbody>\n",
       "</table>\n",
       "</div>"
      ],
      "text/plain": [
       "     user_id  is_new                             time  voucher_type  \\\n",
       "0  281605921       1 2015-06-12 03:41:44.263000+00:00           NaN   \n",
       "1  281605921       1 2015-06-15 04:11:26.177000+00:00           NaN   \n",
       "2  125302602       0 2015-04-24 14:07:48.720000+00:00           NaN   \n",
       "3  125302602       0 2015-05-04 01:05:09.518000+00:00           1.0   \n",
       "4  125302602       0 2015-05-15 11:18:25.739000+00:00           1.0   \n",
       "\n",
       "   voucher_valid  basket_amount  voucher_max_amount  voucher_percentage  \\\n",
       "0            NaN       0.000029              0.0000                 0.0   \n",
       "1            NaN       0.000024              0.0000                 0.0   \n",
       "2            NaN       0.000164              0.0000                 0.0   \n",
       "3            1.0       0.000175              0.0002                 1.0   \n",
       "4            1.0       0.000170              0.0002                 1.0   \n",
       "\n",
       "   voucher_min_purchase  voucher_amount  trx_is_voucher  is_paid  is_remitted  \\\n",
       "0                  0.00        0.000000               0        0            0   \n",
       "1                  0.00        0.000000               0        1            1   \n",
       "2                  0.00        0.000000               0        1            1   \n",
       "3                  0.01        0.019864               1        1            1   \n",
       "4                  0.01        0.019324               1        1            1   \n",
       "\n",
       "   user_purchased_prior  num_voucher_errors  purchase  province  \\\n",
       "0                     0                   0         0         0   \n",
       "1                     0                   0         1         0   \n",
       "2                     1                   6         1         1   \n",
       "3                     1                   6         1         1   \n",
       "4                     1                   0         1         1   \n",
       "\n",
       "  marketing_tier  user_type  user_group  account_type  referrer_type  \\\n",
       "0         tier_2          0           0             0              0   \n",
       "1         tier_2          0           0             0              0   \n",
       "2         tier_2          1           1             0              1   \n",
       "3         tier_2          1           1             0              1   \n",
       "4         tier_2          1           1             0              1   \n",
       "\n",
       "         account_created_at  user_register_from  sessions  \\\n",
       "0 2014-03-23 04:01:30+00:00                   0  0.004158   \n",
       "1 2014-03-23 04:01:30+00:00                   0  0.004158   \n",
       "2 2013-07-18 07:24:40+00:00                   1  0.016450   \n",
       "3 2013-07-18 07:24:40+00:00                   1  0.016450   \n",
       "4 2013-07-18 07:24:40+00:00                   1  0.016450   \n",
       "\n",
       "   average_session_length  num_visit_promo_page  num_product_types  num_trx  \\\n",
       "0                0.001420              0.000000           0.000000  0.00000   \n",
       "1                0.001420              0.000000           0.000000  0.00000   \n",
       "2                0.004848              0.006757           0.225806  0.00009   \n",
       "3                0.004848              0.006757           0.225806  0.00009   \n",
       "4                0.004848              0.006757           0.225806  0.00009   \n",
       "\n",
       "   num_trx_voucher       gmv       aov  \n",
       "0         0.000000  0.033242  0.155619  \n",
       "1         0.000000  0.033242  0.155619  \n",
       "2         0.016166  0.033882  0.157703  \n",
       "3         0.016166  0.033882  0.157703  \n",
       "4         0.016166  0.033882  0.157703  "
      ]
     },
     "metadata": {},
     "output_type": "display_data"
    }
   ],
   "source": [
    "print('Dataframe dimensions:', df_initial.shape)\n",
    "#______\n",
    "df_initial['time'] = pd.to_datetime(df_initial['time'])\n",
    "df_initial['account_created_at'] = pd.to_datetime(df_initial['account_created_at'])\n",
    "\n",
    "# gives some infos on columns types and numer of null values\n",
    "tab_info=pd.DataFrame(df_initial.dtypes).T.rename(index={0:'column type'})\n",
    "tab_info=tab_info.append(pd.DataFrame(df_initial.isnull().sum()).T.rename(index={0:'null values (nb)'}))\n",
    "tab_info=tab_info.append(pd.DataFrame(df_initial.isnull().sum()/df_initial.shape[0]*100).T.\n",
    "                         rename(index={0:'null values (%)'}))\n",
    "display(tab_info)\n",
    "\n",
    "# show first lines\n",
    "display(df_initial[:5])"
   ]
  },
  {
   "cell_type": "code",
   "execution_count": 6,
   "metadata": {},
   "outputs": [],
   "source": [
    "#Change to datetime\n",
    "\n",
    "df_initial['account_created_at'] = df_initial['account_created_at'].dt.date\n",
    "df_initial['time'] = df_initial['time'].dt.date\n",
    "\n",
    "df_initial['time'] = pd.to_datetime(df_initial['time'])\n",
    "df_initial['account_created_at'] = pd.to_datetime(df_initial['account_created_at'])"
   ]
  },
  {
   "cell_type": "markdown",
   "metadata": {},
   "source": [
    "Many voucher_type and voucher_valid feature have large missing value. We will drop this column because the missing value is too large"
   ]
  },
  {
   "cell_type": "code",
   "execution_count": 7,
   "metadata": {},
   "outputs": [],
   "source": [
    "del df_initial['voucher_type']\n",
    "del df_initial['voucher_valid']"
   ]
  },
  {
   "cell_type": "code",
   "execution_count": 8,
   "metadata": {},
   "outputs": [
    {
     "data": {
      "text/html": [
       "<div>\n",
       "<style scoped>\n",
       "    .dataframe tbody tr th:only-of-type {\n",
       "        vertical-align: middle;\n",
       "    }\n",
       "\n",
       "    .dataframe tbody tr th {\n",
       "        vertical-align: top;\n",
       "    }\n",
       "\n",
       "    .dataframe thead th {\n",
       "        text-align: right;\n",
       "    }\n",
       "</style>\n",
       "<table border=\"1\" class=\"dataframe\">\n",
       "  <thead>\n",
       "    <tr style=\"text-align: right;\">\n",
       "      <th></th>\n",
       "      <th>user_id</th>\n",
       "      <th>is_new</th>\n",
       "      <th>time</th>\n",
       "      <th>basket_amount</th>\n",
       "      <th>voucher_max_amount</th>\n",
       "      <th>voucher_percentage</th>\n",
       "      <th>voucher_min_purchase</th>\n",
       "      <th>voucher_amount</th>\n",
       "      <th>trx_is_voucher</th>\n",
       "      <th>is_paid</th>\n",
       "      <th>is_remitted</th>\n",
       "      <th>user_purchased_prior</th>\n",
       "      <th>num_voucher_errors</th>\n",
       "      <th>purchase</th>\n",
       "      <th>province</th>\n",
       "      <th>marketing_tier</th>\n",
       "      <th>user_type</th>\n",
       "      <th>user_group</th>\n",
       "      <th>account_type</th>\n",
       "      <th>referrer_type</th>\n",
       "      <th>account_created_at</th>\n",
       "      <th>user_register_from</th>\n",
       "      <th>sessions</th>\n",
       "      <th>average_session_length</th>\n",
       "      <th>num_visit_promo_page</th>\n",
       "      <th>num_product_types</th>\n",
       "      <th>num_trx</th>\n",
       "      <th>num_trx_voucher</th>\n",
       "      <th>gmv</th>\n",
       "      <th>aov</th>\n",
       "    </tr>\n",
       "  </thead>\n",
       "  <tbody>\n",
       "    <tr>\n",
       "      <th>column type</th>\n",
       "      <td>int64</td>\n",
       "      <td>int64</td>\n",
       "      <td>datetime64[ns]</td>\n",
       "      <td>float64</td>\n",
       "      <td>float64</td>\n",
       "      <td>float64</td>\n",
       "      <td>float64</td>\n",
       "      <td>float64</td>\n",
       "      <td>int64</td>\n",
       "      <td>int64</td>\n",
       "      <td>int64</td>\n",
       "      <td>int64</td>\n",
       "      <td>int64</td>\n",
       "      <td>int64</td>\n",
       "      <td>int64</td>\n",
       "      <td>object</td>\n",
       "      <td>int64</td>\n",
       "      <td>int64</td>\n",
       "      <td>int64</td>\n",
       "      <td>int64</td>\n",
       "      <td>datetime64[ns]</td>\n",
       "      <td>int64</td>\n",
       "      <td>float64</td>\n",
       "      <td>float64</td>\n",
       "      <td>float64</td>\n",
       "      <td>float64</td>\n",
       "      <td>float64</td>\n",
       "      <td>float64</td>\n",
       "      <td>float64</td>\n",
       "      <td>float64</td>\n",
       "    </tr>\n",
       "    <tr>\n",
       "      <th>null values (nb)</th>\n",
       "      <td>0</td>\n",
       "      <td>0</td>\n",
       "      <td>0</td>\n",
       "      <td>0</td>\n",
       "      <td>0</td>\n",
       "      <td>0</td>\n",
       "      <td>0</td>\n",
       "      <td>0</td>\n",
       "      <td>0</td>\n",
       "      <td>0</td>\n",
       "      <td>0</td>\n",
       "      <td>0</td>\n",
       "      <td>0</td>\n",
       "      <td>0</td>\n",
       "      <td>0</td>\n",
       "      <td>776</td>\n",
       "      <td>0</td>\n",
       "      <td>0</td>\n",
       "      <td>0</td>\n",
       "      <td>0</td>\n",
       "      <td>0</td>\n",
       "      <td>0</td>\n",
       "      <td>0</td>\n",
       "      <td>0</td>\n",
       "      <td>0</td>\n",
       "      <td>0</td>\n",
       "      <td>0</td>\n",
       "      <td>0</td>\n",
       "      <td>0</td>\n",
       "      <td>0</td>\n",
       "    </tr>\n",
       "    <tr>\n",
       "      <th>null values (%)</th>\n",
       "      <td>0</td>\n",
       "      <td>0</td>\n",
       "      <td>0</td>\n",
       "      <td>0</td>\n",
       "      <td>0</td>\n",
       "      <td>0</td>\n",
       "      <td>0</td>\n",
       "      <td>0</td>\n",
       "      <td>0</td>\n",
       "      <td>0</td>\n",
       "      <td>0</td>\n",
       "      <td>0</td>\n",
       "      <td>0</td>\n",
       "      <td>0</td>\n",
       "      <td>0</td>\n",
       "      <td>0.337616</td>\n",
       "      <td>0</td>\n",
       "      <td>0</td>\n",
       "      <td>0</td>\n",
       "      <td>0</td>\n",
       "      <td>0</td>\n",
       "      <td>0</td>\n",
       "      <td>0</td>\n",
       "      <td>0</td>\n",
       "      <td>0</td>\n",
       "      <td>0</td>\n",
       "      <td>0</td>\n",
       "      <td>0</td>\n",
       "      <td>0</td>\n",
       "      <td>0</td>\n",
       "    </tr>\n",
       "  </tbody>\n",
       "</table>\n",
       "</div>"
      ],
      "text/plain": [
       "                 user_id is_new            time basket_amount  \\\n",
       "column type        int64  int64  datetime64[ns]       float64   \n",
       "null values (nb)       0      0               0             0   \n",
       "null values (%)        0      0               0             0   \n",
       "\n",
       "                 voucher_max_amount voucher_percentage voucher_min_purchase  \\\n",
       "column type                 float64            float64              float64   \n",
       "null values (nb)                  0                  0                    0   \n",
       "null values (%)                   0                  0                    0   \n",
       "\n",
       "                 voucher_amount trx_is_voucher is_paid is_remitted  \\\n",
       "column type             float64          int64   int64       int64   \n",
       "null values (nb)              0              0       0           0   \n",
       "null values (%)               0              0       0           0   \n",
       "\n",
       "                 user_purchased_prior num_voucher_errors purchase province  \\\n",
       "column type                     int64              int64    int64    int64   \n",
       "null values (nb)                    0                  0        0        0   \n",
       "null values (%)                     0                  0        0        0   \n",
       "\n",
       "                 marketing_tier user_type user_group account_type  \\\n",
       "column type              object     int64      int64        int64   \n",
       "null values (nb)            776         0          0            0   \n",
       "null values (%)        0.337616         0          0            0   \n",
       "\n",
       "                 referrer_type account_created_at user_register_from sessions  \\\n",
       "column type              int64     datetime64[ns]              int64  float64   \n",
       "null values (nb)             0                  0                  0        0   \n",
       "null values (%)              0                  0                  0        0   \n",
       "\n",
       "                 average_session_length num_visit_promo_page  \\\n",
       "column type                     float64              float64   \n",
       "null values (nb)                      0                    0   \n",
       "null values (%)                       0                    0   \n",
       "\n",
       "                 num_product_types  num_trx num_trx_voucher      gmv      aov  \n",
       "column type                float64  float64         float64  float64  float64  \n",
       "null values (nb)                 0        0               0        0        0  \n",
       "null values (%)                  0        0               0        0        0  "
      ]
     },
     "metadata": {},
     "output_type": "display_data"
    }
   ],
   "source": [
    "tab_info=pd.DataFrame(df_initial.dtypes).T.rename(index={0:'column type'})\n",
    "tab_info=tab_info.append(pd.DataFrame(df_initial.isnull().sum()).T.rename(index={0:'null values (nb)'}))\n",
    "tab_info=tab_info.append(pd.DataFrame(df_initial.isnull().sum()/df_initial.shape[0]*100).T.\n",
    "                         rename(index={0:'null values (%)'}))\n",
    "display(tab_info)"
   ]
  },
  {
   "cell_type": "markdown",
   "metadata": {},
   "source": [
    "marketing_tier feature have a small amount of missing value. We will drop this missing value"
   ]
  },
  {
   "cell_type": "code",
   "execution_count": 9,
   "metadata": {},
   "outputs": [],
   "source": [
    "df_initial.dropna(axis = 0, subset = ['marketing_tier'], inplace = True)"
   ]
  },
  {
   "cell_type": "code",
   "execution_count": 10,
   "metadata": {},
   "outputs": [
    {
     "data": {
      "text/html": [
       "<div>\n",
       "<style scoped>\n",
       "    .dataframe tbody tr th:only-of-type {\n",
       "        vertical-align: middle;\n",
       "    }\n",
       "\n",
       "    .dataframe tbody tr th {\n",
       "        vertical-align: top;\n",
       "    }\n",
       "\n",
       "    .dataframe thead th {\n",
       "        text-align: right;\n",
       "    }\n",
       "</style>\n",
       "<table border=\"1\" class=\"dataframe\">\n",
       "  <thead>\n",
       "    <tr style=\"text-align: right;\">\n",
       "      <th></th>\n",
       "      <th>user_id</th>\n",
       "      <th>is_new</th>\n",
       "      <th>time</th>\n",
       "      <th>basket_amount</th>\n",
       "      <th>voucher_max_amount</th>\n",
       "      <th>voucher_percentage</th>\n",
       "      <th>voucher_min_purchase</th>\n",
       "      <th>voucher_amount</th>\n",
       "      <th>trx_is_voucher</th>\n",
       "      <th>is_paid</th>\n",
       "      <th>is_remitted</th>\n",
       "      <th>user_purchased_prior</th>\n",
       "      <th>num_voucher_errors</th>\n",
       "      <th>purchase</th>\n",
       "      <th>province</th>\n",
       "      <th>marketing_tier</th>\n",
       "      <th>user_type</th>\n",
       "      <th>user_group</th>\n",
       "      <th>account_type</th>\n",
       "      <th>referrer_type</th>\n",
       "      <th>account_created_at</th>\n",
       "      <th>user_register_from</th>\n",
       "      <th>sessions</th>\n",
       "      <th>average_session_length</th>\n",
       "      <th>num_visit_promo_page</th>\n",
       "      <th>num_product_types</th>\n",
       "      <th>num_trx</th>\n",
       "      <th>num_trx_voucher</th>\n",
       "      <th>gmv</th>\n",
       "      <th>aov</th>\n",
       "    </tr>\n",
       "  </thead>\n",
       "  <tbody>\n",
       "    <tr>\n",
       "      <th>column type</th>\n",
       "      <td>int64</td>\n",
       "      <td>int64</td>\n",
       "      <td>datetime64[ns]</td>\n",
       "      <td>float64</td>\n",
       "      <td>float64</td>\n",
       "      <td>float64</td>\n",
       "      <td>float64</td>\n",
       "      <td>float64</td>\n",
       "      <td>int64</td>\n",
       "      <td>int64</td>\n",
       "      <td>int64</td>\n",
       "      <td>int64</td>\n",
       "      <td>int64</td>\n",
       "      <td>int64</td>\n",
       "      <td>int64</td>\n",
       "      <td>object</td>\n",
       "      <td>int64</td>\n",
       "      <td>int64</td>\n",
       "      <td>int64</td>\n",
       "      <td>int64</td>\n",
       "      <td>datetime64[ns]</td>\n",
       "      <td>int64</td>\n",
       "      <td>float64</td>\n",
       "      <td>float64</td>\n",
       "      <td>float64</td>\n",
       "      <td>float64</td>\n",
       "      <td>float64</td>\n",
       "      <td>float64</td>\n",
       "      <td>float64</td>\n",
       "      <td>float64</td>\n",
       "    </tr>\n",
       "    <tr>\n",
       "      <th>null values (nb)</th>\n",
       "      <td>0</td>\n",
       "      <td>0</td>\n",
       "      <td>0</td>\n",
       "      <td>0</td>\n",
       "      <td>0</td>\n",
       "      <td>0</td>\n",
       "      <td>0</td>\n",
       "      <td>0</td>\n",
       "      <td>0</td>\n",
       "      <td>0</td>\n",
       "      <td>0</td>\n",
       "      <td>0</td>\n",
       "      <td>0</td>\n",
       "      <td>0</td>\n",
       "      <td>0</td>\n",
       "      <td>0</td>\n",
       "      <td>0</td>\n",
       "      <td>0</td>\n",
       "      <td>0</td>\n",
       "      <td>0</td>\n",
       "      <td>0</td>\n",
       "      <td>0</td>\n",
       "      <td>0</td>\n",
       "      <td>0</td>\n",
       "      <td>0</td>\n",
       "      <td>0</td>\n",
       "      <td>0</td>\n",
       "      <td>0</td>\n",
       "      <td>0</td>\n",
       "      <td>0</td>\n",
       "    </tr>\n",
       "    <tr>\n",
       "      <th>null values (%)</th>\n",
       "      <td>0</td>\n",
       "      <td>0</td>\n",
       "      <td>0</td>\n",
       "      <td>0</td>\n",
       "      <td>0</td>\n",
       "      <td>0</td>\n",
       "      <td>0</td>\n",
       "      <td>0</td>\n",
       "      <td>0</td>\n",
       "      <td>0</td>\n",
       "      <td>0</td>\n",
       "      <td>0</td>\n",
       "      <td>0</td>\n",
       "      <td>0</td>\n",
       "      <td>0</td>\n",
       "      <td>0</td>\n",
       "      <td>0</td>\n",
       "      <td>0</td>\n",
       "      <td>0</td>\n",
       "      <td>0</td>\n",
       "      <td>0</td>\n",
       "      <td>0</td>\n",
       "      <td>0</td>\n",
       "      <td>0</td>\n",
       "      <td>0</td>\n",
       "      <td>0</td>\n",
       "      <td>0</td>\n",
       "      <td>0</td>\n",
       "      <td>0</td>\n",
       "      <td>0</td>\n",
       "    </tr>\n",
       "  </tbody>\n",
       "</table>\n",
       "</div>"
      ],
      "text/plain": [
       "                 user_id is_new            time basket_amount  \\\n",
       "column type        int64  int64  datetime64[ns]       float64   \n",
       "null values (nb)       0      0               0             0   \n",
       "null values (%)        0      0               0             0   \n",
       "\n",
       "                 voucher_max_amount voucher_percentage voucher_min_purchase  \\\n",
       "column type                 float64            float64              float64   \n",
       "null values (nb)                  0                  0                    0   \n",
       "null values (%)                   0                  0                    0   \n",
       "\n",
       "                 voucher_amount trx_is_voucher is_paid is_remitted  \\\n",
       "column type             float64          int64   int64       int64   \n",
       "null values (nb)              0              0       0           0   \n",
       "null values (%)               0              0       0           0   \n",
       "\n",
       "                 user_purchased_prior num_voucher_errors purchase province  \\\n",
       "column type                     int64              int64    int64    int64   \n",
       "null values (nb)                    0                  0        0        0   \n",
       "null values (%)                     0                  0        0        0   \n",
       "\n",
       "                 marketing_tier user_type user_group account_type  \\\n",
       "column type              object     int64      int64        int64   \n",
       "null values (nb)              0         0          0            0   \n",
       "null values (%)               0         0          0            0   \n",
       "\n",
       "                 referrer_type account_created_at user_register_from sessions  \\\n",
       "column type              int64     datetime64[ns]              int64  float64   \n",
       "null values (nb)             0                  0                  0        0   \n",
       "null values (%)              0                  0                  0        0   \n",
       "\n",
       "                 average_session_length num_visit_promo_page  \\\n",
       "column type                     float64              float64   \n",
       "null values (nb)                      0                    0   \n",
       "null values (%)                       0                    0   \n",
       "\n",
       "                 num_product_types  num_trx num_trx_voucher      gmv      aov  \n",
       "column type                float64  float64         float64  float64  float64  \n",
       "null values (nb)                 0        0               0        0        0  \n",
       "null values (%)                  0        0               0        0        0  "
      ]
     },
     "metadata": {},
     "output_type": "display_data"
    }
   ],
   "source": [
    "tab_info=pd.DataFrame(df_initial.dtypes).T.rename(index={0:'column type'})\n",
    "tab_info=tab_info.append(pd.DataFrame(df_initial.isnull().sum()).T.rename(index={0:'null values (nb)'}))\n",
    "tab_info=tab_info.append(pd.DataFrame(df_initial.isnull().sum()/df_initial.shape[0]*100).T.\n",
    "                         rename(index={0:'null values (%)'}))\n",
    "display(tab_info)"
   ]
  },
  {
   "cell_type": "code",
   "execution_count": 11,
   "metadata": {},
   "outputs": [
    {
     "data": {
      "text/html": [
       "<div>\n",
       "<style scoped>\n",
       "    .dataframe tbody tr th:only-of-type {\n",
       "        vertical-align: middle;\n",
       "    }\n",
       "\n",
       "    .dataframe tbody tr th {\n",
       "        vertical-align: top;\n",
       "    }\n",
       "\n",
       "    .dataframe thead th {\n",
       "        text-align: right;\n",
       "    }\n",
       "</style>\n",
       "<table border=\"1\" class=\"dataframe\">\n",
       "  <thead>\n",
       "    <tr style=\"text-align: right;\">\n",
       "      <th></th>\n",
       "      <th>user_id</th>\n",
       "      <th>is_new</th>\n",
       "      <th>time</th>\n",
       "      <th>basket_amount</th>\n",
       "      <th>voucher_max_amount</th>\n",
       "      <th>voucher_percentage</th>\n",
       "      <th>voucher_min_purchase</th>\n",
       "      <th>voucher_amount</th>\n",
       "      <th>trx_is_voucher</th>\n",
       "      <th>is_paid</th>\n",
       "      <th>is_remitted</th>\n",
       "      <th>user_purchased_prior</th>\n",
       "      <th>num_voucher_errors</th>\n",
       "      <th>purchase</th>\n",
       "      <th>province</th>\n",
       "      <th>marketing_tier</th>\n",
       "      <th>user_type</th>\n",
       "      <th>user_group</th>\n",
       "      <th>account_type</th>\n",
       "      <th>referrer_type</th>\n",
       "      <th>account_created_at</th>\n",
       "      <th>user_register_from</th>\n",
       "      <th>sessions</th>\n",
       "      <th>average_session_length</th>\n",
       "      <th>num_visit_promo_page</th>\n",
       "      <th>num_product_types</th>\n",
       "      <th>num_trx</th>\n",
       "      <th>num_trx_voucher</th>\n",
       "      <th>gmv</th>\n",
       "      <th>aov</th>\n",
       "    </tr>\n",
       "  </thead>\n",
       "  <tbody>\n",
       "    <tr>\n",
       "      <th>0</th>\n",
       "      <td>281605921</td>\n",
       "      <td>1</td>\n",
       "      <td>2015-06-12</td>\n",
       "      <td>0.000029</td>\n",
       "      <td>0.0000</td>\n",
       "      <td>0.0</td>\n",
       "      <td>0.00</td>\n",
       "      <td>0.000000</td>\n",
       "      <td>0</td>\n",
       "      <td>0</td>\n",
       "      <td>0</td>\n",
       "      <td>0</td>\n",
       "      <td>0</td>\n",
       "      <td>0</td>\n",
       "      <td>0</td>\n",
       "      <td>tier_2</td>\n",
       "      <td>0</td>\n",
       "      <td>0</td>\n",
       "      <td>0</td>\n",
       "      <td>0</td>\n",
       "      <td>2014-03-23</td>\n",
       "      <td>0</td>\n",
       "      <td>0.004158</td>\n",
       "      <td>0.001420</td>\n",
       "      <td>0.000000</td>\n",
       "      <td>0.000000</td>\n",
       "      <td>0.000000</td>\n",
       "      <td>0.000000</td>\n",
       "      <td>0.033242</td>\n",
       "      <td>0.155619</td>\n",
       "    </tr>\n",
       "    <tr>\n",
       "      <th>1</th>\n",
       "      <td>281605921</td>\n",
       "      <td>1</td>\n",
       "      <td>2015-06-15</td>\n",
       "      <td>0.000024</td>\n",
       "      <td>0.0000</td>\n",
       "      <td>0.0</td>\n",
       "      <td>0.00</td>\n",
       "      <td>0.000000</td>\n",
       "      <td>0</td>\n",
       "      <td>1</td>\n",
       "      <td>1</td>\n",
       "      <td>0</td>\n",
       "      <td>0</td>\n",
       "      <td>1</td>\n",
       "      <td>0</td>\n",
       "      <td>tier_2</td>\n",
       "      <td>0</td>\n",
       "      <td>0</td>\n",
       "      <td>0</td>\n",
       "      <td>0</td>\n",
       "      <td>2014-03-23</td>\n",
       "      <td>0</td>\n",
       "      <td>0.004158</td>\n",
       "      <td>0.001420</td>\n",
       "      <td>0.000000</td>\n",
       "      <td>0.000000</td>\n",
       "      <td>0.000000</td>\n",
       "      <td>0.000000</td>\n",
       "      <td>0.033242</td>\n",
       "      <td>0.155619</td>\n",
       "    </tr>\n",
       "    <tr>\n",
       "      <th>2</th>\n",
       "      <td>125302602</td>\n",
       "      <td>0</td>\n",
       "      <td>2015-04-24</td>\n",
       "      <td>0.000164</td>\n",
       "      <td>0.0000</td>\n",
       "      <td>0.0</td>\n",
       "      <td>0.00</td>\n",
       "      <td>0.000000</td>\n",
       "      <td>0</td>\n",
       "      <td>1</td>\n",
       "      <td>1</td>\n",
       "      <td>1</td>\n",
       "      <td>6</td>\n",
       "      <td>1</td>\n",
       "      <td>1</td>\n",
       "      <td>tier_2</td>\n",
       "      <td>1</td>\n",
       "      <td>1</td>\n",
       "      <td>0</td>\n",
       "      <td>1</td>\n",
       "      <td>2013-07-18</td>\n",
       "      <td>1</td>\n",
       "      <td>0.016450</td>\n",
       "      <td>0.004848</td>\n",
       "      <td>0.006757</td>\n",
       "      <td>0.225806</td>\n",
       "      <td>0.000090</td>\n",
       "      <td>0.016166</td>\n",
       "      <td>0.033882</td>\n",
       "      <td>0.157703</td>\n",
       "    </tr>\n",
       "    <tr>\n",
       "      <th>3</th>\n",
       "      <td>125302602</td>\n",
       "      <td>0</td>\n",
       "      <td>2015-05-04</td>\n",
       "      <td>0.000175</td>\n",
       "      <td>0.0002</td>\n",
       "      <td>1.0</td>\n",
       "      <td>0.01</td>\n",
       "      <td>0.019864</td>\n",
       "      <td>1</td>\n",
       "      <td>1</td>\n",
       "      <td>1</td>\n",
       "      <td>1</td>\n",
       "      <td>6</td>\n",
       "      <td>1</td>\n",
       "      <td>1</td>\n",
       "      <td>tier_2</td>\n",
       "      <td>1</td>\n",
       "      <td>1</td>\n",
       "      <td>0</td>\n",
       "      <td>1</td>\n",
       "      <td>2013-07-18</td>\n",
       "      <td>1</td>\n",
       "      <td>0.016450</td>\n",
       "      <td>0.004848</td>\n",
       "      <td>0.006757</td>\n",
       "      <td>0.225806</td>\n",
       "      <td>0.000090</td>\n",
       "      <td>0.016166</td>\n",
       "      <td>0.033882</td>\n",
       "      <td>0.157703</td>\n",
       "    </tr>\n",
       "    <tr>\n",
       "      <th>4</th>\n",
       "      <td>125302602</td>\n",
       "      <td>0</td>\n",
       "      <td>2015-05-15</td>\n",
       "      <td>0.000170</td>\n",
       "      <td>0.0002</td>\n",
       "      <td>1.0</td>\n",
       "      <td>0.01</td>\n",
       "      <td>0.019324</td>\n",
       "      <td>1</td>\n",
       "      <td>1</td>\n",
       "      <td>1</td>\n",
       "      <td>1</td>\n",
       "      <td>0</td>\n",
       "      <td>1</td>\n",
       "      <td>1</td>\n",
       "      <td>tier_2</td>\n",
       "      <td>1</td>\n",
       "      <td>1</td>\n",
       "      <td>0</td>\n",
       "      <td>1</td>\n",
       "      <td>2013-07-18</td>\n",
       "      <td>1</td>\n",
       "      <td>0.016450</td>\n",
       "      <td>0.004848</td>\n",
       "      <td>0.006757</td>\n",
       "      <td>0.225806</td>\n",
       "      <td>0.000090</td>\n",
       "      <td>0.016166</td>\n",
       "      <td>0.033882</td>\n",
       "      <td>0.157703</td>\n",
       "    </tr>\n",
       "    <tr>\n",
       "      <th>...</th>\n",
       "      <td>...</td>\n",
       "      <td>...</td>\n",
       "      <td>...</td>\n",
       "      <td>...</td>\n",
       "      <td>...</td>\n",
       "      <td>...</td>\n",
       "      <td>...</td>\n",
       "      <td>...</td>\n",
       "      <td>...</td>\n",
       "      <td>...</td>\n",
       "      <td>...</td>\n",
       "      <td>...</td>\n",
       "      <td>...</td>\n",
       "      <td>...</td>\n",
       "      <td>...</td>\n",
       "      <td>...</td>\n",
       "      <td>...</td>\n",
       "      <td>...</td>\n",
       "      <td>...</td>\n",
       "      <td>...</td>\n",
       "      <td>...</td>\n",
       "      <td>...</td>\n",
       "      <td>...</td>\n",
       "      <td>...</td>\n",
       "      <td>...</td>\n",
       "      <td>...</td>\n",
       "      <td>...</td>\n",
       "      <td>...</td>\n",
       "      <td>...</td>\n",
       "      <td>...</td>\n",
       "    </tr>\n",
       "    <tr>\n",
       "      <th>229842</th>\n",
       "      <td>123299082</td>\n",
       "      <td>0</td>\n",
       "      <td>2015-05-24</td>\n",
       "      <td>0.000008</td>\n",
       "      <td>0.0000</td>\n",
       "      <td>0.0</td>\n",
       "      <td>0.00</td>\n",
       "      <td>0.000000</td>\n",
       "      <td>1</td>\n",
       "      <td>1</td>\n",
       "      <td>1</td>\n",
       "      <td>0</td>\n",
       "      <td>4</td>\n",
       "      <td>1</td>\n",
       "      <td>2</td>\n",
       "      <td>tier_2</td>\n",
       "      <td>0</td>\n",
       "      <td>1</td>\n",
       "      <td>0</td>\n",
       "      <td>2</td>\n",
       "      <td>2013-07-14</td>\n",
       "      <td>1</td>\n",
       "      <td>0.113160</td>\n",
       "      <td>0.000764</td>\n",
       "      <td>0.020270</td>\n",
       "      <td>0.290323</td>\n",
       "      <td>0.001524</td>\n",
       "      <td>0.009238</td>\n",
       "      <td>0.034430</td>\n",
       "      <td>0.155847</td>\n",
       "    </tr>\n",
       "    <tr>\n",
       "      <th>229843</th>\n",
       "      <td>124128885</td>\n",
       "      <td>0</td>\n",
       "      <td>2015-04-12</td>\n",
       "      <td>0.000175</td>\n",
       "      <td>0.0000</td>\n",
       "      <td>0.0</td>\n",
       "      <td>0.00</td>\n",
       "      <td>0.000000</td>\n",
       "      <td>0</td>\n",
       "      <td>1</td>\n",
       "      <td>1</td>\n",
       "      <td>1</td>\n",
       "      <td>0</td>\n",
       "      <td>1</td>\n",
       "      <td>2</td>\n",
       "      <td>tier_1</td>\n",
       "      <td>0</td>\n",
       "      <td>1</td>\n",
       "      <td>0</td>\n",
       "      <td>1</td>\n",
       "      <td>2013-07-15</td>\n",
       "      <td>1</td>\n",
       "      <td>0.005423</td>\n",
       "      <td>0.006373</td>\n",
       "      <td>0.006757</td>\n",
       "      <td>0.064516</td>\n",
       "      <td>0.000053</td>\n",
       "      <td>0.009238</td>\n",
       "      <td>0.034120</td>\n",
       "      <td>0.160492</td>\n",
       "    </tr>\n",
       "    <tr>\n",
       "      <th>229844</th>\n",
       "      <td>124432258</td>\n",
       "      <td>0</td>\n",
       "      <td>2015-04-14</td>\n",
       "      <td>0.000060</td>\n",
       "      <td>0.0000</td>\n",
       "      <td>0.0</td>\n",
       "      <td>0.00</td>\n",
       "      <td>0.000000</td>\n",
       "      <td>0</td>\n",
       "      <td>1</td>\n",
       "      <td>1</td>\n",
       "      <td>0</td>\n",
       "      <td>0</td>\n",
       "      <td>1</td>\n",
       "      <td>3</td>\n",
       "      <td>tier_1</td>\n",
       "      <td>0</td>\n",
       "      <td>0</td>\n",
       "      <td>0</td>\n",
       "      <td>0</td>\n",
       "      <td>2013-07-15</td>\n",
       "      <td>0</td>\n",
       "      <td>0.001085</td>\n",
       "      <td>0.028134</td>\n",
       "      <td>0.000000</td>\n",
       "      <td>0.096774</td>\n",
       "      <td>0.000006</td>\n",
       "      <td>0.000000</td>\n",
       "      <td>0.033245</td>\n",
       "      <td>0.155760</td>\n",
       "    </tr>\n",
       "    <tr>\n",
       "      <th>229845</th>\n",
       "      <td>124611908</td>\n",
       "      <td>0</td>\n",
       "      <td>2015-05-29</td>\n",
       "      <td>0.000009</td>\n",
       "      <td>0.0000</td>\n",
       "      <td>0.0</td>\n",
       "      <td>0.00</td>\n",
       "      <td>0.000000</td>\n",
       "      <td>0</td>\n",
       "      <td>1</td>\n",
       "      <td>1</td>\n",
       "      <td>0</td>\n",
       "      <td>0</td>\n",
       "      <td>1</td>\n",
       "      <td>2</td>\n",
       "      <td>tier_1</td>\n",
       "      <td>0</td>\n",
       "      <td>1</td>\n",
       "      <td>0</td>\n",
       "      <td>1</td>\n",
       "      <td>2013-07-16</td>\n",
       "      <td>1</td>\n",
       "      <td>0.000000</td>\n",
       "      <td>0.000000</td>\n",
       "      <td>0.000000</td>\n",
       "      <td>0.000000</td>\n",
       "      <td>0.000000</td>\n",
       "      <td>0.000000</td>\n",
       "      <td>0.033242</td>\n",
       "      <td>0.155619</td>\n",
       "    </tr>\n",
       "    <tr>\n",
       "      <th>229846</th>\n",
       "      <td>124936227</td>\n",
       "      <td>0</td>\n",
       "      <td>2015-06-12</td>\n",
       "      <td>0.000026</td>\n",
       "      <td>0.0002</td>\n",
       "      <td>2.0</td>\n",
       "      <td>0.01</td>\n",
       "      <td>0.002205</td>\n",
       "      <td>0</td>\n",
       "      <td>1</td>\n",
       "      <td>1</td>\n",
       "      <td>0</td>\n",
       "      <td>0</td>\n",
       "      <td>1</td>\n",
       "      <td>3</td>\n",
       "      <td>tier_1</td>\n",
       "      <td>0</td>\n",
       "      <td>0</td>\n",
       "      <td>0</td>\n",
       "      <td>0</td>\n",
       "      <td>2013-07-17</td>\n",
       "      <td>0</td>\n",
       "      <td>0.010484</td>\n",
       "      <td>0.003434</td>\n",
       "      <td>0.000000</td>\n",
       "      <td>0.096774</td>\n",
       "      <td>0.000020</td>\n",
       "      <td>0.000000</td>\n",
       "      <td>0.033264</td>\n",
       "      <td>0.155943</td>\n",
       "    </tr>\n",
       "  </tbody>\n",
       "</table>\n",
       "<p>229071 rows × 30 columns</p>\n",
       "</div>"
      ],
      "text/plain": [
       "          user_id  is_new       time  basket_amount  voucher_max_amount  \\\n",
       "0       281605921       1 2015-06-12       0.000029              0.0000   \n",
       "1       281605921       1 2015-06-15       0.000024              0.0000   \n",
       "2       125302602       0 2015-04-24       0.000164              0.0000   \n",
       "3       125302602       0 2015-05-04       0.000175              0.0002   \n",
       "4       125302602       0 2015-05-15       0.000170              0.0002   \n",
       "...           ...     ...        ...            ...                 ...   \n",
       "229842  123299082       0 2015-05-24       0.000008              0.0000   \n",
       "229843  124128885       0 2015-04-12       0.000175              0.0000   \n",
       "229844  124432258       0 2015-04-14       0.000060              0.0000   \n",
       "229845  124611908       0 2015-05-29       0.000009              0.0000   \n",
       "229846  124936227       0 2015-06-12       0.000026              0.0002   \n",
       "\n",
       "        voucher_percentage  voucher_min_purchase  voucher_amount  \\\n",
       "0                      0.0                  0.00        0.000000   \n",
       "1                      0.0                  0.00        0.000000   \n",
       "2                      0.0                  0.00        0.000000   \n",
       "3                      1.0                  0.01        0.019864   \n",
       "4                      1.0                  0.01        0.019324   \n",
       "...                    ...                   ...             ...   \n",
       "229842                 0.0                  0.00        0.000000   \n",
       "229843                 0.0                  0.00        0.000000   \n",
       "229844                 0.0                  0.00        0.000000   \n",
       "229845                 0.0                  0.00        0.000000   \n",
       "229846                 2.0                  0.01        0.002205   \n",
       "\n",
       "        trx_is_voucher  is_paid  is_remitted  user_purchased_prior  \\\n",
       "0                    0        0            0                     0   \n",
       "1                    0        1            1                     0   \n",
       "2                    0        1            1                     1   \n",
       "3                    1        1            1                     1   \n",
       "4                    1        1            1                     1   \n",
       "...                ...      ...          ...                   ...   \n",
       "229842               1        1            1                     0   \n",
       "229843               0        1            1                     1   \n",
       "229844               0        1            1                     0   \n",
       "229845               0        1            1                     0   \n",
       "229846               0        1            1                     0   \n",
       "\n",
       "        num_voucher_errors  purchase  province marketing_tier  user_type  \\\n",
       "0                        0         0         0         tier_2          0   \n",
       "1                        0         1         0         tier_2          0   \n",
       "2                        6         1         1         tier_2          1   \n",
       "3                        6         1         1         tier_2          1   \n",
       "4                        0         1         1         tier_2          1   \n",
       "...                    ...       ...       ...            ...        ...   \n",
       "229842                   4         1         2         tier_2          0   \n",
       "229843                   0         1         2         tier_1          0   \n",
       "229844                   0         1         3         tier_1          0   \n",
       "229845                   0         1         2         tier_1          0   \n",
       "229846                   0         1         3         tier_1          0   \n",
       "\n",
       "        user_group  account_type  referrer_type account_created_at  \\\n",
       "0                0             0              0         2014-03-23   \n",
       "1                0             0              0         2014-03-23   \n",
       "2                1             0              1         2013-07-18   \n",
       "3                1             0              1         2013-07-18   \n",
       "4                1             0              1         2013-07-18   \n",
       "...            ...           ...            ...                ...   \n",
       "229842           1             0              2         2013-07-14   \n",
       "229843           1             0              1         2013-07-15   \n",
       "229844           0             0              0         2013-07-15   \n",
       "229845           1             0              1         2013-07-16   \n",
       "229846           0             0              0         2013-07-17   \n",
       "\n",
       "        user_register_from  sessions  average_session_length  \\\n",
       "0                        0  0.004158                0.001420   \n",
       "1                        0  0.004158                0.001420   \n",
       "2                        1  0.016450                0.004848   \n",
       "3                        1  0.016450                0.004848   \n",
       "4                        1  0.016450                0.004848   \n",
       "...                    ...       ...                     ...   \n",
       "229842                   1  0.113160                0.000764   \n",
       "229843                   1  0.005423                0.006373   \n",
       "229844                   0  0.001085                0.028134   \n",
       "229845                   1  0.000000                0.000000   \n",
       "229846                   0  0.010484                0.003434   \n",
       "\n",
       "        num_visit_promo_page  num_product_types   num_trx  num_trx_voucher  \\\n",
       "0                   0.000000           0.000000  0.000000         0.000000   \n",
       "1                   0.000000           0.000000  0.000000         0.000000   \n",
       "2                   0.006757           0.225806  0.000090         0.016166   \n",
       "3                   0.006757           0.225806  0.000090         0.016166   \n",
       "4                   0.006757           0.225806  0.000090         0.016166   \n",
       "...                      ...                ...       ...              ...   \n",
       "229842              0.020270           0.290323  0.001524         0.009238   \n",
       "229843              0.006757           0.064516  0.000053         0.009238   \n",
       "229844              0.000000           0.096774  0.000006         0.000000   \n",
       "229845              0.000000           0.000000  0.000000         0.000000   \n",
       "229846              0.000000           0.096774  0.000020         0.000000   \n",
       "\n",
       "             gmv       aov  \n",
       "0       0.033242  0.155619  \n",
       "1       0.033242  0.155619  \n",
       "2       0.033882  0.157703  \n",
       "3       0.033882  0.157703  \n",
       "4       0.033882  0.157703  \n",
       "...          ...       ...  \n",
       "229842  0.034430  0.155847  \n",
       "229843  0.034120  0.160492  \n",
       "229844  0.033245  0.155760  \n",
       "229845  0.033242  0.155619  \n",
       "229846  0.033264  0.155943  \n",
       "\n",
       "[229071 rows x 30 columns]"
      ]
     },
     "execution_count": 11,
     "metadata": {},
     "output_type": "execute_result"
    }
   ],
   "source": [
    "df_initial"
   ]
  },
  {
   "cell_type": "markdown",
   "metadata": {},
   "source": [
    "#### Yeay no more missing values"
   ]
  },
  {
   "cell_type": "markdown",
   "metadata": {},
   "source": [
    "### Detecting duplicates"
   ]
  },
  {
   "cell_type": "code",
   "execution_count": 11,
   "metadata": {},
   "outputs": [
    {
     "name": "stdout",
     "output_type": "stream",
     "text": [
      "Duplicate value: 1041\n"
     ]
    }
   ],
   "source": [
    "print('Duplicate value: {}'.format(df_initial.duplicated().sum()))"
   ]
  },
  {
   "cell_type": "code",
   "execution_count": 12,
   "metadata": {},
   "outputs": [],
   "source": [
    "df_initial.drop_duplicates(keep='first', inplace=True)"
   ]
  },
  {
   "cell_type": "code",
   "execution_count": 13,
   "metadata": {},
   "outputs": [
    {
     "name": "stdout",
     "output_type": "stream",
     "text": [
      "Duplicate value: 0\n"
     ]
    }
   ],
   "source": [
    "print('Duplicate value: {}'.format(df_initial.duplicated().sum()))"
   ]
  },
  {
   "cell_type": "code",
   "execution_count": 16,
   "metadata": {},
   "outputs": [
    {
     "data": {
      "image/png": "[encoded data removed]",
      "text/plain": [
       "<Figure size 1152x1152 with 2 Axes>"
      ]
     },
     "metadata": {
      "needs_background": "light"
     },
     "output_type": "display_data"
    }
   ],
   "source": [
    "correlation = df_initial.corr()\n",
    "\n",
    "plt.figure(figsize = (16,16))\n",
    "\n",
    "ax = sns.heatmap(correlation, annot=True, cmap = 'GnBu')"
   ]
  },
  {
   "cell_type": "code",
   "execution_count": 17,
   "metadata": {},
   "outputs": [
    {
     "data": {
      "text/plain": [
       "user_group          referrer_type           0.729818\n",
       "is_paid             is_remitted             0.734730\n",
       "gmv                 aov                     0.782725\n",
       "is_paid             purchase                0.912444\n",
       "voucher_max_amount  voucher_min_purchase    0.925980\n",
       "user_id             user_id                      NaN\n",
       "dtype: float64"
      ]
     },
     "execution_count": 17,
     "metadata": {},
     "output_type": "execute_result"
    }
   ],
   "source": [
    "def corrFilter(bound: float):\n",
    "    xFiltered = correlation[((correlation >= bound) | (correlation <= -bound)) & (correlation !=1.000)]\n",
    "    xFlattened = xFiltered.unstack().sort_values().drop_duplicates()\n",
    "    return xFlattened\n",
    "\n",
    "corrFilter(.7)"
   ]
  },
  {
   "cell_type": "markdown",
   "metadata": {},
   "source": [
    "# 2. EDA"
   ]
  },
  {
   "cell_type": "markdown",
   "metadata": {},
   "source": [
    "We will plot several features to see the connection between the features in the data.\n",
    "\n",
    "#### The thing to keep in mind is that correlation in data may or may not be the cause of why the data is like that. The causation inference will be done in the next step"
   ]
  },
  {
   "cell_type": "code",
   "execution_count": 12,
   "metadata": {},
   "outputs": [
    {
     "data": {
      "text/plain": [
       "<seaborn.axisgrid.FacetGrid at 0x1ee52e0d220>"
      ]
     },
     "execution_count": 12,
     "metadata": {},
     "output_type": "execute_result"
    },
    {
     "data": {
      "image/png": "[encoded data removed]",
      "text/plain": [
       "<Figure size 409.25x360 with 1 Axes>"
      ]
     },
     "metadata": {},
     "output_type": "display_data"
    }
   ],
   "source": [
    "sns.catplot(x='is_new', kind='count', hue='purchase', data=df_initial)"
   ]
  },
  {
   "cell_type": "code",
   "execution_count": 13,
   "metadata": {},
   "outputs": [
    {
     "data": {
      "text/plain": [
       "<AxesSubplot:xlabel='is_new'>"
      ]
     },
     "execution_count": 13,
     "metadata": {},
     "output_type": "execute_result"
    },
    {
     "data": {
      "image/png": "[encoded data removed]",
      "text/plain": [
       "<Figure size 1728x720 with 1 Axes>"
      ]
     },
     "metadata": {},
     "output_type": "display_data"
    }
   ],
   "source": [
    "df_initial.groupby('is_new', as_index=True)['purchase'].mean().plot(kind='bar')"
   ]
  },
  {
   "cell_type": "markdown",
   "metadata": {},
   "source": [
    "Here we can see that the new and old customer have the same number of purchase average, so there is no difference in number of purchase, whether it is from new or old customer"
   ]
  },
  {
   "cell_type": "code",
   "execution_count": 10,
   "metadata": {},
   "outputs": [],
   "source": [
    "df_temp1 = df_initial[df_initial['purchase']==1].groupby('province', as_index=False)['purchase'].count()\n",
    "df_temp2 = df_initial[df_initial['trx_is_voucher']==1].groupby('province', as_index=False)['trx_is_voucher'].count()\n",
    "df_merged = pd.merge(df_temp1, df_temp2, how='outer', on=['province'])"
   ]
  },
  {
   "cell_type": "code",
   "execution_count": 11,
   "metadata": {},
   "outputs": [
    {
     "data": {
      "image/png": "[encoded data removed]",
      "text/plain": [
       "<Figure size 1728x720 with 1 Axes>"
      ]
     },
     "metadata": {},
     "output_type": "display_data"
    }
   ],
   "source": [
    "sns.set_context({'figure.figsize':(24,10)})\n",
    "sns.set_style('dark')\n",
    "\n",
    "sns.barplot(x='province', y='purchase', data=df_merged, color='pink')\n",
    "bottom_plot = sns.barplot(x='province', y='trx_is_voucher', data=df_merged, color='red')\n",
    "\n",
    "topbar = plt.Rectangle((0,0),1,1,fc='pink', edgecolor='none')\n",
    "bottombar = plt.Rectangle((0,0),1,1,fc='red', edgecolor='none')\n",
    "l = plt.legend([bottombar, topbar], ['Total Voucher applied count','Total purchase count'], loc=1, ncol=2, prop={'size':16})\n",
    "l.draw_frame(False)\n",
    "\n",
    "sns.despine(left=True, bottom=True)\n",
    "bottom_plot.set_ylabel('Total Count')\n",
    "bottom_plot.set_xlabel('Province')\n",
    "\n",
    "for item in ([bottom_plot.xaxis.label, bottom_plot.yaxis.label] + bottom_plot.get_xticklabels() + bottom_plot.get_yticklabels()):\n",
    "    item.set_fontsize(16)"
   ]
  },
  {
   "cell_type": "markdown",
   "metadata": {},
   "source": [
    "1. Province 1 has the highest total count of purchase\n",
    "2. Province 13 has the highest ratio between voucher applied count and total purchase count"
   ]
  },
  {
   "cell_type": "markdown",
   "metadata": {},
   "source": [
    "<!-- 1. Province no.1 have the highest purchase using voucher count\n",
    "2. Province no.13 have the highest ratio of voucher usage in purchase\n",
    "3. All of the provinces except No.13 is more likely to not using voucher when purchasing -->"
   ]
  },
  {
   "cell_type": "code",
   "execution_count": 14,
   "metadata": {},
   "outputs": [
    {
     "data": {
      "text/plain": [
       "<seaborn.axisgrid.FacetGrid at 0x1ee5717dd30>"
      ]
     },
     "execution_count": 14,
     "metadata": {},
     "output_type": "execute_result"
    },
    {
     "data": {
      "image/png": "[encoded data removed]",
      "text/plain": [
       "<Figure size 409.25x360 with 1 Axes>"
      ]
     },
     "metadata": {},
     "output_type": "display_data"
    }
   ],
   "source": [
    "sns.catplot(x='trx_is_voucher', kind='count', hue='purchase', data=df_initial)"
   ]
  },
  {
   "cell_type": "markdown",
   "metadata": {},
   "source": [
    "Here we can see that customers are more likely to not use voucher when purchasing. Although, customers who is using vouchers will decide to purchase the product."
   ]
  },
  {
   "cell_type": "code",
   "execution_count": 15,
   "metadata": {},
   "outputs": [
    {
     "data": {
      "text/plain": [
       "<AxesSubplot:xlabel='marketing_tier'>"
      ]
     },
     "execution_count": 15,
     "metadata": {},
     "output_type": "execute_result"
    },
    {
     "data": {
      "image/png": "[encoded data removed]",
      "text/plain": [
       "<Figure size 1728x720 with 1 Axes>"
      ]
     },
     "metadata": {},
     "output_type": "display_data"
    }
   ],
   "source": [
    "df_initial[(df_initial['purchase']==1)].groupby('marketing_tier', as_index=True)['purchase'].count().plot(kind='bar')"
   ]
  },
  {
   "cell_type": "markdown",
   "metadata": {},
   "source": [
    "Tier 1 have the highest purchase count"
   ]
  },
  {
   "cell_type": "code",
   "execution_count": 15,
   "metadata": {},
   "outputs": [
    {
     "data": {
      "text/plain": [
       "<AxesSubplot:xlabel='purchase', ylabel='num_trx'>"
      ]
     },
     "execution_count": 15,
     "metadata": {},
     "output_type": "execute_result"
    },
    {
     "data": {
      "image/png": "[encoded data removed]",
      "text/plain": [
       "<Figure size 360x504 with 1 Axes>"
      ]
     },
     "metadata": {
      "needs_background": "light"
     },
     "output_type": "display_data"
    }
   ],
   "source": [
    "sns.set_context({'figure.figsize':(5,7)})\n",
    "sns.scatterplot(data=df_initial, x='purchase', y='num_trx')"
   ]
  },
  {
   "cell_type": "code",
   "execution_count": 16,
   "metadata": {},
   "outputs": [
    {
     "data": {
      "text/plain": [
       "<AxesSubplot:xlabel='purchase', ylabel='num_trx'>"
      ]
     },
     "execution_count": 16,
     "metadata": {},
     "output_type": "execute_result"
    },
    {
     "data": {
      "image/png": "[encoded data removed]",
      "text/plain": [
       "<Figure size 360x504 with 1 Axes>"
      ]
     },
     "metadata": {
      "needs_background": "light"
     },
     "output_type": "display_data"
    }
   ],
   "source": [
    "df_temp = df_initial[df_initial['num_trx']<0.6]\n",
    "\n",
    "sns.scatterplot(data=df_temp, x='purchase', y='num_trx')"
   ]
  },
  {
   "cell_type": "markdown",
   "metadata": {},
   "source": [
    "As we can see from scatter plot, customer who purchase tend to have higher amount of number of transaction"
   ]
  },
  {
   "cell_type": "code",
   "execution_count": 17,
   "metadata": {},
   "outputs": [
    {
     "data": {
      "text/plain": [
       "<AxesSubplot:xlabel='purchase', ylabel='voucher_min_purchase'>"
      ]
     },
     "execution_count": 17,
     "metadata": {},
     "output_type": "execute_result"
    },
    {
     "data": {
      "image/png": "[encoded data removed]",
      "text/plain": [
       "<Figure size 360x504 with 1 Axes>"
      ]
     },
     "metadata": {
      "needs_background": "light"
     },
     "output_type": "display_data"
    }
   ],
   "source": [
    "sns.scatterplot(data=df_initial, x='purchase', y='voucher_min_purchase')"
   ]
  },
  {
   "cell_type": "code",
   "execution_count": 18,
   "metadata": {},
   "outputs": [
    {
     "data": {
      "text/plain": [
       "<AxesSubplot:xlabel='purchase', ylabel='voucher_min_purchase'>"
      ]
     },
     "execution_count": 18,
     "metadata": {},
     "output_type": "execute_result"
    },
    {
     "data": {
      "image/png": "[encoded data removed]",
      "text/plain": [
       "<Figure size 360x504 with 1 Axes>"
      ]
     },
     "metadata": {
      "needs_background": "light"
     },
     "output_type": "display_data"
    }
   ],
   "source": [
    "df_temp = df_initial[df_initial['voucher_min_purchase']<0.5]\n",
    "\n",
    "sns.scatterplot(data=df_temp, x='purchase', y='voucher_min_purchase')"
   ]
  },
  {
   "cell_type": "code",
   "execution_count": 19,
   "metadata": {},
   "outputs": [
    {
     "data": {
      "text/plain": [
       "<AxesSubplot:xlabel='purchase'>"
      ]
     },
     "execution_count": 19,
     "metadata": {},
     "output_type": "execute_result"
    },
    {
     "data": {
      "image/png": "[encoded data removed]",
      "text/plain": [
       "<Figure size 360x504 with 1 Axes>"
      ]
     },
     "metadata": {
      "needs_background": "light"
     },
     "output_type": "display_data"
    }
   ],
   "source": [
    "df_temp.groupby('purchase')['voucher_min_purchase'].count().plot(kind='bar')"
   ]
  },
  {
   "cell_type": "code",
   "execution_count": 20,
   "metadata": {},
   "outputs": [
    {
     "data": {
      "text/plain": [
       "<AxesSubplot:xlabel='purchase'>"
      ]
     },
     "execution_count": 20,
     "metadata": {},
     "output_type": "execute_result"
    },
    {
     "data": {
      "image/png": "[encoded data removed]",
      "text/plain": [
       "<Figure size 360x504 with 1 Axes>"
      ]
     },
     "metadata": {
      "needs_background": "light"
     },
     "output_type": "display_data"
    }
   ],
   "source": [
    "df_temp.groupby('purchase')['voucher_min_purchase'].mean().plot(kind='bar')"
   ]
  },
  {
   "cell_type": "markdown",
   "metadata": {},
   "source": [
    "From the plots above, voucher_min_purchase can lead to purchase"
   ]
  },
  {
   "cell_type": "code",
   "execution_count": 22,
   "metadata": {},
   "outputs": [
    {
     "data": {
      "text/plain": [
       "<AxesSubplot:xlabel='account_created_at'>"
      ]
     },
     "execution_count": 22,
     "metadata": {},
     "output_type": "execute_result"
    },
    {
     "data": {
      "image/png": "[encoded data removed]",
      "text/plain": [
       "<Figure size 1728x720 with 1 Axes>"
      ]
     },
     "metadata": {},
     "output_type": "display_data"
    }
   ],
   "source": [
    "df_initial.groupby(df_initial['account_created_at'].dt.to_period('m'), as_index=True)['basket_amount'].sum().plot(kind='bar')"
   ]
  },
  {
   "cell_type": "code",
   "execution_count": 23,
   "metadata": {},
   "outputs": [
    {
     "data": {
      "text/plain": [
       "<AxesSubplot:xlabel='account_created_at'>"
      ]
     },
     "execution_count": 23,
     "metadata": {},
     "output_type": "execute_result"
    },
    {
     "data": {
      "image/png": "[encoded data removed]",
      "text/plain": [
       "<Figure size 1728x720 with 1 Axes>"
      ]
     },
     "metadata": {},
     "output_type": "display_data"
    }
   ],
   "source": [
    "df_initial.groupby(df_initial['account_created_at'].dt.to_period('Y'), as_index=True)['basket_amount'].sum().plot(kind='bar')"
   ]
  },
  {
   "cell_type": "code",
   "execution_count": 24,
   "metadata": {},
   "outputs": [
    {
     "data": {
      "text/plain": [
       "<AxesSubplot:xlabel='account_created_at'>"
      ]
     },
     "execution_count": 24,
     "metadata": {},
     "output_type": "execute_result"
    },
    {
     "data": {
      "image/png": "[encoded data removed]",
      "text/plain": [
       "<Figure size 1728x720 with 1 Axes>"
      ]
     },
     "metadata": {},
     "output_type": "display_data"
    }
   ],
   "source": [
    "df_initial.groupby(df_initial['account_created_at'].dt.to_period('Y'), as_index=True)['basket_amount'].mean().plot(kind='bar')"
   ]
  },
  {
   "cell_type": "markdown",
   "metadata": {},
   "source": [
    "Account created at 2013 have higher basket amount count and average than any year"
   ]
  },
  {
   "cell_type": "code",
   "execution_count": 21,
   "metadata": {},
   "outputs": [
    {
     "data": {
      "text/plain": [
       "<AxesSubplot:xlabel='trx_is_voucher', ylabel='basket_amount'>"
      ]
     },
     "execution_count": 21,
     "metadata": {},
     "output_type": "execute_result"
    },
    {
     "data": {
      "image/png": "[encoded data removed]",
      "text/plain": [
       "<Figure size 360x504 with 1 Axes>"
      ]
     },
     "metadata": {
      "needs_background": "light"
     },
     "output_type": "display_data"
    }
   ],
   "source": [
    "sns.scatterplot(data=df_temp, x='trx_is_voucher', y='basket_amount')"
   ]
  },
  {
   "cell_type": "markdown",
   "metadata": {},
   "source": [
    "From the plot above, customer who is not using voucher have higher basket amount"
   ]
  },
  {
   "cell_type": "code",
   "execution_count": 22,
   "metadata": {},
   "outputs": [
    {
     "data": {
      "text/plain": [
       "<AxesSubplot:xlabel='user_purchased_prior', ylabel='basket_amount'>"
      ]
     },
     "execution_count": 22,
     "metadata": {},
     "output_type": "execute_result"
    },
    {
     "data": {
      "image/png": "[encoded data removed]",
      "text/plain": [
       "<Figure size 360x504 with 1 Axes>"
      ]
     },
     "metadata": {
      "needs_background": "light"
     },
     "output_type": "display_data"
    }
   ],
   "source": [
    "sns.scatterplot(data=df_temp, x='user_purchased_prior', y='basket_amount')"
   ]
  },
  {
   "cell_type": "markdown",
   "metadata": {},
   "source": [
    "From the plot above, customer who have purchased prior to the event have higher basket amount"
   ]
  },
  {
   "cell_type": "code",
   "execution_count": 23,
   "metadata": {},
   "outputs": [
    {
     "data": {
      "text/plain": [
       "<AxesSubplot:xlabel='purchase', ylabel='basket_amount'>"
      ]
     },
     "execution_count": 23,
     "metadata": {},
     "output_type": "execute_result"
    },
    {
     "data": {
      "image/png": "[encoded data removed]",
      "text/plain": [
       "<Figure size 360x504 with 1 Axes>"
      ]
     },
     "metadata": {
      "needs_background": "light"
     },
     "output_type": "display_data"
    }
   ],
   "source": [
    "sns.scatterplot(data=df_temp, x='purchase', y='basket_amount')"
   ]
  },
  {
   "cell_type": "markdown",
   "metadata": {},
   "source": [
    "From the plot above, customer who purchase tend to have higher basket amount"
   ]
  },
  {
   "cell_type": "code",
   "execution_count": 28,
   "metadata": {},
   "outputs": [
    {
     "data": {
      "text/plain": [
       "<AxesSubplot:xlabel='province'>"
      ]
     },
     "execution_count": 28,
     "metadata": {},
     "output_type": "execute_result"
    },
    {
     "data": {
      "image/png": "[encoded data removed]",
      "text/plain": [
       "<Figure size 1728x720 with 1 Axes>"
      ]
     },
     "metadata": {},
     "output_type": "display_data"
    }
   ],
   "source": [
    "df_temp.groupby('province')['basket_amount'].mean().plot(kind='bar')"
   ]
  },
  {
   "cell_type": "markdown",
   "metadata": {},
   "source": [
    "From the plot above, customer who is in province 9, on average have higher basket amount"
   ]
  },
  {
   "cell_type": "code",
   "execution_count": 24,
   "metadata": {},
   "outputs": [
    {
     "data": {
      "text/plain": [
       "<AxesSubplot:xlabel='marketing_tier', ylabel='basket_amount'>"
      ]
     },
     "execution_count": 24,
     "metadata": {},
     "output_type": "execute_result"
    },
    {
     "data": {
      "image/png": "[encoded data removed]",
      "text/plain": [
       "<Figure size 360x504 with 1 Axes>"
      ]
     },
     "metadata": {
      "needs_background": "light"
     },
     "output_type": "display_data"
    }
   ],
   "source": [
    "sns.barplot(data=df_initial, x='marketing_tier', y='basket_amount')"
   ]
  },
  {
   "cell_type": "markdown",
   "metadata": {},
   "source": [
    "Customer who is in tier 1 tend to have higher basket amount than any marketing tier"
   ]
  },
  {
   "cell_type": "markdown",
   "metadata": {},
   "source": [
    "# 3. DoWhy"
   ]
  },
  {
   "cell_type": "markdown",
   "metadata": {},
   "source": [
    "Despite the hype around AI, most Machine Learning (ML)-based projects focus on predicting outcomes rather than understanding causality. Indeed, after several projects, I realized that ML is great at finding correlations in data, but not causation. In our projects, we try to not fall into the trap of equating correlation with causation.\n",
    "\n",
    "Even though we can observe correlation, it does not prove causation."
   ]
  },
  {
   "cell_type": "markdown",
   "metadata": {},
   "source": [
    "##### Causality: influence by which one event, process or state, a cause, contributes to the production of another event, process or state, an effect, where the cause is partly responsible for the effect, and the effect is partly dependent on the cause."
   ]
  },
  {
   "cell_type": "markdown",
   "metadata": {},
   "source": [
    "Much like machine learning libraries have done for prediction, \"DoWhy\" is a Python library that aims to spark causal thinking and analysis. DoWhy provides a principled four-step interface for causal inference that focuses on explicitly modeling causal assumptions and validating them as much as possible. The key feature of DoWhy is its state-of-the-art refutation API that can automatically test causal assumptions for any estimation method, thus making inference more robust and accessible to non-experts. "
   ]
  },
  {
   "cell_type": "markdown",
   "metadata": {},
   "source": [
    "### Question:"
   ]
  },
  {
   "cell_type": "markdown",
   "metadata": {},
   "source": [
    "1. What factors contribute to users making purchase? Provide top 2 contributing factors and calculate their potential impact\n",
    "2. What factors contribute to users generating higher basket amount? Provide top 2 contributing factors and calculate their potential impact"
   ]
  },
  {
   "cell_type": "code",
   "execution_count": 16,
   "metadata": {},
   "outputs": [],
   "source": [
    "df_initial['purchase_1'] = df_initial['purchase'].apply(lambda x: True if x == 1 else False)"
   ]
  },
  {
   "cell_type": "code",
   "execution_count": 17,
   "metadata": {},
   "outputs": [],
   "source": [
    "training = df_initial[['purchase_1','is_new','basket_amount',\n",
    "                      'trx_is_voucher','user_purchased_prior','sessions',\n",
    "                      'average_session_length','num_trx','num_trx_voucher',\n",
    "                      'gmv','aov','num_visit_promo_page',\n",
    "                      'voucher_max_amount','voucher_percentage','voucher_min_purchase',\n",
    "                      'voucher_amount','num_voucher_errors']].copy()"
   ]
  },
  {
   "cell_type": "markdown",
   "metadata": {},
   "source": [
    "We will only be using features shown above"
   ]
  },
  {
   "cell_type": "code",
   "execution_count": 18,
   "metadata": {},
   "outputs": [],
   "source": [
    "#Creating the causal graph\n",
    "causal_graph = \"\"\"\n",
    "digraph {\n",
    "is_new;\n",
    "basket_amount;\n",
    "trx_is_voucher;\n",
    "user_purchased_prior;\n",
    "purchase_1;\n",
    "sessions;\n",
    "average_session_length;\n",
    "num_trx;\n",
    "num_trx_voucher;\n",
    "gmv;\n",
    "aov;\n",
    "num_visit_promo_page;\n",
    "voucher_max_amount;\n",
    "voucher_percentage;\n",
    "voucher_min_purchase;\n",
    "voucher_amount;\n",
    "num_voucher_errors;\n",
    "U[label=\"Unobserved Confounders\"];\n",
    "\n",
    "is_new -> purchase_1; \n",
    "basket_amount -> purchase_1; \n",
    "trx_is_voucher->purchase_1;\n",
    "user_purchased_prior -> gmv;\n",
    "user_purchased_prior -> aov;\n",
    "user_purchased_prior -> num_trx;\n",
    "user_purchased_prior -> sessions;\n",
    "user_purchased_prior -> num_visit_promo_page;\n",
    "user_purchased_prior -> basket_amount;\n",
    "sessions -> average_session_length;\n",
    "average_session_length -> purchase_1;\n",
    "num_visit_promo_page -> trx_is_voucher;\n",
    "num_visit_promo_page -> num_trx_voucher;\n",
    "num_trx -> purchase_1;\n",
    "num_trx_voucher -> trx_is_voucher;\n",
    "voucher_max_amount-> trx_is_voucher;\n",
    "voucher_percentage-> trx_is_voucher;\n",
    "voucher_min_purchase-> trx_is_voucher;\n",
    "voucher_amount-> trx_is_voucher;\n",
    "num_voucher_errors-> trx_is_voucher;\n",
    "gmv -> purchase_1;\n",
    "gmv -> basket_amount;\n",
    "aov -> purchase_1;\n",
    "aov -> basket_amount;\n",
    "U->purchase_1;\n",
    "U->trx_is_voucher;\n",
    "U->basket_amount;\n",
    "U->is_new;\n",
    "U->user_purchased_prior;\n",
    "U->gmv;\n",
    "U->aov;\n",
    "U->num_trx;\n",
    "U->sessions;\n",
    "U->average_session_length;\n",
    "U->num_visit_promo_page;\n",
    "U->num_trx_voucher;\n",
    "U->voucher_max_amount;\n",
    "U->voucher_percentage;\n",
    "U->voucher_min_purchase;\n",
    "U->voucher_amount;\n",
    "U->num_voucher_errors;\n",
    "}\n",
    "\"\"\""
   ]
  },
  {
   "cell_type": "markdown",
   "metadata": {},
   "source": [
    "On the code above, we create the causation graph.\n",
    "#### This is based solely on my limited knowledge and assumptions. DoWhy algorithm is expected to see the causational linkage between the feature that I have missed"
   ]
  },
  {
   "cell_type": "markdown",
   "metadata": {},
   "source": [
    "## 3.1 Contributing factors on Purchase"
   ]
  },
  {
   "cell_type": "code",
   "execution_count": 105,
   "metadata": {
    "collapsed": true,
    "jupyter": {
     "outputs_hidden": true
    }
   },
   "outputs": [
    {
     "name": "stderr",
     "output_type": "stream",
     "text": [
      "ERROR:dowhy.causal_graph:Error: Pygraphviz cannot be loaded. No module named 'pygraphviz'\n",
      "Trying pydot ...\n",
      "INFO:dowhy.causal_model:Model to find the causal effect of treatment ['is_new'] on outcome ['purchase_1']\n",
      "WARNING:dowhy.causal_identifier:If this is observed data (not from a randomized experiment), there might always be missing confounders. Causal effect cannot be identified perfectly.\n",
      "INFO:dowhy.causal_identifier:Continuing by ignoring these unobserved confounders because proceed_when_unidentifiable flag is True.\n",
      "INFO:dowhy.causal_identifier:Instrumental variables for treatment and outcome:[]\n",
      "INFO:dowhy.causal_identifier:Frontdoor variables for treatment and outcome:[]\n",
      "INFO:dowhy.causal_estimator:b: purchase_1~is_new+num_voucher_errors+num_trx+basket_amount+average_session_length+user_purchased_prior+num_trx_voucher+trx_is_voucher+num_visit_promo_page+gmv+voucher_percentage+voucher_min_purchase+sessions+voucher_amount+voucher_max_amount+aov+is_new*average_session_length+is_new*user_purchased_prior+is_new*num_trx_voucher+is_new*trx_is_voucher+is_new*num_visit_promo_page+is_new*num_voucher_errors+is_new*num_trx+is_new*gmv+is_new*voucher_percentage+is_new*voucher_min_purchase+is_new*sessions+is_new*basket_amount+is_new*voucher_amount+is_new*voucher_max_amount+is_new*aov\n",
      "INFO:dowhy.causal_estimator:INFO: Using Linear Regression Estimator\n",
      "ERROR:dowhy.causal_graph:Error: Pygraphviz cannot be loaded. No module named 'pygraphviz'\n",
      "Trying pydot ...\n",
      "INFO:dowhy.causal_model:Model to find the causal effect of treatment ['basket_amount'] on outcome ['purchase_1']\n",
      "WARNING:dowhy.causal_identifier:If this is observed data (not from a randomized experiment), there might always be missing confounders. Causal effect cannot be identified perfectly.\n",
      "INFO:dowhy.causal_identifier:Continuing by ignoring these unobserved confounders because proceed_when_unidentifiable flag is True.\n",
      "INFO:dowhy.causal_identifier:Instrumental variables for treatment and outcome:[]\n",
      "INFO:dowhy.causal_identifier:Frontdoor variables for treatment and outcome:[]\n",
      "INFO:dowhy.causal_estimator:b: purchase_1~basket_amount+voucher_max_amount+num_voucher_errors+num_trx+average_session_length+user_purchased_prior+num_trx_voucher+trx_is_voucher+num_visit_promo_page+gmv+voucher_percentage+voucher_min_purchase+sessions+voucher_amount+is_new+aov+basket_amount*average_session_length+basket_amount*num_trx_voucher+basket_amount*trx_is_voucher+basket_amount*num_visit_promo_page+basket_amount*num_voucher_errors+basket_amount*num_trx+basket_amount*voucher_percentage+basket_amount*voucher_min_purchase+basket_amount*sessions+basket_amount*is_new+basket_amount*voucher_amount+basket_amount*voucher_max_amount\n",
      "INFO:dowhy.causal_estimator:INFO: Using Linear Regression Estimator\n",
      "ERROR:dowhy.causal_graph:Error: Pygraphviz cannot be loaded. No module named 'pygraphviz'\n",
      "Trying pydot ...\n",
      "INFO:dowhy.causal_model:Model to find the causal effect of treatment ['trx_is_voucher'] on outcome ['purchase_1']\n",
      "WARNING:dowhy.causal_identifier:If this is observed data (not from a randomized experiment), there might always be missing confounders. Causal effect cannot be identified perfectly.\n",
      "INFO:dowhy.causal_identifier:Continuing by ignoring these unobserved confounders because proceed_when_unidentifiable flag is True.\n",
      "INFO:dowhy.causal_identifier:Instrumental variables for treatment and outcome:[]\n",
      "INFO:dowhy.causal_identifier:Frontdoor variables for treatment and outcome:[]\n",
      "INFO:dowhy.causal_estimator:b: purchase_1~trx_is_voucher+voucher_max_amount+num_voucher_errors+num_trx+basket_amount+average_session_length+user_purchased_prior+num_trx_voucher+num_visit_promo_page+gmv+voucher_percentage+voucher_min_purchase+sessions+voucher_amount+is_new+aov+trx_is_voucher*sessions+trx_is_voucher*average_session_length+trx_is_voucher*basket_amount+trx_is_voucher*is_new+trx_is_voucher*aov+trx_is_voucher*num_trx+trx_is_voucher*gmv\n",
      "INFO:dowhy.causal_estimator:INFO: Using Linear Regression Estimator\n",
      "ERROR:dowhy.causal_graph:Error: Pygraphviz cannot be loaded. No module named 'pygraphviz'\n",
      "Trying pydot ...\n",
      "INFO:dowhy.causal_model:Model to find the causal effect of treatment ['user_purchased_prior'] on outcome ['purchase_1']\n",
      "WARNING:dowhy.causal_identifier:If this is observed data (not from a randomized experiment), there might always be missing confounders. Causal effect cannot be identified perfectly.\n",
      "INFO:dowhy.causal_identifier:Continuing by ignoring these unobserved confounders because proceed_when_unidentifiable flag is True.\n",
      "INFO:dowhy.causal_identifier:Instrumental variables for treatment and outcome:[]\n",
      "INFO:dowhy.causal_identifier:Frontdoor variables for treatment and outcome:['num_trx_voucher']\n",
      "WARNING:dowhy.causal_identifier:If this is observed data (not from a randomized experiment), there might always be missing confounders. Causal effect cannot be identified perfectly.\n",
      "INFO:dowhy.causal_identifier:Continuing by ignoring these unobserved confounders because proceed_when_unidentifiable flag is True.\n",
      "WARNING:dowhy.causal_identifier:If this is observed data (not from a randomized experiment), there might always be missing confounders. Causal effect cannot be identified perfectly.\n",
      "INFO:dowhy.causal_identifier:Continuing by ignoring these unobserved confounders because proceed_when_unidentifiable flag is True.\n",
      "INFO:dowhy.causal_estimator:b: purchase_1~user_purchased_prior+voucher_max_amount+num_voucher_errors+voucher_percentage+voucher_min_purchase+voucher_amount+is_new+user_purchased_prior*voucher_percentage+user_purchased_prior*voucher_min_purchase+user_purchased_prior*voucher_max_amount+user_purchased_prior*voucher_amount+user_purchased_prior*is_new+user_purchased_prior*num_voucher_errors\n",
      "INFO:dowhy.causal_estimator:INFO: Using Linear Regression Estimator\n",
      "ERROR:dowhy.causal_graph:Error: Pygraphviz cannot be loaded. No module named 'pygraphviz'\n",
      "Trying pydot ...\n",
      "INFO:dowhy.causal_model:Model to find the causal effect of treatment ['sessions'] on outcome ['purchase_1']\n",
      "WARNING:dowhy.causal_identifier:If this is observed data (not from a randomized experiment), there might always be missing confounders. Causal effect cannot be identified perfectly.\n",
      "INFO:dowhy.causal_identifier:Continuing by ignoring these unobserved confounders because proceed_when_unidentifiable flag is True.\n",
      "INFO:dowhy.causal_identifier:Instrumental variables for treatment and outcome:[]\n",
      "INFO:dowhy.causal_identifier:Frontdoor variables for treatment and outcome:['average_session_length']\n",
      "WARNING:dowhy.causal_identifier:If this is observed data (not from a randomized experiment), there might always be missing confounders. Causal effect cannot be identified perfectly.\n",
      "INFO:dowhy.causal_identifier:Continuing by ignoring these unobserved confounders because proceed_when_unidentifiable flag is True.\n",
      "WARNING:dowhy.causal_identifier:If this is observed data (not from a randomized experiment), there might always be missing confounders. Causal effect cannot be identified perfectly.\n",
      "INFO:dowhy.causal_identifier:Continuing by ignoring these unobserved confounders because proceed_when_unidentifiable flag is True.\n",
      "INFO:dowhy.causal_estimator:b: purchase_1~sessions+voucher_max_amount+num_voucher_errors+num_trx+basket_amount+user_purchased_prior+num_trx_voucher+trx_is_voucher+num_visit_promo_page+gmv+voucher_percentage+voucher_min_purchase+voucher_amount+is_new+aov+sessions*voucher_max_amount+sessions*num_trx_voucher+sessions*trx_is_voucher+sessions*num_visit_promo_page+sessions*num_voucher_errors+sessions*num_trx+sessions*gmv+sessions*voucher_percentage+sessions*voucher_min_purchase+sessions*basket_amount+sessions*voucher_amount+sessions*is_new+sessions*aov\n",
      "INFO:dowhy.causal_estimator:INFO: Using Linear Regression Estimator\n",
      "ERROR:dowhy.causal_graph:Error: Pygraphviz cannot be loaded. No module named 'pygraphviz'\n",
      "Trying pydot ...\n",
      "INFO:dowhy.causal_model:Model to find the causal effect of treatment ['average_session_length'] on outcome ['purchase_1']\n",
      "WARNING:dowhy.causal_identifier:If this is observed data (not from a randomized experiment), there might always be missing confounders. Causal effect cannot be identified perfectly.\n",
      "INFO:dowhy.causal_identifier:Continuing by ignoring these unobserved confounders because proceed_when_unidentifiable flag is True.\n",
      "INFO:dowhy.causal_identifier:Instrumental variables for treatment and outcome:[]\n",
      "INFO:dowhy.causal_identifier:Frontdoor variables for treatment and outcome:[]\n",
      "INFO:dowhy.causal_estimator:b: purchase_1~average_session_length+voucher_max_amount+num_voucher_errors+num_trx+basket_amount+user_purchased_prior+num_trx_voucher+trx_is_voucher+num_visit_promo_page+gmv+voucher_percentage+voucher_min_purchase+sessions+voucher_amount+is_new+aov+average_session_length*voucher_max_amount+average_session_length*num_trx_voucher+average_session_length*trx_is_voucher+average_session_length*num_visit_promo_page+average_session_length*num_voucher_errors+average_session_length*num_trx+average_session_length*gmv+average_session_length*voucher_percentage+average_session_length*voucher_min_purchase+average_session_length*basket_amount+average_session_length*voucher_amount+average_session_length*is_new+average_session_length*aov\n",
      "INFO:dowhy.causal_estimator:INFO: Using Linear Regression Estimator\n",
      "ERROR:dowhy.causal_graph:Error: Pygraphviz cannot be loaded. No module named 'pygraphviz'\n",
      "Trying pydot ...\n",
      "INFO:dowhy.causal_model:Model to find the causal effect of treatment ['num_trx'] on outcome ['purchase_1']\n",
      "WARNING:dowhy.causal_identifier:If this is observed data (not from a randomized experiment), there might always be missing confounders. Causal effect cannot be identified perfectly.\n",
      "INFO:dowhy.causal_identifier:Continuing by ignoring these unobserved confounders because proceed_when_unidentifiable flag is True.\n",
      "INFO:dowhy.causal_identifier:Instrumental variables for treatment and outcome:[]\n",
      "INFO:dowhy.causal_identifier:Frontdoor variables for treatment and outcome:[]\n",
      "INFO:dowhy.causal_estimator:b: purchase_1~num_trx+voucher_max_amount+num_voucher_errors+basket_amount+average_session_length+user_purchased_prior+num_trx_voucher+trx_is_voucher+num_visit_promo_page+gmv+voucher_percentage+voucher_min_purchase+sessions+voucher_amount+is_new+aov+num_trx*voucher_max_amount+num_trx*average_session_length+num_trx*num_trx_voucher+num_trx*trx_is_voucher+num_trx*num_visit_promo_page+num_trx*num_voucher_errors+num_trx*gmv+num_trx*voucher_percentage+num_trx*voucher_min_purchase+num_trx*sessions+num_trx*basket_amount+num_trx*voucher_amount+num_trx*is_new+num_trx*aov\n",
      "INFO:dowhy.causal_estimator:INFO: Using Linear Regression Estimator\n",
      "ERROR:dowhy.causal_graph:Error: Pygraphviz cannot be loaded. No module named 'pygraphviz'\n",
      "Trying pydot ...\n",
      "INFO:dowhy.causal_model:Model to find the causal effect of treatment ['num_trx_voucher'] on outcome ['purchase_1']\n",
      "WARNING:dowhy.causal_identifier:If this is observed data (not from a randomized experiment), there might always be missing confounders. Causal effect cannot be identified perfectly.\n",
      "INFO:dowhy.causal_identifier:Continuing by ignoring these unobserved confounders because proceed_when_unidentifiable flag is True.\n",
      "INFO:dowhy.causal_identifier:Instrumental variables for treatment and outcome:[]\n",
      "INFO:dowhy.causal_identifier:Frontdoor variables for treatment and outcome:['trx_is_voucher']\n",
      "WARNING:dowhy.causal_identifier:If this is observed data (not from a randomized experiment), there might always be missing confounders. Causal effect cannot be identified perfectly.\n",
      "INFO:dowhy.causal_identifier:Continuing by ignoring these unobserved confounders because proceed_when_unidentifiable flag is True.\n",
      "WARNING:dowhy.causal_identifier:If this is observed data (not from a randomized experiment), there might always be missing confounders. Causal effect cannot be identified perfectly.\n",
      "INFO:dowhy.causal_identifier:Continuing by ignoring these unobserved confounders because proceed_when_unidentifiable flag is True.\n",
      "INFO:dowhy.causal_estimator:b: purchase_1~num_trx_voucher+voucher_max_amount+num_voucher_errors+num_trx+basket_amount+average_session_length+user_purchased_prior+num_visit_promo_page+gmv+voucher_percentage+voucher_min_purchase+sessions+voucher_amount+is_new+aov+num_trx_voucher*voucher_max_amount+num_trx_voucher*average_session_length+num_trx_voucher*num_voucher_errors+num_trx_voucher*num_trx+num_trx_voucher*gmv+num_trx_voucher*voucher_percentage+num_trx_voucher*voucher_min_purchase+num_trx_voucher*sessions+num_trx_voucher*basket_amount+num_trx_voucher*voucher_amount+num_trx_voucher*is_new+num_trx_voucher*aov\n",
      "INFO:dowhy.causal_estimator:INFO: Using Linear Regression Estimator\n",
      "ERROR:dowhy.causal_graph:Error: Pygraphviz cannot be loaded. No module named 'pygraphviz'\n",
      "Trying pydot ...\n",
      "INFO:dowhy.causal_model:Model to find the causal effect of treatment ['gmv'] on outcome ['purchase_1']\n",
      "WARNING:dowhy.causal_identifier:If this is observed data (not from a randomized experiment), there might always be missing confounders. Causal effect cannot be identified perfectly.\n",
      "INFO:dowhy.causal_identifier:Continuing by ignoring these unobserved confounders because proceed_when_unidentifiable flag is True.\n",
      "INFO:dowhy.causal_identifier:Instrumental variables for treatment and outcome:[]\n",
      "INFO:dowhy.causal_identifier:Frontdoor variables for treatment and outcome:[]\n",
      "INFO:dowhy.causal_estimator:b: purchase_1~gmv+voucher_max_amount+num_voucher_errors+num_trx+average_session_length+user_purchased_prior+num_trx_voucher+trx_is_voucher+num_visit_promo_page+voucher_percentage+voucher_min_purchase+sessions+voucher_amount+is_new+aov+gmv*voucher_max_amount+gmv*average_session_length+gmv*num_trx_voucher+gmv*trx_is_voucher+gmv*num_visit_promo_page+gmv*num_voucher_errors+gmv*num_trx+gmv*voucher_percentage+gmv*voucher_min_purchase+gmv*sessions+gmv*voucher_amount+gmv*is_new+gmv*aov\n",
      "INFO:dowhy.causal_estimator:INFO: Using Linear Regression Estimator\n",
      "ERROR:dowhy.causal_graph:Error: Pygraphviz cannot be loaded. No module named 'pygraphviz'\n",
      "Trying pydot ...\n",
      "INFO:dowhy.causal_model:Model to find the causal effect of treatment ['aov'] on outcome ['purchase_1']\n",
      "WARNING:dowhy.causal_identifier:If this is observed data (not from a randomized experiment), there might always be missing confounders. Causal effect cannot be identified perfectly.\n",
      "INFO:dowhy.causal_identifier:Continuing by ignoring these unobserved confounders because proceed_when_unidentifiable flag is True.\n",
      "INFO:dowhy.causal_identifier:Instrumental variables for treatment and outcome:[]\n",
      "INFO:dowhy.causal_identifier:Frontdoor variables for treatment and outcome:[]\n",
      "INFO:dowhy.causal_estimator:b: purchase_1~aov+voucher_max_amount+num_voucher_errors+num_trx+average_session_length+user_purchased_prior+num_trx_voucher+trx_is_voucher+num_visit_promo_page+gmv+voucher_percentage+voucher_min_purchase+sessions+voucher_amount+is_new+aov*voucher_max_amount+aov*average_session_length+aov*num_trx_voucher+aov*trx_is_voucher+aov*num_visit_promo_page+aov*num_voucher_errors+aov*num_trx+aov*gmv+aov*voucher_percentage+aov*voucher_min_purchase+aov*sessions+aov*voucher_amount+aov*is_new\n",
      "INFO:dowhy.causal_estimator:INFO: Using Linear Regression Estimator\n",
      "ERROR:dowhy.causal_graph:Error: Pygraphviz cannot be loaded. No module named 'pygraphviz'\n",
      "Trying pydot ...\n",
      "INFO:dowhy.causal_model:Model to find the causal effect of treatment ['num_visit_promo_page'] on outcome ['purchase_1']\n",
      "WARNING:dowhy.causal_identifier:If this is observed data (not from a randomized experiment), there might always be missing confounders. Causal effect cannot be identified perfectly.\n",
      "INFO:dowhy.causal_identifier:Continuing by ignoring these unobserved confounders because proceed_when_unidentifiable flag is True.\n",
      "INFO:dowhy.causal_identifier:Instrumental variables for treatment and outcome:[]\n",
      "INFO:dowhy.causal_identifier:Frontdoor variables for treatment and outcome:['trx_is_voucher']\n",
      "WARNING:dowhy.causal_identifier:If this is observed data (not from a randomized experiment), there might always be missing confounders. Causal effect cannot be identified perfectly.\n",
      "INFO:dowhy.causal_identifier:Continuing by ignoring these unobserved confounders because proceed_when_unidentifiable flag is True.\n",
      "WARNING:dowhy.causal_identifier:If this is observed data (not from a randomized experiment), there might always be missing confounders. Causal effect cannot be identified perfectly.\n",
      "INFO:dowhy.causal_identifier:Continuing by ignoring these unobserved confounders because proceed_when_unidentifiable flag is True.\n",
      "INFO:dowhy.causal_estimator:b: purchase_1~num_visit_promo_page+voucher_max_amount+num_voucher_errors+num_trx+basket_amount+average_session_length+user_purchased_prior+gmv+voucher_percentage+voucher_min_purchase+sessions+voucher_amount+is_new+aov+num_visit_promo_page*average_session_length+num_visit_promo_page*num_voucher_errors+num_visit_promo_page*num_trx+num_visit_promo_page*gmv+num_visit_promo_page*voucher_percentage+num_visit_promo_page*voucher_min_purchase+num_visit_promo_page*sessions+num_visit_promo_page*basket_amount+num_visit_promo_page*voucher_amount+num_visit_promo_page*is_new+num_visit_promo_page*voucher_max_amount+num_visit_promo_page*aov\n",
      "INFO:dowhy.causal_estimator:INFO: Using Linear Regression Estimator\n",
      "ERROR:dowhy.causal_graph:Error: Pygraphviz cannot be loaded. No module named 'pygraphviz'\n",
      "Trying pydot ...\n",
      "INFO:dowhy.causal_model:Model to find the causal effect of treatment ['voucher_max_amount'] on outcome ['purchase_1']\n",
      "WARNING:dowhy.causal_identifier:If this is observed data (not from a randomized experiment), there might always be missing confounders. Causal effect cannot be identified perfectly.\n",
      "INFO:dowhy.causal_identifier:Continuing by ignoring these unobserved confounders because proceed_when_unidentifiable flag is True.\n",
      "INFO:dowhy.causal_identifier:Instrumental variables for treatment and outcome:[]\n",
      "INFO:dowhy.causal_identifier:Frontdoor variables for treatment and outcome:['trx_is_voucher']\n",
      "WARNING:dowhy.causal_identifier:If this is observed data (not from a randomized experiment), there might always be missing confounders. Causal effect cannot be identified perfectly.\n",
      "INFO:dowhy.causal_identifier:Continuing by ignoring these unobserved confounders because proceed_when_unidentifiable flag is True.\n",
      "WARNING:dowhy.causal_identifier:If this is observed data (not from a randomized experiment), there might always be missing confounders. Causal effect cannot be identified perfectly.\n",
      "INFO:dowhy.causal_identifier:Continuing by ignoring these unobserved confounders because proceed_when_unidentifiable flag is True.\n",
      "INFO:dowhy.causal_estimator:b: purchase_1~voucher_max_amount+num_voucher_errors+num_trx+basket_amount+average_session_length+user_purchased_prior+num_trx_voucher+num_visit_promo_page+gmv+voucher_percentage+voucher_min_purchase+sessions+voucher_amount+is_new+aov+voucher_max_amount*average_session_length+voucher_max_amount*user_purchased_prior+voucher_max_amount*num_trx_voucher+voucher_max_amount*num_visit_promo_page+voucher_max_amount*num_voucher_errors+voucher_max_amount*num_trx+voucher_max_amount*gmv+voucher_max_amount*voucher_percentage+voucher_max_amount*voucher_min_purchase+voucher_max_amount*sessions+voucher_max_amount*basket_amount+voucher_max_amount*voucher_amount+voucher_max_amount*is_new+voucher_max_amount*aov\n",
      "INFO:dowhy.causal_estimator:INFO: Using Linear Regression Estimator\n",
      "ERROR:dowhy.causal_graph:Error: Pygraphviz cannot be loaded. No module named 'pygraphviz'\n",
      "Trying pydot ...\n",
      "INFO:dowhy.causal_model:Model to find the causal effect of treatment ['voucher_percentage'] on outcome ['purchase_1']\n",
      "WARNING:dowhy.causal_identifier:If this is observed data (not from a randomized experiment), there might always be missing confounders. Causal effect cannot be identified perfectly.\n",
      "INFO:dowhy.causal_identifier:Continuing by ignoring these unobserved confounders because proceed_when_unidentifiable flag is True.\n",
      "INFO:dowhy.causal_identifier:Instrumental variables for treatment and outcome:[]\n",
      "INFO:dowhy.causal_identifier:Frontdoor variables for treatment and outcome:['trx_is_voucher']\n",
      "WARNING:dowhy.causal_identifier:If this is observed data (not from a randomized experiment), there might always be missing confounders. Causal effect cannot be identified perfectly.\n",
      "INFO:dowhy.causal_identifier:Continuing by ignoring these unobserved confounders because proceed_when_unidentifiable flag is True.\n",
      "WARNING:dowhy.causal_identifier:If this is observed data (not from a randomized experiment), there might always be missing confounders. Causal effect cannot be identified perfectly.\n",
      "INFO:dowhy.causal_identifier:Continuing by ignoring these unobserved confounders because proceed_when_unidentifiable flag is True.\n",
      "INFO:dowhy.causal_estimator:b: purchase_1~voucher_percentage+voucher_max_amount+num_voucher_errors+num_trx+basket_amount+average_session_length+user_purchased_prior+num_trx_voucher+num_visit_promo_page+gmv+voucher_min_purchase+sessions+voucher_amount+is_new+aov+voucher_percentage*voucher_max_amount+voucher_percentage*average_session_length+voucher_percentage*user_purchased_prior+voucher_percentage*num_trx_voucher+voucher_percentage*num_visit_promo_page+voucher_percentage*num_voucher_errors+voucher_percentage*num_trx+voucher_percentage*gmv+voucher_percentage*voucher_min_purchase+voucher_percentage*sessions+voucher_percentage*basket_amount+voucher_percentage*voucher_amount+voucher_percentage*is_new+voucher_percentage*aov\n",
      "INFO:dowhy.causal_estimator:INFO: Using Linear Regression Estimator\n",
      "ERROR:dowhy.causal_graph:Error: Pygraphviz cannot be loaded. No module named 'pygraphviz'\n",
      "Trying pydot ...\n",
      "INFO:dowhy.causal_model:Model to find the causal effect of treatment ['voucher_min_purchase'] on outcome ['purchase_1']\n",
      "WARNING:dowhy.causal_identifier:If this is observed data (not from a randomized experiment), there might always be missing confounders. Causal effect cannot be identified perfectly.\n",
      "INFO:dowhy.causal_identifier:Continuing by ignoring these unobserved confounders because proceed_when_unidentifiable flag is True.\n",
      "INFO:dowhy.causal_identifier:Instrumental variables for treatment and outcome:[]\n",
      "INFO:dowhy.causal_identifier:Frontdoor variables for treatment and outcome:['trx_is_voucher']\n",
      "WARNING:dowhy.causal_identifier:If this is observed data (not from a randomized experiment), there might always be missing confounders. Causal effect cannot be identified perfectly.\n",
      "INFO:dowhy.causal_identifier:Continuing by ignoring these unobserved confounders because proceed_when_unidentifiable flag is True.\n",
      "WARNING:dowhy.causal_identifier:If this is observed data (not from a randomized experiment), there might always be missing confounders. Causal effect cannot be identified perfectly.\n",
      "INFO:dowhy.causal_identifier:Continuing by ignoring these unobserved confounders because proceed_when_unidentifiable flag is True.\n",
      "INFO:dowhy.causal_estimator:b: purchase_1~voucher_min_purchase+voucher_max_amount+num_voucher_errors+num_trx+basket_amount+average_session_length+user_purchased_prior+num_trx_voucher+num_visit_promo_page+gmv+voucher_percentage+sessions+voucher_amount+is_new+aov+voucher_min_purchase*voucher_max_amount+voucher_min_purchase*average_session_length+voucher_min_purchase*user_purchased_prior+voucher_min_purchase*num_trx_voucher+voucher_min_purchase*num_visit_promo_page+voucher_min_purchase*num_voucher_errors+voucher_min_purchase*num_trx+voucher_min_purchase*gmv+voucher_min_purchase*voucher_percentage+voucher_min_purchase*sessions+voucher_min_purchase*basket_amount+voucher_min_purchase*voucher_amount+voucher_min_purchase*is_new+voucher_min_purchase*aov\n",
      "INFO:dowhy.causal_estimator:INFO: Using Linear Regression Estimator\n",
      "ERROR:dowhy.causal_graph:Error: Pygraphviz cannot be loaded. No module named 'pygraphviz'\n",
      "Trying pydot ...\n",
      "INFO:dowhy.causal_model:Model to find the causal effect of treatment ['voucher_amount'] on outcome ['purchase_1']\n",
      "WARNING:dowhy.causal_identifier:If this is observed data (not from a randomized experiment), there might always be missing confounders. Causal effect cannot be identified perfectly.\n",
      "INFO:dowhy.causal_identifier:Continuing by ignoring these unobserved confounders because proceed_when_unidentifiable flag is True.\n",
      "INFO:dowhy.causal_identifier:Instrumental variables for treatment and outcome:[]\n",
      "INFO:dowhy.causal_identifier:Frontdoor variables for treatment and outcome:['trx_is_voucher']\n",
      "WARNING:dowhy.causal_identifier:If this is observed data (not from a randomized experiment), there might always be missing confounders. Causal effect cannot be identified perfectly.\n",
      "INFO:dowhy.causal_identifier:Continuing by ignoring these unobserved confounders because proceed_when_unidentifiable flag is True.\n",
      "WARNING:dowhy.causal_identifier:If this is observed data (not from a randomized experiment), there might always be missing confounders. Causal effect cannot be identified perfectly.\n",
      "INFO:dowhy.causal_identifier:Continuing by ignoring these unobserved confounders because proceed_when_unidentifiable flag is True.\n",
      "INFO:dowhy.causal_estimator:b: purchase_1~voucher_amount+voucher_max_amount+num_voucher_errors+num_trx+basket_amount+average_session_length+user_purchased_prior+num_trx_voucher+num_visit_promo_page+gmv+voucher_percentage+voucher_min_purchase+sessions+is_new+aov+voucher_amount*voucher_max_amount+voucher_amount*average_session_length+voucher_amount*user_purchased_prior+voucher_amount*num_trx_voucher+voucher_amount*num_visit_promo_page+voucher_amount*num_voucher_errors+voucher_amount*num_trx+voucher_amount*gmv+voucher_amount*voucher_percentage+voucher_amount*voucher_min_purchase+voucher_amount*sessions+voucher_amount*basket_amount+voucher_amount*is_new+voucher_amount*aov\n",
      "INFO:dowhy.causal_estimator:INFO: Using Linear Regression Estimator\n",
      "ERROR:dowhy.causal_graph:Error: Pygraphviz cannot be loaded. No module named 'pygraphviz'\n",
      "Trying pydot ...\n",
      "INFO:dowhy.causal_model:Model to find the causal effect of treatment ['num_voucher_errors'] on outcome ['purchase_1']\n",
      "WARNING:dowhy.causal_identifier:If this is observed data (not from a randomized experiment), there might always be missing confounders. Causal effect cannot be identified perfectly.\n",
      "INFO:dowhy.causal_identifier:Continuing by ignoring these unobserved confounders because proceed_when_unidentifiable flag is True.\n",
      "INFO:dowhy.causal_identifier:Instrumental variables for treatment and outcome:[]\n",
      "INFO:dowhy.causal_identifier:Frontdoor variables for treatment and outcome:['trx_is_voucher']\n",
      "WARNING:dowhy.causal_identifier:If this is observed data (not from a randomized experiment), there might always be missing confounders. Causal effect cannot be identified perfectly.\n",
      "INFO:dowhy.causal_identifier:Continuing by ignoring these unobserved confounders because proceed_when_unidentifiable flag is True.\n",
      "WARNING:dowhy.causal_identifier:If this is observed data (not from a randomized experiment), there might always be missing confounders. Causal effect cannot be identified perfectly.\n",
      "INFO:dowhy.causal_identifier:Continuing by ignoring these unobserved confounders because proceed_when_unidentifiable flag is True.\n",
      "INFO:dowhy.causal_estimator:b: purchase_1~num_voucher_errors+voucher_max_amount+num_trx+basket_amount+average_session_length+user_purchased_prior+num_trx_voucher+num_visit_promo_page+gmv+voucher_percentage+voucher_min_purchase+sessions+voucher_amount+is_new+aov+num_voucher_errors*voucher_max_amount+num_voucher_errors*average_session_length+num_voucher_errors*user_purchased_prior+num_voucher_errors*num_trx_voucher+num_voucher_errors*num_visit_promo_page+num_voucher_errors*num_trx+num_voucher_errors*gmv+num_voucher_errors*voucher_percentage+num_voucher_errors*voucher_min_purchase+num_voucher_errors*sessions+num_voucher_errors*basket_amount+num_voucher_errors*voucher_amount+num_voucher_errors*is_new+num_voucher_errors*aov\n",
      "INFO:dowhy.causal_estimator:INFO: Using Linear Regression Estimator\n"
     ]
    }
   ],
   "source": [
    "feat_1 = []\n",
    "est_1 = []\n",
    "\n",
    "for col in training:\n",
    "    if col != 'purchase_1':\n",
    "        feat_1.append(str(col))\n",
    "        df_result = pd.DataFrame(feat_1)\n",
    "        \n",
    "        model= CausalModel(\n",
    "                data = training,\n",
    "                graph=causal_graph.replace(\"\\n\", \" \"),\n",
    "                treatment=col,\n",
    "                outcome='purchase_1')\n",
    "        \n",
    "        identified_estimand = model.identify_effect(proceed_when_unidentifiable=True)\n",
    "        \n",
    "        estimate = model.estimate_effect(identified_estimand, method_name=\"backdoor.linear_regression\", test_significance=True)\n",
    "        \n",
    "        est_1.append(str(estimate.value))\n",
    "        df_result['estimated_impact'] = est_1"
   ]
  },
  {
   "cell_type": "markdown",
   "metadata": {},
   "source": [
    "Code above will loop through all of the selected features and calculate its impact on purchase"
   ]
  },
  {
   "cell_type": "code",
   "execution_count": 107,
   "metadata": {},
   "outputs": [],
   "source": [
    "# df_result.to_csv('purchase_causation.csv', index=False)"
   ]
  },
  {
   "cell_type": "code",
   "execution_count": 109,
   "metadata": {},
   "outputs": [
    {
     "data": {
      "text/html": [
       "<div>\n",
       "<style scoped>\n",
       "    .dataframe tbody tr th:only-of-type {\n",
       "        vertical-align: middle;\n",
       "    }\n",
       "\n",
       "    .dataframe tbody tr th {\n",
       "        vertical-align: top;\n",
       "    }\n",
       "\n",
       "    .dataframe thead th {\n",
       "        text-align: right;\n",
       "    }\n",
       "</style>\n",
       "<table border=\"1\" class=\"dataframe\">\n",
       "  <thead>\n",
       "    <tr style=\"text-align: right;\">\n",
       "      <th></th>\n",
       "      <th>0</th>\n",
       "      <th>estimated_impact</th>\n",
       "    </tr>\n",
       "  </thead>\n",
       "  <tbody>\n",
       "    <tr>\n",
       "      <th>0</th>\n",
       "      <td>num_trx</td>\n",
       "      <td>1.172234</td>\n",
       "    </tr>\n",
       "    <tr>\n",
       "      <th>1</th>\n",
       "      <td>voucher_min_purchase</td>\n",
       "      <td>0.881213</td>\n",
       "    </tr>\n",
       "    <tr>\n",
       "      <th>2</th>\n",
       "      <td>gmv</td>\n",
       "      <td>0.238368</td>\n",
       "    </tr>\n",
       "    <tr>\n",
       "      <th>3</th>\n",
       "      <td>num_trx_voucher</td>\n",
       "      <td>0.207558</td>\n",
       "    </tr>\n",
       "    <tr>\n",
       "      <th>4</th>\n",
       "      <td>voucher_amount</td>\n",
       "      <td>0.178315</td>\n",
       "    </tr>\n",
       "    <tr>\n",
       "      <th>5</th>\n",
       "      <td>trx_is_voucher</td>\n",
       "      <td>0.047236</td>\n",
       "    </tr>\n",
       "    <tr>\n",
       "      <th>6</th>\n",
       "      <td>voucher_percentage</td>\n",
       "      <td>0.001621</td>\n",
       "    </tr>\n",
       "    <tr>\n",
       "      <th>7</th>\n",
       "      <td>num_voucher_errors</td>\n",
       "      <td>-0.002752</td>\n",
       "    </tr>\n",
       "    <tr>\n",
       "      <th>8</th>\n",
       "      <td>user_purchased_prior</td>\n",
       "      <td>-0.044092</td>\n",
       "    </tr>\n",
       "    <tr>\n",
       "      <th>9</th>\n",
       "      <td>is_new</td>\n",
       "      <td>-0.175584</td>\n",
       "    </tr>\n",
       "    <tr>\n",
       "      <th>10</th>\n",
       "      <td>sessions</td>\n",
       "      <td>-0.210093</td>\n",
       "    </tr>\n",
       "    <tr>\n",
       "      <th>11</th>\n",
       "      <td>aov</td>\n",
       "      <td>-0.213233</td>\n",
       "    </tr>\n",
       "    <tr>\n",
       "      <th>12</th>\n",
       "      <td>average_session_length</td>\n",
       "      <td>-0.296828</td>\n",
       "    </tr>\n",
       "    <tr>\n",
       "      <th>13</th>\n",
       "      <td>num_visit_promo_page</td>\n",
       "      <td>-0.406230</td>\n",
       "    </tr>\n",
       "    <tr>\n",
       "      <th>14</th>\n",
       "      <td>basket_amount</td>\n",
       "      <td>-6.564868</td>\n",
       "    </tr>\n",
       "    <tr>\n",
       "      <th>15</th>\n",
       "      <td>voucher_max_amount</td>\n",
       "      <td>-18.647959</td>\n",
       "    </tr>\n",
       "  </tbody>\n",
       "</table>\n",
       "</div>"
      ],
      "text/plain": [
       "                         0  estimated_impact\n",
       "0                  num_trx          1.172234\n",
       "1     voucher_min_purchase          0.881213\n",
       "2                      gmv          0.238368\n",
       "3          num_trx_voucher          0.207558\n",
       "4           voucher_amount          0.178315\n",
       "5           trx_is_voucher          0.047236\n",
       "6       voucher_percentage          0.001621\n",
       "7       num_voucher_errors         -0.002752\n",
       "8     user_purchased_prior         -0.044092\n",
       "9                   is_new         -0.175584\n",
       "10                sessions         -0.210093\n",
       "11                     aov         -0.213233\n",
       "12  average_session_length         -0.296828\n",
       "13    num_visit_promo_page         -0.406230\n",
       "14           basket_amount         -6.564868\n",
       "15      voucher_max_amount        -18.647959"
      ]
     },
     "execution_count": 109,
     "metadata": {},
     "output_type": "execute_result"
    }
   ],
   "source": [
    "# df_result = pd.read_csv('purchase_causation.csv')\n",
    "df_result['estimated_impact'] = df_result['estimated_impact'].astype(float)\n",
    "df_result.sort_values(by='estimated_impact', ascending=False, ignore_index=True)"
   ]
  },
  {
   "cell_type": "markdown",
   "metadata": {},
   "source": [
    "### Answer for Question 1:\n",
    "\n",
    "Top 5 most impactful features on purchase are:\n",
    "1. Number of transaction -> The impact of number of transaction on purchase is 117%.\n",
    "2. Voucher minimum purchase -> The impact of  Voucher minimum purchase on purchase is 88%\n",
    "3. GMV -> The impact of GMV on purchase is 24%\n",
    "4. Number of transaction with vouchers -> The impact of Number of transaction with vouchers on purchase is 21%\n",
    "5. Voucher amount -> The impact of Voucher amount on purchase is 18%"
   ]
  },
  {
   "cell_type": "markdown",
   "metadata": {},
   "source": [
    "Based on those features, we can control the voucher minimum purchase, and voucher amount"
   ]
  },
  {
   "cell_type": "markdown",
   "metadata": {},
   "source": [
    "#### Using the DoWhy package, we could test our assumption validity via multiple robustness checks.\n",
    "\n",
    "We will be using random common cause validity test. Random common cause add an independent random variable as a common cause to the dataset; If the assumption was correct, the estimation should not change.\n",
    "\n",
    "We will only be using one validity test due to high run time for each tests"
   ]
  },
  {
   "cell_type": "markdown",
   "metadata": {},
   "source": [
    "### 3.1.1 Voucher minimum purchase assumption validity test"
   ]
  },
  {
   "cell_type": "code",
   "execution_count": 50,
   "metadata": {},
   "outputs": [
    {
     "name": "stderr",
     "output_type": "stream",
     "text": [
      "ERROR:dowhy.causal_graph:Error: Pygraphviz cannot be loaded. No module named 'pygraphviz'\n",
      "Trying pydot ...\n",
      "INFO:dowhy.causal_model:Model to find the causal effect of treatment ['voucher_min_purchase'] on outcome ['purchase_1']\n"
     ]
    }
   ],
   "source": [
    "model= CausalModel(\n",
    "        data = training,\n",
    "        graph=causal_graph.replace(\"\\n\", \" \"),\n",
    "        treatment='voucher_min_purchase',\n",
    "        outcome='purchase_1')"
   ]
  },
  {
   "cell_type": "code",
   "execution_count": 51,
   "metadata": {},
   "outputs": [
    {
     "name": "stderr",
     "output_type": "stream",
     "text": [
      "WARNING:dowhy.causal_identifier:If this is observed data (not from a randomized experiment), there might always be missing confounders. Causal effect cannot be identified perfectly.\n",
      "INFO:dowhy.causal_identifier:Continuing by ignoring these unobserved confounders because proceed_when_unidentifiable flag is True.\n",
      "INFO:dowhy.causal_identifier:Instrumental variables for treatment and outcome:[]\n",
      "INFO:dowhy.causal_identifier:Frontdoor variables for treatment and outcome:['trx_is_voucher']\n",
      "WARNING:dowhy.causal_identifier:If this is observed data (not from a randomized experiment), there might always be missing confounders. Causal effect cannot be identified perfectly.\n",
      "INFO:dowhy.causal_identifier:Continuing by ignoring these unobserved confounders because proceed_when_unidentifiable flag is True.\n",
      "WARNING:dowhy.causal_identifier:If this is observed data (not from a randomized experiment), there might always be missing confounders. Causal effect cannot be identified perfectly.\n",
      "INFO:dowhy.causal_identifier:Continuing by ignoring these unobserved confounders because proceed_when_unidentifiable flag is True.\n"
     ]
    }
   ],
   "source": [
    "identified_estimand = model.identify_effect(proceed_when_unidentifiable=True)"
   ]
  },
  {
   "cell_type": "code",
   "execution_count": 112,
   "metadata": {},
   "outputs": [
    {
     "name": "stderr",
     "output_type": "stream",
     "text": [
      "INFO:dowhy.causal_estimator:b: purchase_1~voucher_min_purchase+voucher_max_amount+num_voucher_errors+num_trx+basket_amount+average_session_length+user_purchased_prior+num_trx_voucher+num_visit_promo_page+gmv+voucher_percentage+sessions+voucher_amount+is_new+aov+voucher_min_purchase*voucher_max_amount+voucher_min_purchase*average_session_length+voucher_min_purchase*user_purchased_prior+voucher_min_purchase*num_trx_voucher+voucher_min_purchase*num_visit_promo_page+voucher_min_purchase*num_voucher_errors+voucher_min_purchase*num_trx+voucher_min_purchase*gmv+voucher_min_purchase*voucher_percentage+voucher_min_purchase*sessions+voucher_min_purchase*basket_amount+voucher_min_purchase*voucher_amount+voucher_min_purchase*is_new+voucher_min_purchase*aov\n",
      "INFO:dowhy.causal_estimator:INFO: Using Linear Regression Estimator\n"
     ]
    }
   ],
   "source": [
    "estimate = model.estimate_effect(identified_estimand, method_name=\"backdoor.linear_regression\", test_significance=True)"
   ]
  },
  {
   "cell_type": "markdown",
   "metadata": {},
   "source": [
    "#### Random common cause"
   ]
  },
  {
   "cell_type": "code",
   "execution_count": 115,
   "metadata": {
    "scrolled": true
   },
   "outputs": [
    {
     "name": "stderr",
     "output_type": "stream",
     "text": [
      "INFO:dowhy.causal_estimator:b: purchase_1~voucher_min_purchase+voucher_max_amount+num_voucher_errors+num_trx+basket_amount+average_session_length+user_purchased_prior+num_trx_voucher+num_visit_promo_page+gmv+voucher_percentage+sessions+voucher_amount+is_new+aov+w_random+voucher_min_purchase*voucher_max_amount+voucher_min_purchase*average_session_length+voucher_min_purchase*user_purchased_prior+voucher_min_purchase*num_trx_voucher+voucher_min_purchase*num_visit_promo_page+voucher_min_purchase*num_voucher_errors+voucher_min_purchase*num_trx+voucher_min_purchase*gmv+voucher_min_purchase*voucher_percentage+voucher_min_purchase*sessions+voucher_min_purchase*basket_amount+voucher_min_purchase*voucher_amount+voucher_min_purchase*is_new+voucher_min_purchase*aov\n",
      "INFO:dowhy.causal_estimator:INFO: Using Linear Regression Estimator\n"
     ]
    },
    {
     "name": "stdout",
     "output_type": "stream",
     "text": [
      "Refute: Add a Random Common Cause\n",
      "Estimated effect:0.8812125225936058\n",
      "New effect:0.8812653320599766\n",
      "\n"
     ]
    }
   ],
   "source": [
    "refutel = model.refute_estimate(identified_estimand,estimate, \"random_common_cause\")\n",
    "print(refutel)"
   ]
  },
  {
   "cell_type": "markdown",
   "metadata": {},
   "source": [
    "It seems based on the refutal method, we could agree that our assumption was correct that the Voucher minimum purchase had a causal effect on the purchase."
   ]
  },
  {
   "cell_type": "markdown",
   "metadata": {},
   "source": [
    "### 3.1.2 Voucher amount assumption validity test"
   ]
  },
  {
   "cell_type": "code",
   "execution_count": 120,
   "metadata": {},
   "outputs": [
    {
     "name": "stderr",
     "output_type": "stream",
     "text": [
      "ERROR:dowhy.causal_graph:Error: Pygraphviz cannot be loaded. No module named 'pygraphviz'\n",
      "Trying pydot ...\n",
      "INFO:dowhy.causal_model:Model to find the causal effect of treatment ['voucher_amount'] on outcome ['purchase_1']\n"
     ]
    }
   ],
   "source": [
    "model= CausalModel(\n",
    "        data = training,\n",
    "        graph=causal_graph.replace(\"\\n\", \" \"),\n",
    "        treatment='voucher_amount',\n",
    "        outcome='purchase_1')"
   ]
  },
  {
   "cell_type": "code",
   "execution_count": 123,
   "metadata": {},
   "outputs": [
    {
     "name": "stderr",
     "output_type": "stream",
     "text": [
      "WARNING:dowhy.causal_identifier:If this is observed data (not from a randomized experiment), there might always be missing confounders. Causal effect cannot be identified perfectly.\n",
      "INFO:dowhy.causal_identifier:Continuing by ignoring these unobserved confounders because proceed_when_unidentifiable flag is True.\n",
      "INFO:dowhy.causal_identifier:Instrumental variables for treatment and outcome:[]\n",
      "INFO:dowhy.causal_identifier:Frontdoor variables for treatment and outcome:['trx_is_voucher']\n",
      "WARNING:dowhy.causal_identifier:If this is observed data (not from a randomized experiment), there might always be missing confounders. Causal effect cannot be identified perfectly.\n",
      "INFO:dowhy.causal_identifier:Continuing by ignoring these unobserved confounders because proceed_when_unidentifiable flag is True.\n",
      "WARNING:dowhy.causal_identifier:If this is observed data (not from a randomized experiment), there might always be missing confounders. Causal effect cannot be identified perfectly.\n",
      "INFO:dowhy.causal_identifier:Continuing by ignoring these unobserved confounders because proceed_when_unidentifiable flag is True.\n"
     ]
    }
   ],
   "source": [
    "identified_estimand = model.identify_effect(proceed_when_unidentifiable=True)"
   ]
  },
  {
   "cell_type": "code",
   "execution_count": 124,
   "metadata": {},
   "outputs": [
    {
     "name": "stderr",
     "output_type": "stream",
     "text": [
      "INFO:dowhy.causal_estimator:b: purchase_1~voucher_amount+voucher_max_amount+num_voucher_errors+num_trx+basket_amount+average_session_length+user_purchased_prior+num_trx_voucher+num_visit_promo_page+gmv+voucher_percentage+voucher_min_purchase+sessions+is_new+aov+voucher_amount*voucher_max_amount+voucher_amount*average_session_length+voucher_amount*user_purchased_prior+voucher_amount*num_trx_voucher+voucher_amount*num_visit_promo_page+voucher_amount*num_voucher_errors+voucher_amount*num_trx+voucher_amount*gmv+voucher_amount*voucher_percentage+voucher_amount*voucher_min_purchase+voucher_amount*sessions+voucher_amount*basket_amount+voucher_amount*is_new+voucher_amount*aov\n",
      "INFO:dowhy.causal_estimator:INFO: Using Linear Regression Estimator\n"
     ]
    }
   ],
   "source": [
    "estimate = model.estimate_effect(identified_estimand, method_name=\"backdoor.linear_regression\", test_significance=True)"
   ]
  },
  {
   "cell_type": "markdown",
   "metadata": {},
   "source": [
    "#### Random common cause"
   ]
  },
  {
   "cell_type": "code",
   "execution_count": 125,
   "metadata": {},
   "outputs": [
    {
     "name": "stderr",
     "output_type": "stream",
     "text": [
      "INFO:dowhy.causal_estimator:b: purchase_1~voucher_amount+voucher_max_amount+num_voucher_errors+num_trx+basket_amount+average_session_length+user_purchased_prior+num_trx_voucher+num_visit_promo_page+gmv+voucher_percentage+voucher_min_purchase+sessions+is_new+aov+w_random+voucher_amount*voucher_max_amount+voucher_amount*average_session_length+voucher_amount*user_purchased_prior+voucher_amount*num_trx_voucher+voucher_amount*num_visit_promo_page+voucher_amount*num_voucher_errors+voucher_amount*num_trx+voucher_amount*gmv+voucher_amount*voucher_percentage+voucher_amount*voucher_min_purchase+voucher_amount*sessions+voucher_amount*basket_amount+voucher_amount*is_new+voucher_amount*aov\n",
      "INFO:dowhy.causal_estimator:INFO: Using Linear Regression Estimator\n"
     ]
    },
    {
     "name": "stdout",
     "output_type": "stream",
     "text": [
      "Refute: Add a Random Common Cause\n",
      "Estimated effect:0.178314834960296\n",
      "New effect:0.17833447386714174\n",
      "\n"
     ]
    }
   ],
   "source": [
    "refutel = model.refute_estimate(identified_estimand,estimate, \"random_common_cause\")\n",
    "print(refutel)"
   ]
  },
  {
   "cell_type": "markdown",
   "metadata": {},
   "source": [
    "It seems based on the refutal method; we could agree that our assumption was correct that the Voucher minimum purchase had a causal effect on the purchase."
   ]
  },
  {
   "cell_type": "markdown",
   "metadata": {},
   "source": [
    "## 3.2 Contributing factors on Basket Amount"
   ]
  },
  {
   "cell_type": "code",
   "execution_count": 19,
   "metadata": {
    "scrolled": true
   },
   "outputs": [
    {
     "name": "stderr",
     "output_type": "stream",
     "text": [
      "ERROR:dowhy.causal_graph:Error: Pygraphviz cannot be loaded. No module named 'pygraphviz'\n",
      "Trying pydot ...\n",
      "INFO:dowhy.causal_model:Model to find the causal effect of treatment ['purchase_1'] on outcome ['basket_amount']\n",
      "INFO:dowhy.causal_identifier:All common causes are observed. Causal effect can be identified.\n",
      "INFO:dowhy.causal_identifier:Instrumental variables for treatment and outcome:[]\n",
      "INFO:dowhy.causal_identifier:Frontdoor variables for treatment and outcome:[]\n",
      "WARNING:dowhy.causal_model:No valid identified estimand available.\n",
      "ERROR:dowhy.causal_graph:Error: Pygraphviz cannot be loaded. No module named 'pygraphviz'\n",
      "Trying pydot ...\n",
      "INFO:dowhy.causal_model:Model to find the causal effect of treatment ['is_new'] on outcome ['basket_amount']\n",
      "WARNING:dowhy.causal_identifier:If this is observed data (not from a randomized experiment), there might always be missing confounders. Causal effect cannot be identified perfectly.\n",
      "INFO:dowhy.causal_identifier:Continuing by ignoring these unobserved confounders because proceed_when_unidentifiable flag is True.\n",
      "INFO:dowhy.causal_identifier:Instrumental variables for treatment and outcome:[]\n",
      "INFO:dowhy.causal_identifier:Frontdoor variables for treatment and outcome:['purchase_1']\n",
      "WARNING:dowhy.causal_identifier:If this is observed data (not from a randomized experiment), there might always be missing confounders. Causal effect cannot be identified perfectly.\n",
      "INFO:dowhy.causal_identifier:Continuing by ignoring these unobserved confounders because proceed_when_unidentifiable flag is True.\n",
      "INFO:dowhy.causal_identifier:All common causes are observed. Causal effect can be identified.\n",
      "INFO:dowhy.causal_estimator:b: basket_amount~is_new+voucher_amount+voucher_percentage+voucher_min_purchase+user_purchased_prior+num_voucher_errors+num_visit_promo_page+trx_is_voucher+num_trx+sessions+gmv+average_session_length+num_trx_voucher+voucher_max_amount+aov+is_new*user_purchased_prior+is_new*gmv+is_new*aov\n",
      "INFO:dowhy.causal_estimator:INFO: Using Linear Regression Estimator\n",
      "ERROR:dowhy.causal_graph:Error: Pygraphviz cannot be loaded. No module named 'pygraphviz'\n",
      "Trying pydot ...\n",
      "INFO:dowhy.causal_model:Model to find the causal effect of treatment ['trx_is_voucher'] on outcome ['basket_amount']\n",
      "WARNING:dowhy.causal_identifier:If this is observed data (not from a randomized experiment), there might always be missing confounders. Causal effect cannot be identified perfectly.\n",
      "INFO:dowhy.causal_identifier:Continuing by ignoring these unobserved confounders because proceed_when_unidentifiable flag is True.\n",
      "INFO:dowhy.causal_identifier:Instrumental variables for treatment and outcome:[]\n",
      "INFO:dowhy.causal_identifier:Frontdoor variables for treatment and outcome:['purchase_1']\n",
      "WARNING:dowhy.causal_identifier:If this is observed data (not from a randomized experiment), there might always be missing confounders. Causal effect cannot be identified perfectly.\n",
      "INFO:dowhy.causal_identifier:Continuing by ignoring these unobserved confounders because proceed_when_unidentifiable flag is True.\n",
      "INFO:dowhy.causal_identifier:All common causes are observed. Causal effect can be identified.\n",
      "INFO:dowhy.causal_estimator:b: basket_amount~trx_is_voucher+voucher_amount+voucher_percentage+voucher_min_purchase+user_purchased_prior+num_voucher_errors+num_visit_promo_page+num_trx+sessions+gmv+average_session_length+num_trx_voucher+voucher_max_amount+is_new+aov+trx_is_voucher*gmv+trx_is_voucher*aov\n",
      "INFO:dowhy.causal_estimator:INFO: Using Linear Regression Estimator\n",
      "ERROR:dowhy.causal_graph:Error: Pygraphviz cannot be loaded. No module named 'pygraphviz'\n",
      "Trying pydot ...\n",
      "INFO:dowhy.causal_model:Model to find the causal effect of treatment ['user_purchased_prior'] on outcome ['basket_amount']\n",
      "WARNING:dowhy.causal_identifier:If this is observed data (not from a randomized experiment), there might always be missing confounders. Causal effect cannot be identified perfectly.\n",
      "INFO:dowhy.causal_identifier:Continuing by ignoring these unobserved confounders because proceed_when_unidentifiable flag is True.\n",
      "INFO:dowhy.causal_identifier:Instrumental variables for treatment and outcome:[]\n",
      "INFO:dowhy.causal_identifier:Frontdoor variables for treatment and outcome:['sessions']\n",
      "WARNING:dowhy.causal_identifier:If this is observed data (not from a randomized experiment), there might always be missing confounders. Causal effect cannot be identified perfectly.\n",
      "INFO:dowhy.causal_identifier:Continuing by ignoring these unobserved confounders because proceed_when_unidentifiable flag is True.\n",
      "WARNING:dowhy.causal_identifier:If this is observed data (not from a randomized experiment), there might always be missing confounders. Causal effect cannot be identified perfectly.\n",
      "INFO:dowhy.causal_identifier:Continuing by ignoring these unobserved confounders because proceed_when_unidentifiable flag is True.\n",
      "INFO:dowhy.causal_estimator:b: basket_amount~user_purchased_prior+voucher_amount+voucher_percentage+voucher_min_purchase+num_voucher_errors+voucher_max_amount+is_new\n",
      "INFO:dowhy.causal_estimator:INFO: Using Linear Regression Estimator\n",
      "ERROR:dowhy.causal_graph:Error: Pygraphviz cannot be loaded. No module named 'pygraphviz'\n",
      "Trying pydot ...\n",
      "INFO:dowhy.causal_model:Model to find the causal effect of treatment ['sessions'] on outcome ['basket_amount']\n",
      "WARNING:dowhy.causal_identifier:If this is observed data (not from a randomized experiment), there might always be missing confounders. Causal effect cannot be identified perfectly.\n",
      "INFO:dowhy.causal_identifier:Continuing by ignoring these unobserved confounders because proceed_when_unidentifiable flag is True.\n",
      "INFO:dowhy.causal_identifier:Instrumental variables for treatment and outcome:[]\n",
      "INFO:dowhy.causal_identifier:Frontdoor variables for treatment and outcome:['average_session_length']\n",
      "WARNING:dowhy.causal_identifier:If this is observed data (not from a randomized experiment), there might always be missing confounders. Causal effect cannot be identified perfectly.\n",
      "INFO:dowhy.causal_identifier:Continuing by ignoring these unobserved confounders because proceed_when_unidentifiable flag is True.\n",
      "WARNING:dowhy.causal_identifier:If this is observed data (not from a randomized experiment), there might always be missing confounders. Causal effect cannot be identified perfectly.\n",
      "INFO:dowhy.causal_identifier:Continuing by ignoring these unobserved confounders because proceed_when_unidentifiable flag is True.\n",
      "INFO:dowhy.causal_estimator:b: basket_amount~sessions+voucher_amount+voucher_percentage+voucher_min_purchase+user_purchased_prior+num_voucher_errors+num_visit_promo_page+trx_is_voucher+num_trx+gmv+num_trx_voucher+voucher_max_amount+is_new+aov+sessions*gmv+sessions*aov\n",
      "INFO:dowhy.causal_estimator:INFO: Using Linear Regression Estimator\n",
      "ERROR:dowhy.causal_graph:Error: Pygraphviz cannot be loaded. No module named 'pygraphviz'\n",
      "Trying pydot ...\n",
      "INFO:dowhy.causal_model:Model to find the causal effect of treatment ['average_session_length'] on outcome ['basket_amount']\n",
      "WARNING:dowhy.causal_identifier:If this is observed data (not from a randomized experiment), there might always be missing confounders. Causal effect cannot be identified perfectly.\n",
      "INFO:dowhy.causal_identifier:Continuing by ignoring these unobserved confounders because proceed_when_unidentifiable flag is True.\n",
      "INFO:dowhy.causal_identifier:Instrumental variables for treatment and outcome:[]\n",
      "INFO:dowhy.causal_identifier:Frontdoor variables for treatment and outcome:['purchase_1']\n",
      "WARNING:dowhy.causal_identifier:If this is observed data (not from a randomized experiment), there might always be missing confounders. Causal effect cannot be identified perfectly.\n",
      "INFO:dowhy.causal_identifier:Continuing by ignoring these unobserved confounders because proceed_when_unidentifiable flag is True.\n",
      "INFO:dowhy.causal_identifier:All common causes are observed. Causal effect can be identified.\n",
      "INFO:dowhy.causal_estimator:b: basket_amount~average_session_length+voucher_amount+voucher_percentage+voucher_min_purchase+user_purchased_prior+num_voucher_errors+num_visit_promo_page+trx_is_voucher+num_trx+sessions+gmv+num_trx_voucher+voucher_max_amount+is_new+aov+average_session_length*gmv+average_session_length*aov\n",
      "INFO:dowhy.causal_estimator:INFO: Using Linear Regression Estimator\n",
      "ERROR:dowhy.causal_graph:Error: Pygraphviz cannot be loaded. No module named 'pygraphviz'\n",
      "Trying pydot ...\n",
      "INFO:dowhy.causal_model:Model to find the causal effect of treatment ['num_trx'] on outcome ['basket_amount']\n",
      "WARNING:dowhy.causal_identifier:If this is observed data (not from a randomized experiment), there might always be missing confounders. Causal effect cannot be identified perfectly.\n",
      "INFO:dowhy.causal_identifier:Continuing by ignoring these unobserved confounders because proceed_when_unidentifiable flag is True.\n",
      "INFO:dowhy.causal_identifier:Instrumental variables for treatment and outcome:[]\n",
      "INFO:dowhy.causal_identifier:Frontdoor variables for treatment and outcome:['purchase_1']\n",
      "WARNING:dowhy.causal_identifier:If this is observed data (not from a randomized experiment), there might always be missing confounders. Causal effect cannot be identified perfectly.\n",
      "INFO:dowhy.causal_identifier:Continuing by ignoring these unobserved confounders because proceed_when_unidentifiable flag is True.\n",
      "INFO:dowhy.causal_identifier:All common causes are observed. Causal effect can be identified.\n",
      "INFO:dowhy.causal_estimator:b: basket_amount~num_trx+voucher_amount+voucher_percentage+voucher_min_purchase+user_purchased_prior+num_voucher_errors+num_visit_promo_page+trx_is_voucher+sessions+gmv+average_session_length+num_trx_voucher+voucher_max_amount+is_new+aov+num_trx*gmv+num_trx*aov\n",
      "INFO:dowhy.causal_estimator:INFO: Using Linear Regression Estimator\n",
      "ERROR:dowhy.causal_graph:Error: Pygraphviz cannot be loaded. No module named 'pygraphviz'\n",
      "Trying pydot ...\n",
      "INFO:dowhy.causal_model:Model to find the causal effect of treatment ['num_trx_voucher'] on outcome ['basket_amount']\n",
      "WARNING:dowhy.causal_identifier:If this is observed data (not from a randomized experiment), there might always be missing confounders. Causal effect cannot be identified perfectly.\n",
      "INFO:dowhy.causal_identifier:Continuing by ignoring these unobserved confounders because proceed_when_unidentifiable flag is True.\n",
      "INFO:dowhy.causal_identifier:Instrumental variables for treatment and outcome:[]\n",
      "INFO:dowhy.causal_identifier:Frontdoor variables for treatment and outcome:['trx_is_voucher']\n",
      "WARNING:dowhy.causal_identifier:If this is observed data (not from a randomized experiment), there might always be missing confounders. Causal effect cannot be identified perfectly.\n",
      "INFO:dowhy.causal_identifier:Continuing by ignoring these unobserved confounders because proceed_when_unidentifiable flag is True.\n",
      "WARNING:dowhy.causal_identifier:If this is observed data (not from a randomized experiment), there might always be missing confounders. Causal effect cannot be identified perfectly.\n",
      "INFO:dowhy.causal_identifier:Continuing by ignoring these unobserved confounders because proceed_when_unidentifiable flag is True.\n",
      "INFO:dowhy.causal_estimator:b: basket_amount~num_trx_voucher+voucher_amount+voucher_percentage+voucher_min_purchase+user_purchased_prior+num_voucher_errors+num_visit_promo_page+num_trx+sessions+gmv+average_session_length+voucher_max_amount+is_new+aov+num_trx_voucher*gmv+num_trx_voucher*aov\n",
      "INFO:dowhy.causal_estimator:INFO: Using Linear Regression Estimator\n",
      "ERROR:dowhy.causal_graph:Error: Pygraphviz cannot be loaded. No module named 'pygraphviz'\n",
      "Trying pydot ...\n",
      "INFO:dowhy.causal_model:Model to find the causal effect of treatment ['gmv'] on outcome ['basket_amount']\n",
      "WARNING:dowhy.causal_identifier:If this is observed data (not from a randomized experiment), there might always be missing confounders. Causal effect cannot be identified perfectly.\n",
      "INFO:dowhy.causal_identifier:Continuing by ignoring these unobserved confounders because proceed_when_unidentifiable flag is True.\n",
      "INFO:dowhy.causal_identifier:Instrumental variables for treatment and outcome:[]\n",
      "INFO:dowhy.causal_identifier:Frontdoor variables for treatment and outcome:[]\n",
      "INFO:dowhy.causal_estimator:b: basket_amount~gmv+voucher_amount+voucher_percentage+voucher_min_purchase+user_purchased_prior+num_voucher_errors+num_visit_promo_page+trx_is_voucher+num_trx+sessions+average_session_length+num_trx_voucher+voucher_max_amount+is_new+aov+gmv*aov\n",
      "INFO:dowhy.causal_estimator:INFO: Using Linear Regression Estimator\n",
      "ERROR:dowhy.causal_graph:Error: Pygraphviz cannot be loaded. No module named 'pygraphviz'\n",
      "Trying pydot ...\n",
      "INFO:dowhy.causal_model:Model to find the causal effect of treatment ['aov'] on outcome ['basket_amount']\n",
      "WARNING:dowhy.causal_identifier:If this is observed data (not from a randomized experiment), there might always be missing confounders. Causal effect cannot be identified perfectly.\n",
      "INFO:dowhy.causal_identifier:Continuing by ignoring these unobserved confounders because proceed_when_unidentifiable flag is True.\n",
      "INFO:dowhy.causal_identifier:Instrumental variables for treatment and outcome:[]\n",
      "INFO:dowhy.causal_identifier:Frontdoor variables for treatment and outcome:[]\n",
      "INFO:dowhy.causal_estimator:b: basket_amount~aov+voucher_amount+voucher_percentage+voucher_min_purchase+user_purchased_prior+num_voucher_errors+trx_is_voucher+num_visit_promo_page+num_trx+sessions+gmv+average_session_length+num_trx_voucher+voucher_max_amount+is_new+aov*gmv\n",
      "INFO:dowhy.causal_estimator:INFO: Using Linear Regression Estimator\n",
      "ERROR:dowhy.causal_graph:Error: Pygraphviz cannot be loaded. No module named 'pygraphviz'\n",
      "Trying pydot ...\n",
      "INFO:dowhy.causal_model:Model to find the causal effect of treatment ['num_visit_promo_page'] on outcome ['basket_amount']\n",
      "WARNING:dowhy.causal_identifier:If this is observed data (not from a randomized experiment), there might always be missing confounders. Causal effect cannot be identified perfectly.\n",
      "INFO:dowhy.causal_identifier:Continuing by ignoring these unobserved confounders because proceed_when_unidentifiable flag is True.\n",
      "INFO:dowhy.causal_identifier:Instrumental variables for treatment and outcome:[]\n",
      "INFO:dowhy.causal_identifier:Frontdoor variables for treatment and outcome:['num_trx_voucher']\n",
      "WARNING:dowhy.causal_identifier:If this is observed data (not from a randomized experiment), there might always be missing confounders. Causal effect cannot be identified perfectly.\n",
      "INFO:dowhy.causal_identifier:Continuing by ignoring these unobserved confounders because proceed_when_unidentifiable flag is True.\n",
      "WARNING:dowhy.causal_identifier:If this is observed data (not from a randomized experiment), there might always be missing confounders. Causal effect cannot be identified perfectly.\n",
      "INFO:dowhy.causal_identifier:Continuing by ignoring these unobserved confounders because proceed_when_unidentifiable flag is True.\n",
      "INFO:dowhy.causal_estimator:b: basket_amount~num_visit_promo_page+voucher_amount+voucher_percentage+voucher_min_purchase+user_purchased_prior+num_voucher_errors+num_trx+sessions+gmv+average_session_length+voucher_max_amount+is_new+aov+num_visit_promo_page*gmv+num_visit_promo_page*aov\n",
      "INFO:dowhy.causal_estimator:INFO: Using Linear Regression Estimator\n",
      "ERROR:dowhy.causal_graph:Error: Pygraphviz cannot be loaded. No module named 'pygraphviz'\n",
      "Trying pydot ...\n",
      "INFO:dowhy.causal_model:Model to find the causal effect of treatment ['voucher_max_amount'] on outcome ['basket_amount']\n",
      "WARNING:dowhy.causal_identifier:If this is observed data (not from a randomized experiment), there might always be missing confounders. Causal effect cannot be identified perfectly.\n",
      "INFO:dowhy.causal_identifier:Continuing by ignoring these unobserved confounders because proceed_when_unidentifiable flag is True.\n",
      "INFO:dowhy.causal_identifier:Instrumental variables for treatment and outcome:[]\n",
      "INFO:dowhy.causal_identifier:Frontdoor variables for treatment and outcome:['trx_is_voucher']\n",
      "WARNING:dowhy.causal_identifier:If this is observed data (not from a randomized experiment), there might always be missing confounders. Causal effect cannot be identified perfectly.\n",
      "INFO:dowhy.causal_identifier:Continuing by ignoring these unobserved confounders because proceed_when_unidentifiable flag is True.\n",
      "WARNING:dowhy.causal_identifier:If this is observed data (not from a randomized experiment), there might always be missing confounders. Causal effect cannot be identified perfectly.\n",
      "INFO:dowhy.causal_identifier:Continuing by ignoring these unobserved confounders because proceed_when_unidentifiable flag is True.\n",
      "INFO:dowhy.causal_estimator:b: basket_amount~voucher_max_amount+voucher_amount+voucher_percentage+voucher_min_purchase+user_purchased_prior+num_voucher_errors+num_visit_promo_page+num_trx+sessions+gmv+average_session_length+num_trx_voucher+is_new+aov+voucher_max_amount*user_purchased_prior+voucher_max_amount*gmv+voucher_max_amount*aov\n",
      "INFO:dowhy.causal_estimator:INFO: Using Linear Regression Estimator\n",
      "ERROR:dowhy.causal_graph:Error: Pygraphviz cannot be loaded. No module named 'pygraphviz'\n",
      "Trying pydot ...\n",
      "INFO:dowhy.causal_model:Model to find the causal effect of treatment ['voucher_percentage'] on outcome ['basket_amount']\n",
      "WARNING:dowhy.causal_identifier:If this is observed data (not from a randomized experiment), there might always be missing confounders. Causal effect cannot be identified perfectly.\n",
      "INFO:dowhy.causal_identifier:Continuing by ignoring these unobserved confounders because proceed_when_unidentifiable flag is True.\n",
      "INFO:dowhy.causal_identifier:Instrumental variables for treatment and outcome:[]\n",
      "INFO:dowhy.causal_identifier:Frontdoor variables for treatment and outcome:['trx_is_voucher']\n",
      "WARNING:dowhy.causal_identifier:If this is observed data (not from a randomized experiment), there might always be missing confounders. Causal effect cannot be identified perfectly.\n",
      "INFO:dowhy.causal_identifier:Continuing by ignoring these unobserved confounders because proceed_when_unidentifiable flag is True.\n",
      "WARNING:dowhy.causal_identifier:If this is observed data (not from a randomized experiment), there might always be missing confounders. Causal effect cannot be identified perfectly.\n",
      "INFO:dowhy.causal_identifier:Continuing by ignoring these unobserved confounders because proceed_when_unidentifiable flag is True.\n",
      "INFO:dowhy.causal_estimator:b: basket_amount~voucher_percentage+voucher_amount+voucher_min_purchase+user_purchased_prior+num_voucher_errors+num_visit_promo_page+num_trx+sessions+gmv+average_session_length+num_trx_voucher+voucher_max_amount+is_new+aov+voucher_percentage*user_purchased_prior+voucher_percentage*gmv+voucher_percentage*aov\n",
      "INFO:dowhy.causal_estimator:INFO: Using Linear Regression Estimator\n",
      "ERROR:dowhy.causal_graph:Error: Pygraphviz cannot be loaded. No module named 'pygraphviz'\n",
      "Trying pydot ...\n",
      "INFO:dowhy.causal_model:Model to find the causal effect of treatment ['voucher_min_purchase'] on outcome ['basket_amount']\n",
      "WARNING:dowhy.causal_identifier:If this is observed data (not from a randomized experiment), there might always be missing confounders. Causal effect cannot be identified perfectly.\n",
      "INFO:dowhy.causal_identifier:Continuing by ignoring these unobserved confounders because proceed_when_unidentifiable flag is True.\n",
      "INFO:dowhy.causal_identifier:Instrumental variables for treatment and outcome:[]\n",
      "INFO:dowhy.causal_identifier:Frontdoor variables for treatment and outcome:['trx_is_voucher']\n",
      "WARNING:dowhy.causal_identifier:If this is observed data (not from a randomized experiment), there might always be missing confounders. Causal effect cannot be identified perfectly.\n",
      "INFO:dowhy.causal_identifier:Continuing by ignoring these unobserved confounders because proceed_when_unidentifiable flag is True.\n",
      "WARNING:dowhy.causal_identifier:If this is observed data (not from a randomized experiment), there might always be missing confounders. Causal effect cannot be identified perfectly.\n",
      "INFO:dowhy.causal_identifier:Continuing by ignoring these unobserved confounders because proceed_when_unidentifiable flag is True.\n",
      "INFO:dowhy.causal_estimator:b: basket_amount~voucher_min_purchase+voucher_amount+voucher_percentage+user_purchased_prior+num_voucher_errors+num_visit_promo_page+num_trx+sessions+gmv+average_session_length+num_trx_voucher+voucher_max_amount+is_new+aov+voucher_min_purchase*user_purchased_prior+voucher_min_purchase*gmv+voucher_min_purchase*aov\n",
      "INFO:dowhy.causal_estimator:INFO: Using Linear Regression Estimator\n",
      "ERROR:dowhy.causal_graph:Error: Pygraphviz cannot be loaded. No module named 'pygraphviz'\n",
      "Trying pydot ...\n",
      "INFO:dowhy.causal_model:Model to find the causal effect of treatment ['voucher_amount'] on outcome ['basket_amount']\n",
      "WARNING:dowhy.causal_identifier:If this is observed data (not from a randomized experiment), there might always be missing confounders. Causal effect cannot be identified perfectly.\n",
      "INFO:dowhy.causal_identifier:Continuing by ignoring these unobserved confounders because proceed_when_unidentifiable flag is True.\n",
      "INFO:dowhy.causal_identifier:Instrumental variables for treatment and outcome:[]\n",
      "INFO:dowhy.causal_identifier:Frontdoor variables for treatment and outcome:['trx_is_voucher']\n",
      "WARNING:dowhy.causal_identifier:If this is observed data (not from a randomized experiment), there might always be missing confounders. Causal effect cannot be identified perfectly.\n",
      "INFO:dowhy.causal_identifier:Continuing by ignoring these unobserved confounders because proceed_when_unidentifiable flag is True.\n",
      "WARNING:dowhy.causal_identifier:If this is observed data (not from a randomized experiment), there might always be missing confounders. Causal effect cannot be identified perfectly.\n",
      "INFO:dowhy.causal_identifier:Continuing by ignoring these unobserved confounders because proceed_when_unidentifiable flag is True.\n",
      "INFO:dowhy.causal_estimator:b: basket_amount~voucher_amount+voucher_percentage+voucher_min_purchase+user_purchased_prior+num_voucher_errors+num_visit_promo_page+num_trx+sessions+gmv+average_session_length+num_trx_voucher+voucher_max_amount+is_new+aov+voucher_amount*user_purchased_prior+voucher_amount*gmv+voucher_amount*aov\n",
      "INFO:dowhy.causal_estimator:INFO: Using Linear Regression Estimator\n",
      "ERROR:dowhy.causal_graph:Error: Pygraphviz cannot be loaded. No module named 'pygraphviz'\n",
      "Trying pydot ...\n",
      "INFO:dowhy.causal_model:Model to find the causal effect of treatment ['num_voucher_errors'] on outcome ['basket_amount']\n",
      "WARNING:dowhy.causal_identifier:If this is observed data (not from a randomized experiment), there might always be missing confounders. Causal effect cannot be identified perfectly.\n",
      "INFO:dowhy.causal_identifier:Continuing by ignoring these unobserved confounders because proceed_when_unidentifiable flag is True.\n",
      "INFO:dowhy.causal_identifier:Instrumental variables for treatment and outcome:[]\n",
      "INFO:dowhy.causal_identifier:Frontdoor variables for treatment and outcome:['trx_is_voucher']\n",
      "WARNING:dowhy.causal_identifier:If this is observed data (not from a randomized experiment), there might always be missing confounders. Causal effect cannot be identified perfectly.\n",
      "INFO:dowhy.causal_identifier:Continuing by ignoring these unobserved confounders because proceed_when_unidentifiable flag is True.\n",
      "WARNING:dowhy.causal_identifier:If this is observed data (not from a randomized experiment), there might always be missing confounders. Causal effect cannot be identified perfectly.\n",
      "INFO:dowhy.causal_identifier:Continuing by ignoring these unobserved confounders because proceed_when_unidentifiable flag is True.\n",
      "INFO:dowhy.causal_estimator:b: basket_amount~num_voucher_errors+voucher_amount+voucher_percentage+voucher_min_purchase+user_purchased_prior+num_visit_promo_page+num_trx+sessions+gmv+average_session_length+num_trx_voucher+voucher_max_amount+is_new+aov+num_voucher_errors*user_purchased_prior+num_voucher_errors*gmv+num_voucher_errors*aov\n",
      "INFO:dowhy.causal_estimator:INFO: Using Linear Regression Estimator\n"
     ]
    }
   ],
   "source": [
    "feat_2 = []\n",
    "est_2 = []\n",
    "\n",
    "for col in training:\n",
    "    if col != 'basket_amount':\n",
    "        feat_2.append(str(col))\n",
    "        df_result_2 = pd.DataFrame(feat_2)\n",
    "        \n",
    "        model= CausalModel(\n",
    "                data = training,\n",
    "                graph=causal_graph.replace(\"\\n\", \" \"),\n",
    "                treatment=col,\n",
    "                outcome='basket_amount')\n",
    "        \n",
    "        identified_estimand = model.identify_effect(proceed_when_unidentifiable=True)\n",
    "        \n",
    "        estimate = model.estimate_effect(identified_estimand, method_name=\"backdoor.linear_regression\", test_significance=True)\n",
    "        \n",
    "        est_2.append(str(estimate.value))\n",
    "        df_result_2['estimated_impact'] = est_2"
   ]
  },
  {
   "cell_type": "code",
   "execution_count": 21,
   "metadata": {},
   "outputs": [],
   "source": [
    "df_result_2.to_csv('basket_amount_causation.csv', index=False)"
   ]
  },
  {
   "cell_type": "code",
   "execution_count": 34,
   "metadata": {},
   "outputs": [
    {
     "data": {
      "text/html": [
       "<div>\n",
       "<style scoped>\n",
       "    .dataframe tbody tr th:only-of-type {\n",
       "        vertical-align: middle;\n",
       "    }\n",
       "\n",
       "    .dataframe tbody tr th {\n",
       "        vertical-align: top;\n",
       "    }\n",
       "\n",
       "    .dataframe thead th {\n",
       "        text-align: right;\n",
       "    }\n",
       "</style>\n",
       "<table border=\"1\" class=\"dataframe\">\n",
       "  <thead>\n",
       "    <tr style=\"text-align: right;\">\n",
       "      <th></th>\n",
       "      <th>0</th>\n",
       "      <th>estimated_impact</th>\n",
       "    </tr>\n",
       "  </thead>\n",
       "  <tbody>\n",
       "    <tr>\n",
       "      <th>0</th>\n",
       "      <td>purchase_1</td>\n",
       "      <td>None</td>\n",
       "    </tr>\n",
       "    <tr>\n",
       "      <th>1</th>\n",
       "      <td>is_new</td>\n",
       "      <td>-8.840468685578411e-05</td>\n",
       "    </tr>\n",
       "    <tr>\n",
       "      <th>2</th>\n",
       "      <td>trx_is_voucher</td>\n",
       "      <td>-7.326114666469873e-05</td>\n",
       "    </tr>\n",
       "    <tr>\n",
       "      <th>3</th>\n",
       "      <td>user_purchased_prior</td>\n",
       "      <td>2.05432185167448e-06</td>\n",
       "    </tr>\n",
       "    <tr>\n",
       "      <th>4</th>\n",
       "      <td>sessions</td>\n",
       "      <td>0.0008621137489466866</td>\n",
       "    </tr>\n",
       "    <tr>\n",
       "      <th>5</th>\n",
       "      <td>average_session_length</td>\n",
       "      <td>0.0024251852462489716</td>\n",
       "    </tr>\n",
       "    <tr>\n",
       "      <th>6</th>\n",
       "      <td>num_trx</td>\n",
       "      <td>-0.005505419956578575</td>\n",
       "    </tr>\n",
       "    <tr>\n",
       "      <th>7</th>\n",
       "      <td>num_trx_voucher</td>\n",
       "      <td>-0.0026102418893099266</td>\n",
       "    </tr>\n",
       "    <tr>\n",
       "      <th>8</th>\n",
       "      <td>gmv</td>\n",
       "      <td>-0.09276150695554479</td>\n",
       "    </tr>\n",
       "    <tr>\n",
       "      <th>9</th>\n",
       "      <td>aov</td>\n",
       "      <td>0.07860787519714438</td>\n",
       "    </tr>\n",
       "    <tr>\n",
       "      <th>10</th>\n",
       "      <td>num_visit_promo_page</td>\n",
       "      <td>0.0008242431802369495</td>\n",
       "    </tr>\n",
       "    <tr>\n",
       "      <th>11</th>\n",
       "      <td>voucher_max_amount</td>\n",
       "      <td>-0.00012125694784414214</td>\n",
       "    </tr>\n",
       "    <tr>\n",
       "      <th>12</th>\n",
       "      <td>voucher_percentage</td>\n",
       "      <td>-6.128654985028758e-06</td>\n",
       "    </tr>\n",
       "    <tr>\n",
       "      <th>13</th>\n",
       "      <td>voucher_min_purchase</td>\n",
       "      <td>0.011388060802456464</td>\n",
       "    </tr>\n",
       "    <tr>\n",
       "      <th>14</th>\n",
       "      <td>voucher_amount</td>\n",
       "      <td>0.0030997587288821137</td>\n",
       "    </tr>\n",
       "    <tr>\n",
       "      <th>15</th>\n",
       "      <td>num_voucher_errors</td>\n",
       "      <td>5.429958952317095e-06</td>\n",
       "    </tr>\n",
       "  </tbody>\n",
       "</table>\n",
       "</div>"
      ],
      "text/plain": [
       "                         0         estimated_impact\n",
       "0               purchase_1                     None\n",
       "1                   is_new   -8.840468685578411e-05\n",
       "2           trx_is_voucher   -7.326114666469873e-05\n",
       "3     user_purchased_prior     2.05432185167448e-06\n",
       "4                 sessions    0.0008621137489466866\n",
       "5   average_session_length    0.0024251852462489716\n",
       "6                  num_trx    -0.005505419956578575\n",
       "7          num_trx_voucher   -0.0026102418893099266\n",
       "8                      gmv     -0.09276150695554479\n",
       "9                      aov      0.07860787519714438\n",
       "10    num_visit_promo_page    0.0008242431802369495\n",
       "11      voucher_max_amount  -0.00012125694784414214\n",
       "12      voucher_percentage   -6.128654985028758e-06\n",
       "13    voucher_min_purchase     0.011388060802456464\n",
       "14          voucher_amount    0.0030997587288821137\n",
       "15      num_voucher_errors    5.429958952317095e-06"
      ]
     },
     "execution_count": 34,
     "metadata": {},
     "output_type": "execute_result"
    }
   ],
   "source": [
    "df_result_2"
   ]
  },
  {
   "cell_type": "markdown",
   "metadata": {},
   "source": [
    "Deleting 'None' row"
   ]
  },
  {
   "cell_type": "code",
   "execution_count": 39,
   "metadata": {},
   "outputs": [],
   "source": [
    "df_result_3 = df_result_2.drop(0)"
   ]
  },
  {
   "cell_type": "markdown",
   "metadata": {},
   "source": [
    "Code above will loop through all of the selected features and calculate its impact on purchase"
   ]
  },
  {
   "cell_type": "code",
   "execution_count": 41,
   "metadata": {},
   "outputs": [
    {
     "data": {
      "text/html": [
       "<div>\n",
       "<style scoped>\n",
       "    .dataframe tbody tr th:only-of-type {\n",
       "        vertical-align: middle;\n",
       "    }\n",
       "\n",
       "    .dataframe tbody tr th {\n",
       "        vertical-align: top;\n",
       "    }\n",
       "\n",
       "    .dataframe thead th {\n",
       "        text-align: right;\n",
       "    }\n",
       "</style>\n",
       "<table border=\"1\" class=\"dataframe\">\n",
       "  <thead>\n",
       "    <tr style=\"text-align: right;\">\n",
       "      <th></th>\n",
       "      <th>0</th>\n",
       "      <th>estimated_impact</th>\n",
       "    </tr>\n",
       "  </thead>\n",
       "  <tbody>\n",
       "    <tr>\n",
       "      <th>0</th>\n",
       "      <td>aov</td>\n",
       "      <td>0.078608</td>\n",
       "    </tr>\n",
       "    <tr>\n",
       "      <th>1</th>\n",
       "      <td>voucher_min_purchase</td>\n",
       "      <td>0.011388</td>\n",
       "    </tr>\n",
       "    <tr>\n",
       "      <th>2</th>\n",
       "      <td>voucher_amount</td>\n",
       "      <td>0.003100</td>\n",
       "    </tr>\n",
       "    <tr>\n",
       "      <th>3</th>\n",
       "      <td>average_session_length</td>\n",
       "      <td>0.002425</td>\n",
       "    </tr>\n",
       "    <tr>\n",
       "      <th>4</th>\n",
       "      <td>sessions</td>\n",
       "      <td>0.000862</td>\n",
       "    </tr>\n",
       "    <tr>\n",
       "      <th>5</th>\n",
       "      <td>num_visit_promo_page</td>\n",
       "      <td>0.000824</td>\n",
       "    </tr>\n",
       "    <tr>\n",
       "      <th>6</th>\n",
       "      <td>num_voucher_errors</td>\n",
       "      <td>0.000005</td>\n",
       "    </tr>\n",
       "    <tr>\n",
       "      <th>7</th>\n",
       "      <td>user_purchased_prior</td>\n",
       "      <td>0.000002</td>\n",
       "    </tr>\n",
       "    <tr>\n",
       "      <th>8</th>\n",
       "      <td>voucher_percentage</td>\n",
       "      <td>-0.000006</td>\n",
       "    </tr>\n",
       "    <tr>\n",
       "      <th>9</th>\n",
       "      <td>trx_is_voucher</td>\n",
       "      <td>-0.000073</td>\n",
       "    </tr>\n",
       "    <tr>\n",
       "      <th>10</th>\n",
       "      <td>is_new</td>\n",
       "      <td>-0.000088</td>\n",
       "    </tr>\n",
       "    <tr>\n",
       "      <th>11</th>\n",
       "      <td>voucher_max_amount</td>\n",
       "      <td>-0.000121</td>\n",
       "    </tr>\n",
       "    <tr>\n",
       "      <th>12</th>\n",
       "      <td>num_trx_voucher</td>\n",
       "      <td>-0.002610</td>\n",
       "    </tr>\n",
       "    <tr>\n",
       "      <th>13</th>\n",
       "      <td>num_trx</td>\n",
       "      <td>-0.005505</td>\n",
       "    </tr>\n",
       "    <tr>\n",
       "      <th>14</th>\n",
       "      <td>gmv</td>\n",
       "      <td>-0.092762</td>\n",
       "    </tr>\n",
       "  </tbody>\n",
       "</table>\n",
       "</div>"
      ],
      "text/plain": [
       "                         0  estimated_impact\n",
       "0                      aov          0.078608\n",
       "1     voucher_min_purchase          0.011388\n",
       "2           voucher_amount          0.003100\n",
       "3   average_session_length          0.002425\n",
       "4                 sessions          0.000862\n",
       "5     num_visit_promo_page          0.000824\n",
       "6       num_voucher_errors          0.000005\n",
       "7     user_purchased_prior          0.000002\n",
       "8       voucher_percentage         -0.000006\n",
       "9           trx_is_voucher         -0.000073\n",
       "10                  is_new         -0.000088\n",
       "11      voucher_max_amount         -0.000121\n",
       "12         num_trx_voucher         -0.002610\n",
       "13                 num_trx         -0.005505\n",
       "14                     gmv         -0.092762"
      ]
     },
     "execution_count": 41,
     "metadata": {},
     "output_type": "execute_result"
    }
   ],
   "source": [
    "df_result_3['estimated_impact'] = pd.to_numeric(df_result_3['estimated_impact'])\n",
    "df_result_3.sort_values(by='estimated_impact', ascending=False, ignore_index=True)"
   ]
  },
  {
   "cell_type": "markdown",
   "metadata": {},
   "source": [
    "### Answer for Question 2:\n",
    "\n",
    "Top 5 most impactful features on basket amount are:\n",
    "1. AOV -> The impact of AOV on Basket Amount is 7%\n",
    "2. Voucher Minimum Purchase -> The impact of Voucher Minimum Purchase on Basket Amount is 1.1%\n",
    "3. Voucher Amount -> The impact of Voucher Amount on Basket Amount is 0.3%\n",
    "4. Average sessions length -> The impact of Average sessions length on Basket Amount is 0.24%\n",
    "5. Sessions -> The impact of Sessions on Basket Amount is 0.08%"
   ]
  },
  {
   "cell_type": "markdown",
   "metadata": {},
   "source": [
    "Based on those features, we can only control the voucher minimum purchase, and voucher amount"
   ]
  },
  {
   "cell_type": "markdown",
   "metadata": {},
   "source": [
    "#### Using the DoWhy package, we could test our assumption validity via multiple robustness checks.\n",
    "\n",
    "We will be using random common cause validity test. Random common cause add an independent random variable as a common cause to the dataset; If the assumption was correct, the estimation should not change.\n",
    "\n",
    "We will only be using one validity test due to high run time for each tests"
   ]
  },
  {
   "cell_type": "markdown",
   "metadata": {},
   "source": [
    "### 3.2.1 Voucher minimum purchase assumption validity test"
   ]
  },
  {
   "cell_type": "code",
   "execution_count": 42,
   "metadata": {},
   "outputs": [
    {
     "name": "stderr",
     "output_type": "stream",
     "text": [
      "ERROR:dowhy.causal_graph:Error: Pygraphviz cannot be loaded. No module named 'pygraphviz'\n",
      "Trying pydot ...\n",
      "INFO:dowhy.causal_model:Model to find the causal effect of treatment ['voucher_min_purchase'] on outcome ['basket_amount']\n"
     ]
    }
   ],
   "source": [
    "model= CausalModel(\n",
    "        data = training,\n",
    "        graph=causal_graph.replace(\"\\n\", \" \"),\n",
    "        treatment='voucher_min_purchase',\n",
    "        outcome='basket_amount')"
   ]
  },
  {
   "cell_type": "code",
   "execution_count": 43,
   "metadata": {},
   "outputs": [
    {
     "name": "stderr",
     "output_type": "stream",
     "text": [
      "WARNING:dowhy.causal_identifier:If this is observed data (not from a randomized experiment), there might always be missing confounders. Causal effect cannot be identified perfectly.\n",
      "INFO:dowhy.causal_identifier:Continuing by ignoring these unobserved confounders because proceed_when_unidentifiable flag is True.\n",
      "INFO:dowhy.causal_identifier:Instrumental variables for treatment and outcome:[]\n",
      "INFO:dowhy.causal_identifier:Frontdoor variables for treatment and outcome:['trx_is_voucher']\n",
      "WARNING:dowhy.causal_identifier:If this is observed data (not from a randomized experiment), there might always be missing confounders. Causal effect cannot be identified perfectly.\n",
      "INFO:dowhy.causal_identifier:Continuing by ignoring these unobserved confounders because proceed_when_unidentifiable flag is True.\n",
      "WARNING:dowhy.causal_identifier:If this is observed data (not from a randomized experiment), there might always be missing confounders. Causal effect cannot be identified perfectly.\n",
      "INFO:dowhy.causal_identifier:Continuing by ignoring these unobserved confounders because proceed_when_unidentifiable flag is True.\n"
     ]
    }
   ],
   "source": [
    "identified_estimand = model.identify_effect(proceed_when_unidentifiable=True)"
   ]
  },
  {
   "cell_type": "code",
   "execution_count": 44,
   "metadata": {},
   "outputs": [
    {
     "name": "stderr",
     "output_type": "stream",
     "text": [
      "INFO:dowhy.causal_estimator:b: basket_amount~voucher_min_purchase+voucher_amount+voucher_percentage+user_purchased_prior+num_voucher_errors+num_visit_promo_page+num_trx+sessions+gmv+average_session_length+num_trx_voucher+voucher_max_amount+is_new+aov+voucher_min_purchase*user_purchased_prior+voucher_min_purchase*gmv+voucher_min_purchase*aov\n",
      "INFO:dowhy.causal_estimator:INFO: Using Linear Regression Estimator\n"
     ]
    }
   ],
   "source": [
    "estimate = model.estimate_effect(identified_estimand, method_name=\"backdoor.linear_regression\", test_significance=True)"
   ]
  },
  {
   "cell_type": "markdown",
   "metadata": {},
   "source": [
    "#### Random common cause"
   ]
  },
  {
   "cell_type": "code",
   "execution_count": 45,
   "metadata": {},
   "outputs": [
    {
     "name": "stderr",
     "output_type": "stream",
     "text": [
      "INFO:dowhy.causal_estimator:b: basket_amount~voucher_min_purchase+voucher_amount+voucher_percentage+user_purchased_prior+num_voucher_errors+num_visit_promo_page+num_trx+sessions+gmv+average_session_length+num_trx_voucher+voucher_max_amount+is_new+aov+w_random+voucher_min_purchase*user_purchased_prior+voucher_min_purchase*gmv+voucher_min_purchase*aov\n",
      "INFO:dowhy.causal_estimator:INFO: Using Linear Regression Estimator\n"
     ]
    },
    {
     "name": "stdout",
     "output_type": "stream",
     "text": [
      "Refute: Add a Random Common Cause\n",
      "Estimated effect:0.011388060802456464\n",
      "New effect:0.011394075438099865\n",
      "\n"
     ]
    }
   ],
   "source": [
    "refutel = model.refute_estimate(identified_estimand,estimate, \"random_common_cause\")\n",
    "print(refutel)"
   ]
  },
  {
   "cell_type": "markdown",
   "metadata": {},
   "source": [
    "It seems based on the refutal method; we could agree that our assumption was correct that the Voucher minimum purchase had a causal effect on the purchase."
   ]
  },
  {
   "cell_type": "markdown",
   "metadata": {},
   "source": [
    "### 3.2.2 Voucher amount assumption validity test"
   ]
  },
  {
   "cell_type": "code",
   "execution_count": 46,
   "metadata": {},
   "outputs": [
    {
     "name": "stderr",
     "output_type": "stream",
     "text": [
      "ERROR:dowhy.causal_graph:Error: Pygraphviz cannot be loaded. No module named 'pygraphviz'\n",
      "Trying pydot ...\n",
      "INFO:dowhy.causal_model:Model to find the causal effect of treatment ['voucher_amount'] on outcome ['basket_amount']\n"
     ]
    }
   ],
   "source": [
    "model= CausalModel(\n",
    "        data = training,\n",
    "        graph=causal_graph.replace(\"\\n\", \" \"),\n",
    "        treatment='voucher_amount',\n",
    "        outcome='basket_amount')"
   ]
  },
  {
   "cell_type": "code",
   "execution_count": 47,
   "metadata": {},
   "outputs": [
    {
     "name": "stderr",
     "output_type": "stream",
     "text": [
      "WARNING:dowhy.causal_identifier:If this is observed data (not from a randomized experiment), there might always be missing confounders. Causal effect cannot be identified perfectly.\n",
      "INFO:dowhy.causal_identifier:Continuing by ignoring these unobserved confounders because proceed_when_unidentifiable flag is True.\n",
      "INFO:dowhy.causal_identifier:Instrumental variables for treatment and outcome:[]\n",
      "INFO:dowhy.causal_identifier:Frontdoor variables for treatment and outcome:['trx_is_voucher']\n",
      "WARNING:dowhy.causal_identifier:If this is observed data (not from a randomized experiment), there might always be missing confounders. Causal effect cannot be identified perfectly.\n",
      "INFO:dowhy.causal_identifier:Continuing by ignoring these unobserved confounders because proceed_when_unidentifiable flag is True.\n",
      "WARNING:dowhy.causal_identifier:If this is observed data (not from a randomized experiment), there might always be missing confounders. Causal effect cannot be identified perfectly.\n",
      "INFO:dowhy.causal_identifier:Continuing by ignoring these unobserved confounders because proceed_when_unidentifiable flag is True.\n"
     ]
    }
   ],
   "source": [
    "identified_estimand = model.identify_effect(proceed_when_unidentifiable=True)"
   ]
  },
  {
   "cell_type": "code",
   "execution_count": 48,
   "metadata": {},
   "outputs": [
    {
     "name": "stderr",
     "output_type": "stream",
     "text": [
      "INFO:dowhy.causal_estimator:b: basket_amount~voucher_amount+voucher_percentage+voucher_min_purchase+user_purchased_prior+num_voucher_errors+num_visit_promo_page+num_trx+sessions+gmv+average_session_length+num_trx_voucher+voucher_max_amount+is_new+aov+voucher_amount*user_purchased_prior+voucher_amount*gmv+voucher_amount*aov\n",
      "INFO:dowhy.causal_estimator:INFO: Using Linear Regression Estimator\n"
     ]
    }
   ],
   "source": [
    "estimate = model.estimate_effect(identified_estimand, method_name=\"backdoor.linear_regression\", test_significance=True)"
   ]
  },
  {
   "cell_type": "markdown",
   "metadata": {},
   "source": [
    "#### Random common cause"
   ]
  },
  {
   "cell_type": "code",
   "execution_count": 49,
   "metadata": {},
   "outputs": [
    {
     "name": "stderr",
     "output_type": "stream",
     "text": [
      "INFO:dowhy.causal_estimator:b: basket_amount~voucher_amount+voucher_percentage+voucher_min_purchase+user_purchased_prior+num_voucher_errors+num_visit_promo_page+num_trx+sessions+gmv+average_session_length+num_trx_voucher+voucher_max_amount+is_new+aov+w_random+voucher_amount*user_purchased_prior+voucher_amount*gmv+voucher_amount*aov\n",
      "INFO:dowhy.causal_estimator:INFO: Using Linear Regression Estimator\n"
     ]
    },
    {
     "name": "stdout",
     "output_type": "stream",
     "text": [
      "Refute: Add a Random Common Cause\n",
      "Estimated effect:0.0030997587288821137\n",
      "New effect:0.0030995059457742105\n",
      "\n"
     ]
    }
   ],
   "source": [
    "refutel = model.refute_estimate(identified_estimand,estimate, \"random_common_cause\")\n",
    "print(refutel)"
   ]
  },
  {
   "cell_type": "markdown",
   "metadata": {},
   "source": [
    "It seems based on the refutal method; we could agree that our assumption was correct that the Voucher minimum purchase had a causal effect on the purchase."
   ]
  },
  {
   "cell_type": "markdown",
   "metadata": {},
   "source": [
    " "
   ]
  },
  {
   "cell_type": "markdown",
   "metadata": {},
   "source": [
    " ### Conclusion:\n",
    " \n",
    "Factors that affect both purchase and basket amount is: Voucher minimum purchase and Voucher amount.\n",
    "\n",
    "Based on this result that we get from DoWhy, we can improve the purchase and basket amount by decreasing the voucher minimum purchase and increasing the voucher amount. It seems that voucher can lead to better purchase and basket amount, so we need to look deeper into vouchers that are available to consumers and give them more attractive offers regarding vouchers."
   ]
  },
  {
   "cell_type": "markdown",
   "metadata": {},
   "source": [
    " "
   ]
  }
 ],
 "metadata": {
  "kernelspec": {
   "display_name": "Python 3",
   "language": "python",
   "name": "python3"
  },
  "language_info": {
   "codemirror_mode": {
    "name": "ipython",
    "version": 3
   },
   "file_extension": ".py",
   "mimetype": "text/x-python",
   "name": "python",
   "nbconvert_exporter": "python",
   "pygments_lexer": "ipython3",
   "version": "3.8.3"
  }
 },
 "nbformat": 4,
 "nbformat_minor": 4
}
